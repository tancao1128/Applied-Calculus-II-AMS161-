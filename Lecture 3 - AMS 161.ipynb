{
 "cells": [
  {
   "cell_type": "markdown",
   "metadata": {},
   "source": [
    "# Lecture 3: The Definite Integral\n",
    "\n",
    "Example 2.2.4: Evaluate the integral $A = \\displaystyle\\int^3_0(x^3-6x)\\;dx$\n",
    "\n",
    "In order to evaluate the definite integrals, we use the package scipy. We refer to [this link](https://docs.scipy.org/doc/scipy/reference/tutorial/integrate.html) for more infomration. "
   ]
  },
  {
   "cell_type": "code",
   "execution_count": 2,
   "metadata": {},
   "outputs": [],
   "source": [
    "import scipy.integrate as integrate\n",
    "import scipy.special as special"
   ]
  },
  {
   "cell_type": "code",
   "execution_count": 3,
   "metadata": {},
   "outputs": [
    {
     "data": {
      "text/plain": [
       "(-6.750000000000002, 1.252090368016366e-13)"
      ]
     },
     "execution_count": 3,
     "metadata": {},
     "output_type": "execute_result"
    }
   ],
   "source": [
    "# Enter the function you want to integrate\n",
    "f = lambda x: x**3 - 6*x\n",
    "A = integrate.quad(f, 0, 3)\n",
    "A"
   ]
  },
  {
   "cell_type": "code",
   "execution_count": 8,
   "metadata": {},
   "outputs": [],
   "source": [
    "import numpy as np\n",
    "\n",
    "def Riemann_sum(f, a, b, n, alpha):\n",
    "    x = np.zeros(n+1,float) # Initialize the mesh points\n",
    "    h = (b-a)/n             # Calculate the step size\n",
    "    sum = 0                 # Initialize the Riemann Sum \n",
    "    for i in range(n+1):\n",
    "        x[i] = a + i*h\n",
    "    for i in range(n):\n",
    "        sample = (1-alpha)*x[i] + alpha*x[i+1]\n",
    "        sum += f(sample)\n",
    "    return sum*h"
   ]
  },
  {
   "cell_type": "code",
   "execution_count": 9,
   "metadata": {},
   "outputs": [],
   "source": [
    "def Right(f, a, b, n):\n",
    "    return Riemann_sum(f, a, b, n, alpha=1)\n",
    "def Left(f, a, b, n):\n",
    "    return Riemann_sum(f, a, b, n, alpha=0)\n",
    "def Mid(f, a, b, n):\n",
    "    return Riemann_sum(f, a, b, n, alpha=0.5)"
   ]
  },
  {
   "cell_type": "code",
   "execution_count": 10,
   "metadata": {},
   "outputs": [
    {
     "data": {
      "text/plain": [
       "-3.9375"
      ]
     },
     "execution_count": 10,
     "metadata": {},
     "output_type": "execute_result"
    }
   ],
   "source": [
    "R_6 = Right(f, 0, 3, n=6)\n",
    "R_6"
   ]
  },
  {
   "cell_type": "code",
   "execution_count": 11,
   "metadata": {},
   "outputs": [
    {
     "data": {
      "text/plain": [
       "-8.4375"
      ]
     },
     "execution_count": 11,
     "metadata": {},
     "output_type": "execute_result"
    }
   ],
   "source": [
    "L_6 = Left(f, 0, 3, n=6)\n",
    "L_6"
   ]
  },
  {
   "cell_type": "code",
   "execution_count": 12,
   "metadata": {},
   "outputs": [
    {
     "data": {
      "text/plain": [
       "-7.03125"
      ]
     },
     "execution_count": 12,
     "metadata": {},
     "output_type": "execute_result"
    }
   ],
   "source": [
    "M_6 = Mid(f, 0, 3, n=6)\n",
    "M_6"
   ]
  },
  {
   "cell_type": "code",
   "execution_count": 19,
   "metadata": {},
   "outputs": [
    {
     "data": {
      "text/html": [
       "<div>\n",
       "<style scoped>\n",
       "    .dataframe tbody tr th:only-of-type {\n",
       "        vertical-align: middle;\n",
       "    }\n",
       "\n",
       "    .dataframe tbody tr th {\n",
       "        vertical-align: top;\n",
       "    }\n",
       "\n",
       "    .dataframe thead th {\n",
       "        text-align: right;\n",
       "    }\n",
       "</style>\n",
       "<table border=\"1\" class=\"dataframe\">\n",
       "  <thead>\n",
       "    <tr style=\"text-align: right;\">\n",
       "      <th></th>\n",
       "      <th>$n $</th>\n",
       "      <th>$R_n$</th>\n",
       "      <th>$L_n$</th>\n",
       "      <th>$M_n$</th>\n",
       "    </tr>\n",
       "  </thead>\n",
       "  <tbody>\n",
       "    <tr>\n",
       "      <th>0</th>\n",
       "      <td>1</td>\n",
       "      <td>27.000000</td>\n",
       "      <td>0.000000</td>\n",
       "      <td>-16.875000</td>\n",
       "    </tr>\n",
       "    <tr>\n",
       "      <th>1</th>\n",
       "      <td>6</td>\n",
       "      <td>-3.937500</td>\n",
       "      <td>-8.437500</td>\n",
       "      <td>-7.031250</td>\n",
       "    </tr>\n",
       "    <tr>\n",
       "      <th>2</th>\n",
       "      <td>10</td>\n",
       "      <td>-5.197500</td>\n",
       "      <td>-7.897500</td>\n",
       "      <td>-6.851250</td>\n",
       "    </tr>\n",
       "    <tr>\n",
       "      <th>3</th>\n",
       "      <td>20</td>\n",
       "      <td>-6.024375</td>\n",
       "      <td>-7.374375</td>\n",
       "      <td>-6.775313</td>\n",
       "    </tr>\n",
       "    <tr>\n",
       "      <th>4</th>\n",
       "      <td>40</td>\n",
       "      <td>-6.399844</td>\n",
       "      <td>-7.074844</td>\n",
       "      <td>-6.756328</td>\n",
       "    </tr>\n",
       "    <tr>\n",
       "      <th>5</th>\n",
       "      <td>100</td>\n",
       "      <td>-6.612975</td>\n",
       "      <td>-6.882975</td>\n",
       "      <td>-6.751013</td>\n",
       "    </tr>\n",
       "    <tr>\n",
       "      <th>6</th>\n",
       "      <td>500</td>\n",
       "      <td>-6.722919</td>\n",
       "      <td>-6.776919</td>\n",
       "      <td>-6.750040</td>\n",
       "    </tr>\n",
       "    <tr>\n",
       "      <th>7</th>\n",
       "      <td>1000</td>\n",
       "      <td>-6.736480</td>\n",
       "      <td>-6.763480</td>\n",
       "      <td>-6.750010</td>\n",
       "    </tr>\n",
       "    <tr>\n",
       "      <th>8</th>\n",
       "      <td>5000</td>\n",
       "      <td>-6.747299</td>\n",
       "      <td>-6.752699</td>\n",
       "      <td>-6.750000</td>\n",
       "    </tr>\n",
       "  </tbody>\n",
       "</table>\n",
       "</div>"
      ],
      "text/plain": [
       "   $n $      $R_n$     $L_n$      $M_n$\n",
       "0     1  27.000000  0.000000 -16.875000\n",
       "1     6  -3.937500 -8.437500  -7.031250\n",
       "2    10  -5.197500 -7.897500  -6.851250\n",
       "3    20  -6.024375 -7.374375  -6.775313\n",
       "4    40  -6.399844 -7.074844  -6.756328\n",
       "5   100  -6.612975 -6.882975  -6.751013\n",
       "6   500  -6.722919 -6.776919  -6.750040\n",
       "7  1000  -6.736480 -6.763480  -6.750010\n",
       "8  5000  -6.747299 -6.752699  -6.750000"
      ]
     },
     "execution_count": 19,
     "metadata": {},
     "output_type": "execute_result"
    }
   ],
   "source": [
    "from pandas import DataFrame\n",
    "from math import *\n",
    "\n",
    "R = []\n",
    "L = []\n",
    "M = []\n",
    "n = []\n",
    "for index in (1, 6, 10, 20, 40, 100, 500, 1000, 5000):\n",
    "    n.append(index)\n",
    "    R.append(Right(f, 0, 3, index))\n",
    "    L.append(Left(f, 0, 3, index))\n",
    "    M.append(Mid(f, 0, 3, index))\n",
    "    \n",
    "table = {'$n $': n, '$R_n$': R, '$L_n$': L, '$M_n$': M }\n",
    "DataFrame(table)"
   ]
  },
  {
   "cell_type": "markdown",
   "metadata": {},
   "source": [
    "Your turn: Repeat the same process with the following integrals:\n",
    "1. $\\displaystyle\\int^3_1 e^x\\;dx$\n",
    "2. $\\displaystyle\\int^1_0 \\sqrt{1-x^2}\\;dx$"
   ]
  },
  {
   "cell_type": "code",
   "execution_count": 20,
   "metadata": {},
   "outputs": [],
   "source": [
    "# Enter your code here\n",
    "..."
   ]
  }
 ],
 "metadata": {
  "kernelspec": {
   "display_name": "Python 3",
   "language": "python",
   "name": "python3"
  },
  "language_info": {
   "codemirror_mode": {
    "name": "ipython",
    "version": 3
   },
   "file_extension": ".py",
   "mimetype": "text/x-python",
   "name": "python",
   "nbconvert_exporter": "python",
   "pygments_lexer": "ipython3",
   "version": "3.7.3"
  }
 },
 "nbformat": 4,
 "nbformat_minor": 4
}
