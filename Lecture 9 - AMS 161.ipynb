{
 "cells": [
  {
   "cell_type": "markdown",
   "metadata": {},
   "source": [
    "# Lecture 9: Approximation Integration \n",
    "\n",
    "## Example 2.8.1:\n",
    "We first compute $A = \\displaystyle\\int^2_1\\dfrac{1}{x}\\;dx$."
   ]
  },
  {
   "cell_type": "code",
   "execution_count": 1,
   "metadata": {},
   "outputs": [
    {
     "data": {
      "text/plain": [
       "0.693147"
      ]
     },
     "execution_count": 1,
     "metadata": {},
     "output_type": "execute_result"
    }
   ],
   "source": [
    "import scipy.integrate as integrate\n",
    "import scipy.special as special\n",
    "\n",
    "f =  lambda x: 1/x\n",
    "A = integrate.quad(f, 1, 2)[0]\n",
    "round(A,6)"
   ]
  },
  {
   "cell_type": "code",
   "execution_count": 2,
   "metadata": {},
   "outputs": [],
   "source": [
    "import numpy as np\n",
    "\n",
    "def Riemann_sum(f, a, b, n, alpha):\n",
    "    x = np.zeros(n+1,float) # Initialize the mesh points\n",
    "    h = (b-a)/n             # Calculate the step size\n",
    "    sum = 0                 # Initialize the Riemann Sum \n",
    "    for i in range(n+1):\n",
    "        x[i] = a + i*h\n",
    "    for i in range(n):\n",
    "        sample = (1-alpha)*x[i] + alpha*x[i+1]\n",
    "        sum += f(sample)\n",
    "    return sum*h"
   ]
  },
  {
   "cell_type": "code",
   "execution_count": 3,
   "metadata": {},
   "outputs": [],
   "source": [
    "def Right(f, a, b, n):\n",
    "    return Riemann_sum(f, a, b, n, alpha=1)\n",
    "def Left(f, a, b, n):\n",
    "    return Riemann_sum(f, a, b, n, alpha=0)\n",
    "def Mid(f, a, b, n):\n",
    "    return Riemann_sum(f, a, b, n, alpha=0.5)"
   ]
  },
  {
   "cell_type": "code",
   "execution_count": 4,
   "metadata": {},
   "outputs": [
    {
     "data": {
      "text/html": [
       "<div>\n",
       "<style scoped>\n",
       "    .dataframe tbody tr th:only-of-type {\n",
       "        vertical-align: middle;\n",
       "    }\n",
       "\n",
       "    .dataframe tbody tr th {\n",
       "        vertical-align: top;\n",
       "    }\n",
       "\n",
       "    .dataframe thead th {\n",
       "        text-align: right;\n",
       "    }\n",
       "</style>\n",
       "<table border=\"1\" class=\"dataframe\">\n",
       "  <thead>\n",
       "    <tr style=\"text-align: right;\">\n",
       "      <th></th>\n",
       "      <th>$n $</th>\n",
       "      <th>$R_n$</th>\n",
       "      <th>$L_n$</th>\n",
       "      <th>$M_n$</th>\n",
       "      <th>$E_R$</th>\n",
       "      <th>$E_L$</th>\n",
       "      <th>$E_M$</th>\n",
       "    </tr>\n",
       "  </thead>\n",
       "  <tbody>\n",
       "    <tr>\n",
       "      <th>0</th>\n",
       "      <td>2</td>\n",
       "      <td>0.583333</td>\n",
       "      <td>0.833333</td>\n",
       "      <td>0.685714</td>\n",
       "      <td>0.109814</td>\n",
       "      <td>-0.140186</td>\n",
       "      <td>0.007433</td>\n",
       "    </tr>\n",
       "    <tr>\n",
       "      <th>1</th>\n",
       "      <td>4</td>\n",
       "      <td>0.634524</td>\n",
       "      <td>0.759524</td>\n",
       "      <td>0.691220</td>\n",
       "      <td>0.058623</td>\n",
       "      <td>-0.066377</td>\n",
       "      <td>0.001927</td>\n",
       "    </tr>\n",
       "    <tr>\n",
       "      <th>2</th>\n",
       "      <td>10</td>\n",
       "      <td>0.668771</td>\n",
       "      <td>0.718771</td>\n",
       "      <td>0.692835</td>\n",
       "      <td>0.024376</td>\n",
       "      <td>-0.025624</td>\n",
       "      <td>0.000312</td>\n",
       "    </tr>\n",
       "    <tr>\n",
       "      <th>3</th>\n",
       "      <td>20</td>\n",
       "      <td>0.680803</td>\n",
       "      <td>0.705803</td>\n",
       "      <td>0.693069</td>\n",
       "      <td>0.012344</td>\n",
       "      <td>-0.012656</td>\n",
       "      <td>0.000078</td>\n",
       "    </tr>\n",
       "    <tr>\n",
       "      <th>4</th>\n",
       "      <td>40</td>\n",
       "      <td>0.686936</td>\n",
       "      <td>0.699436</td>\n",
       "      <td>0.693128</td>\n",
       "      <td>0.006211</td>\n",
       "      <td>-0.006289</td>\n",
       "      <td>0.000020</td>\n",
       "    </tr>\n",
       "    <tr>\n",
       "      <th>5</th>\n",
       "      <td>80</td>\n",
       "      <td>0.690032</td>\n",
       "      <td>0.696282</td>\n",
       "      <td>0.693142</td>\n",
       "      <td>0.003115</td>\n",
       "      <td>-0.003135</td>\n",
       "      <td>0.000005</td>\n",
       "    </tr>\n",
       "    <tr>\n",
       "      <th>6</th>\n",
       "      <td>100</td>\n",
       "      <td>0.690653</td>\n",
       "      <td>0.695653</td>\n",
       "      <td>0.693144</td>\n",
       "      <td>0.002494</td>\n",
       "      <td>-0.002506</td>\n",
       "      <td>0.000003</td>\n",
       "    </tr>\n",
       "  </tbody>\n",
       "</table>\n",
       "</div>"
      ],
      "text/plain": [
       "   $n $     $R_n$     $L_n$     $M_n$     $E_R$     $E_L$     $E_M$\n",
       "0     2  0.583333  0.833333  0.685714  0.109814 -0.140186  0.007433\n",
       "1     4  0.634524  0.759524  0.691220  0.058623 -0.066377  0.001927\n",
       "2    10  0.668771  0.718771  0.692835  0.024376 -0.025624  0.000312\n",
       "3    20  0.680803  0.705803  0.693069  0.012344 -0.012656  0.000078\n",
       "4    40  0.686936  0.699436  0.693128  0.006211 -0.006289  0.000020\n",
       "5    80  0.690032  0.696282  0.693142  0.003115 -0.003135  0.000005\n",
       "6   100  0.690653  0.695653  0.693144  0.002494 -0.002506  0.000003"
      ]
     },
     "execution_count": 4,
     "metadata": {},
     "output_type": "execute_result"
    }
   ],
   "source": [
    "from pandas import DataFrame\n",
    "from math import *\n",
    "\n",
    "R = []\n",
    "L = []\n",
    "M = []\n",
    "E_R = []\n",
    "E_L = []\n",
    "E_M = []\n",
    "n = []\n",
    "for index in (2, 4, 10, 20, 40, 80, 100):\n",
    "    n.append(index)\n",
    "    R.append(Right(f, 1, 2, index))\n",
    "    L.append(Left(f, 1, 2, index))\n",
    "    M.append(Mid(f, 1, 2, index))\n",
    "    E_R.append(A - Right(f, 1, 2, index))\n",
    "    E_L.append(A - Left(f, 1, 2, index))\n",
    "    E_M.append(A - Mid(f, 1, 2, index))\n",
    "\n",
    "# Convert to Arrays\n",
    "R = np.asarray(R)\n",
    "L = np.asarray(L)\n",
    "M = np.asarray(M)\n",
    "E_R = np.asarray(E_R)\n",
    "E_L = np.asarray(E_L)\n",
    "E_M = np.asarray(E_M)\n",
    "\n",
    "\n",
    "table = {'$n $': n, '$R_n$': R, '$L_n$': L, '$M_n$': M,\n",
    "        '$E_R$': E_R, '$E_L$': E_L, '$E_M$': E_M}\n",
    "DataFrame(table)"
   ]
  },
  {
   "cell_type": "markdown",
   "metadata": {},
   "source": [
    "## Example 2.8.2: \n",
    "\n",
    "We next use Trapezoidal Rule to estimate $A = \\displaystyle\\int^2_1\\dfrac{1}{x}\\;dx$."
   ]
  },
  {
   "cell_type": "code",
   "execution_count": 5,
   "metadata": {},
   "outputs": [],
   "source": [
    "def Trap(f, a, b, n):\n",
    "    return 0.5*Left(f, a, b, n) + 0.5*Right(f, a, b, n)"
   ]
  },
  {
   "cell_type": "code",
   "execution_count": 6,
   "metadata": {},
   "outputs": [
    {
     "data": {
      "text/html": [
       "<div>\n",
       "<style scoped>\n",
       "    .dataframe tbody tr th:only-of-type {\n",
       "        vertical-align: middle;\n",
       "    }\n",
       "\n",
       "    .dataframe tbody tr th {\n",
       "        vertical-align: top;\n",
       "    }\n",
       "\n",
       "    .dataframe thead th {\n",
       "        text-align: right;\n",
       "    }\n",
       "</style>\n",
       "<table border=\"1\" class=\"dataframe\">\n",
       "  <thead>\n",
       "    <tr style=\"text-align: right;\">\n",
       "      <th></th>\n",
       "      <th>$n $</th>\n",
       "      <th>$T_n$</th>\n",
       "      <th>$M_n$</th>\n",
       "      <th>$E_T$</th>\n",
       "      <th>$E_M$</th>\n",
       "    </tr>\n",
       "  </thead>\n",
       "  <tbody>\n",
       "    <tr>\n",
       "      <th>0</th>\n",
       "      <td>2</td>\n",
       "      <td>0.708333</td>\n",
       "      <td>0.685714</td>\n",
       "      <td>-0.015186</td>\n",
       "      <td>0.007433</td>\n",
       "    </tr>\n",
       "    <tr>\n",
       "      <th>1</th>\n",
       "      <td>4</td>\n",
       "      <td>0.697024</td>\n",
       "      <td>0.691220</td>\n",
       "      <td>-0.003877</td>\n",
       "      <td>0.001927</td>\n",
       "    </tr>\n",
       "    <tr>\n",
       "      <th>2</th>\n",
       "      <td>10</td>\n",
       "      <td>0.693771</td>\n",
       "      <td>0.692835</td>\n",
       "      <td>-0.000624</td>\n",
       "      <td>0.000312</td>\n",
       "    </tr>\n",
       "    <tr>\n",
       "      <th>3</th>\n",
       "      <td>20</td>\n",
       "      <td>0.693303</td>\n",
       "      <td>0.693069</td>\n",
       "      <td>-0.000156</td>\n",
       "      <td>0.000078</td>\n",
       "    </tr>\n",
       "    <tr>\n",
       "      <th>4</th>\n",
       "      <td>40</td>\n",
       "      <td>0.693186</td>\n",
       "      <td>0.693128</td>\n",
       "      <td>-0.000039</td>\n",
       "      <td>0.000020</td>\n",
       "    </tr>\n",
       "    <tr>\n",
       "      <th>5</th>\n",
       "      <td>80</td>\n",
       "      <td>0.693157</td>\n",
       "      <td>0.693142</td>\n",
       "      <td>-0.000010</td>\n",
       "      <td>0.000005</td>\n",
       "    </tr>\n",
       "    <tr>\n",
       "      <th>6</th>\n",
       "      <td>100</td>\n",
       "      <td>0.693153</td>\n",
       "      <td>0.693144</td>\n",
       "      <td>-0.000006</td>\n",
       "      <td>0.000003</td>\n",
       "    </tr>\n",
       "  </tbody>\n",
       "</table>\n",
       "</div>"
      ],
      "text/plain": [
       "   $n $     $T_n$     $M_n$     $E_T$     $E_M$\n",
       "0     2  0.708333  0.685714 -0.015186  0.007433\n",
       "1     4  0.697024  0.691220 -0.003877  0.001927\n",
       "2    10  0.693771  0.692835 -0.000624  0.000312\n",
       "3    20  0.693303  0.693069 -0.000156  0.000078\n",
       "4    40  0.693186  0.693128 -0.000039  0.000020\n",
       "5    80  0.693157  0.693142 -0.000010  0.000005\n",
       "6   100  0.693153  0.693144 -0.000006  0.000003"
      ]
     },
     "execution_count": 6,
     "metadata": {},
     "output_type": "execute_result"
    }
   ],
   "source": [
    "T = []\n",
    "E_T = []\n",
    "for index in (2, 4, 10, 20, 40, 80, 100):\n",
    "    T.append(Trap(f, 1, 2, index))\n",
    "    E_T.append(A - Trap(f, 1, 2, index))\n",
    "    \n",
    "M = np.asarray(M)\n",
    "E_T = np.asarray(E_T)\n",
    "\n",
    "table1 = {'$n $': n, '$T_n$': T, '$M_n$': M,\n",
    "        '$E_T$': E_T, '$E_M$': E_M}\n",
    "DataFrame(table1)\n"
   ]
  },
  {
   "cell_type": "markdown",
   "metadata": {},
   "source": [
    "Let us plot the Left Endpoint, Right Endpoit, Midpoint, and Trapezoidal Rules for $f(x) = \\dfrac{1}{x}$  on $[1,2]$."
   ]
  },
  {
   "cell_type": "code",
   "execution_count": 7,
   "metadata": {},
   "outputs": [],
   "source": [
    "import matplotlib.pyplot as plt\n",
    "\n",
    "def graph_LRMT(f, a, b, N, rule):\n",
    "    # x and y values for the rule\n",
    "    x = np.linspace(a,b,N+1)\n",
    "    y = f(x)\n",
    "\n",
    "    # X and Y values for plotting y=f(x)\n",
    "    X = np.linspace(a,b,100)\n",
    "    Y = f(X)\n",
    "    plt.plot(X,Y)\n",
    "    \n",
    "    for i in range(N):\n",
    "        xs = [x[i],x[i],x[i+1],x[i+1]]\n",
    "        if rule == 'L':\n",
    "            ys = [0, f(x[i]), f(x[i]), 0]\n",
    "            plt.title('Left Endpoint Rule, N = {}'.format(N))\n",
    "        elif rule == 'R':\n",
    "            ys = [0, f(x[i+1]), f(x[i+1]), 0]\n",
    "            plt.title('Right Endpoint Rule, N = {}'.format(N))\n",
    "        elif rule == 'M':\n",
    "            ys = [0, f(0.5*x[i]+0.5*x[i+1]),f(0.5*x[i]+0.5*x[i+1]),0]\n",
    "            plt.title('Midpoint Rule, N = {}'.format(N))\n",
    "        elif rule == 'T':\n",
    "            ys = [0,f(x[i]),f(x[i+1]),0]\n",
    "            plt.title('Trapezoidal Rule, N = {}'.format(N))\n",
    "        plt.fill(xs,ys,'b',edgecolor='b',alpha=0.2)\n",
    "\n",
    "    plt.show()    "
   ]
  },
  {
   "cell_type": "code",
   "execution_count": 8,
   "metadata": {},
   "outputs": [
    {
     "data": {
      "image/png": "[encoded data removed]",
      "text/plain": [
       "<Figure size 432x288 with 1 Axes>"
      ]
     },
     "metadata": {
      "needs_background": "light"
     },
     "output_type": "display_data"
    }
   ],
   "source": [
    "f = lambda x : 1/x\n",
    "graph_LRMT(f, a=1, b=2, N=20, rule = 'M')"
   ]
  },
  {
   "cell_type": "markdown",
   "metadata": {},
   "source": [
    "## Comparison Between Numerical Methods\n",
    "\n",
    "We next write a code to output the number of iterations needed to guarantee that our approximations for definite integrals are accurate to within the given tolerance $\\epsilon$."
   ]
  },
  {
   "cell_type": "code",
   "execution_count": 9,
   "metadata": {},
   "outputs": [],
   "source": [
    "def iteration_Left(f, a, b, tol):\n",
    "    iteration = 1\n",
    "    while abs(Left(f, a, b, iteration) - Left(f, a, b, iteration+1)) > tol:\n",
    "        iteration +=1\n",
    "    return iteration \n",
    "\n",
    "def iteration_Right(f, a, b, tol):\n",
    "    iteration = 1\n",
    "    while abs(Right(f, a, b, iteration) - Right(f, a, b, iteration+1)) > tol:\n",
    "        iteration +=1\n",
    "    return iteration\n",
    "\n",
    "def iteration_Mid(f, a, b, tol):\n",
    "    iteration = 1\n",
    "    while abs(Mid(f, a, b, iteration) - Mid(f, a, b, iteration+1)) > tol:\n",
    "        iteration +=1\n",
    "    return iteration\n",
    "\n",
    "def iteration_Trap(f, a, b, tol):\n",
    "    iteration = 1\n",
    "    while abs(Trap(f, a, b, iteration) - Trap(f, a, b, iteration+1)) > tol:\n",
    "        iteration +=1\n",
    "    return iteration"
   ]
  },
  {
   "cell_type": "markdown",
   "metadata": {},
   "source": [
    "Let's try to test with $f(x)=1/x$ and $A=\\displaystyle\\int^2_11/x\\;dx$."
   ]
  },
  {
   "cell_type": "code",
   "execution_count": 10,
   "metadata": {},
   "outputs": [
    {
     "name": "stdout",
     "output_type": "stream",
     "text": [
      "Number of iteration in Left Endpoint Rule = 50 \n",
      "Number of iteration in Right Endpoint Rule = 50 \n",
      "Number of iteration in Midpoint Rule = 9 \n",
      "Number of iteration in Trapezoid Rule = 11\n"
     ]
    }
   ],
   "source": [
    "f = lambda x: 1/x\n",
    "a = 1\n",
    "b = 2\n",
    "tol = 10**(-4)\n",
    "\n",
    "# Output the number of iterations \n",
    "i_l, i_r, i_m, i_t = iteration_Left(f, a, b, tol), iteration_Right(f, a, b, tol), \\\n",
    "iteration_Mid(f, a, b, tol), iteration_Trap(f, a, b, tol)\n",
    "\n",
    "print('Number of iteration in Left Endpoint Rule = %d' %i_l, \\\n",
    "      '\\nNumber of iteration in Right Endpoint Rule = %d' %i_r,\\\n",
    "      '\\nNumber of iteration in Midpoint Rule = %d' %i_m,\\\n",
    "      '\\nNumber of iteration in Trapezoid Rule = %d' %i_t)\n",
    "    "
   ]
  },
  {
   "cell_type": "markdown",
   "metadata": {},
   "source": [
    "## Example 2.8.4:\n",
    "\n",
    "If we use Theorem 2.8.3 estimating the error bounds for the Trapezoidal and Midpoint Rules to compute the number of iterations $n$ needed to perform to guarantee that our approximations for $A$ are accurate to within 0.0001, we can get $n=41$ and $n=29$."
   ]
  },
  {
   "cell_type": "code",
   "execution_count": 11,
   "metadata": {},
   "outputs": [
    {
     "name": "stdout",
     "output_type": "stream",
     "text": [
      "0.6931843580458765 0.6931124667719675\n"
     ]
    }
   ],
   "source": [
    "T_1 = Trap(f, 1, 2, 41)\n",
    "M_1 = Mid(f, 1, 2, 30)\n",
    "print(T_1, M_1)"
   ]
  },
  {
   "cell_type": "code",
   "execution_count": 12,
   "metadata": {},
   "outputs": [
    {
     "name": "stdout",
     "output_type": "stream",
     "text": [
      "0.6936631780672029 0.6927624129685918\n"
     ]
    }
   ],
   "source": [
    "T_2 = Trap(f, 1, 2, 11)\n",
    "M_2 = Mid(f, 1, 2, 9)\n",
    "print(T_2, M_2)"
   ]
  },
  {
   "cell_type": "markdown",
   "metadata": {},
   "source": [
    "It looks like Theorem 2.8.3 gives us a more precise result."
   ]
  },
  {
   "cell_type": "markdown",
   "metadata": {},
   "source": [
    "In order to find the number of iteration $n$ needed to perform to guarantee that our approximations for $A$ are accurate to within the given degree of accuracy $\\epsilon$ using Theorem 2.8.3, we should solve the following inequality:\n",
    "\n",
    "1. For Trapezoidal Rule $\\dfrac{M(b-a)^3}{12n^2} \\le \\epsilon \\iff n\\ge \\sqrt{\\dfrac{M(b-a)^3}{12\\epsilon}}$\n",
    "2. For Midpoint Rule $\\dfrac{M(b-a)^3}{24n^2} \\le \\epsilon \\iff n\\ge\\sqrt{\\dfrac{M(b-a)^3}{24\\epsilon}}$\n",
    "\n",
    "where $M = \\max_{x\\in[a,b]}|f''(x)|$.\n"
   ]
  },
  {
   "cell_type": "markdown",
   "metadata": {},
   "source": [
    "To proceed, we first write a code to compute the second derivative. "
   ]
  },
  {
   "cell_type": "code",
   "execution_count": 13,
   "metadata": {},
   "outputs": [],
   "source": [
    "import sympy as sp\n",
    "\n",
    "x, t = sp.symbols('x t')\n",
    "\n",
    "def second_der(f, variable):\n",
    "    f_prime = sp.diff(f, variable)\n",
    "    f_dprime = sp.diff(f_prime, variable)\n",
    "    return f_dprime"
   ]
  },
  {
   "cell_type": "code",
   "execution_count": 14,
   "metadata": {},
   "outputs": [
    {
     "data": {
      "text/latex": [
       "$\\displaystyle \\frac{2}{x^{3}}$"
      ],
      "text/plain": [
       "2/x**3"
      ]
     },
     "execution_count": 14,
     "metadata": {},
     "output_type": "execute_result"
    }
   ],
   "source": [
    "f = 1/x\n",
    "f_dprime = second_der(f,x)\n",
    "f_dprime\n"
   ]
  },
  {
   "cell_type": "markdown",
   "metadata": {},
   "source": [
    "It's not hard to see that $M = \\max_{x\\in[1,2]}|f''(x)| = 2$."
   ]
  },
  {
   "cell_type": "code",
   "execution_count": 15,
   "metadata": {},
   "outputs": [
    {
     "name": "stdout",
     "output_type": "stream",
     "text": [
      "The number of iterations needed to perform to guarantee that the Trapezoidal approximation for the given intergal is accurate to within 0.0001 is 41.\n"
     ]
    }
   ],
   "source": [
    "import numpy as np\n",
    "\n",
    "M = 2\n",
    "a = 1\n",
    "b = 2\n",
    "tol = 0.0001\n",
    "nfrac = np.sqrt(M*(b-a)**3/(12*tol))\n",
    "n_T = int(nfrac)+1\n",
    "print('The number of iterations needed to perform to guarantee that the Trapezoidal approximation \\\n",
    "for the given intergal is accurate to within 0.0001 is %d.' %n_T)"
   ]
  },
  {
   "cell_type": "code",
   "execution_count": 16,
   "metadata": {},
   "outputs": [
    {
     "name": "stdout",
     "output_type": "stream",
     "text": [
      "The number of iterations needed to perform to guarantee that the Midpoint approximation for the given intergal is accurate to within 0.0001 is 29.\n"
     ]
    }
   ],
   "source": [
    "nfrac = np.sqrt(M*(b-a)**3/(24*tol))\n",
    "n_M = int(nfrac)+1\n",
    "print('The number of iterations needed to perform to guarantee that the Midpoint approximation \\\n",
    "for the given intergal is accurate to within 0.0001 is %d.' %n_M)"
   ]
  },
  {
   "cell_type": "markdown",
   "metadata": {},
   "source": [
    "## Example 2.8.5:\n",
    "\n",
    "Approximate $A = \\displaystyle\\int^1_0e^{x^2}\\;dx$ using Midpoint Rule with $n=10$."
   ]
  },
  {
   "cell_type": "code",
   "execution_count": 17,
   "metadata": {},
   "outputs": [
    {
     "data": {
      "text/plain": [
       "1.4603930909600458"
      ]
     },
     "execution_count": 17,
     "metadata": {},
     "output_type": "execute_result"
    }
   ],
   "source": [
    "import numpy as np\n",
    "\n",
    "f = lambda x: np.exp(x**2)\n",
    "M_10 = Mid(f, a=0, b=1, n=10)\n",
    "M_10"
   ]
  },
  {
   "cell_type": "markdown",
   "metadata": {},
   "source": [
    "Let us plot the Midpoint Rules for $f(x) = e^{x^2}$  on $[0,1]$."
   ]
  },
  {
   "cell_type": "code",
   "execution_count": 18,
   "metadata": {},
   "outputs": [
    {
     "data": {
      "image/png": "[encoded data removed]",
      "text/plain": [
       "<Figure size 432x288 with 1 Axes>"
      ]
     },
     "metadata": {
      "needs_background": "light"
     },
     "output_type": "display_data"
    }
   ],
   "source": [
    "graph_LRMT(f, a=0, b=1, N=10, rule = 'M')"
   ]
  },
  {
   "cell_type": "markdown",
   "metadata": {},
   "source": [
    "## Simpson's Rule "
   ]
  },
  {
   "cell_type": "code",
   "execution_count": 19,
   "metadata": {},
   "outputs": [],
   "source": [
    "def Simp(f, a, b, n):\n",
    "    h = (b-a)/n\n",
    "    S = f(a) + f(b)\n",
    "    S_1 = 0\n",
    "    S_2 = 0\n",
    "    for i in range(1,n):\n",
    "        x = a + i*h\n",
    "        if i%2 == 0:\n",
    "            S_2 += f(x)\n",
    "        else:\n",
    "            S_1 += f(x)\n",
    "    return h*(S + 2*S_2 + 4*S_1)/3"
   ]
  },
  {
   "cell_type": "markdown",
   "metadata": {},
   "source": [
    "## Example 2.8.8:\n",
    "Approximate $A = \\displaystyle\\int^2_1\\dfrac{1}{x}\\;dx$ using Simpson's Rule with $n=4, 10$.\n"
   ]
  },
  {
   "cell_type": "code",
   "execution_count": 20,
   "metadata": {},
   "outputs": [
    {
     "name": "stdout",
     "output_type": "stream",
     "text": [
      "0.6932539682539683\n",
      "0.6931502306889303\n"
     ]
    }
   ],
   "source": [
    "f = lambda x: 1/x\n",
    "S_4 = Simp(f, a=1, b=2, n=4)\n",
    "S_10 = Simp(f, a=1, b=2, n=10)\n",
    "print(S_4)\n",
    "print(S_10)"
   ]
  },
  {
   "cell_type": "code",
   "execution_count": 21,
   "metadata": {},
   "outputs": [],
   "source": [
    "def iteration_Simp(f, a, b, tol):\n",
    "    iteration = 2\n",
    "    while abs(Simp(f, a, b, iteration) - Simp(f, a, b, iteration+2)) > tol:\n",
    "        iteration +=2\n",
    "    return iteration"
   ]
  },
  {
   "cell_type": "code",
   "execution_count": 22,
   "metadata": {},
   "outputs": [
    {
     "data": {
      "text/plain": [
       "4"
      ]
     },
     "execution_count": 22,
     "metadata": {},
     "output_type": "execute_result"
    }
   ],
   "source": [
    "i_s = iteration_Simp(f, a=1, b=2, tol=10**(-4))\n",
    "i_s"
   ]
  },
  {
   "cell_type": "markdown",
   "metadata": {},
   "source": [
    "If we use Theorem 2.8.7 estimating the error bounds for Simpson's Rule to compute the number of iterations $n$ needed to perform to guarantee that our approximations for $A$ are accurate to within 0.0001, we can get $n=8$."
   ]
  },
  {
   "cell_type": "code",
   "execution_count": 23,
   "metadata": {},
   "outputs": [
    {
     "data": {
      "text/plain": [
       "0.6931545306545307"
      ]
     },
     "execution_count": 23,
     "metadata": {},
     "output_type": "execute_result"
    }
   ],
   "source": [
    "S_8 = Simp(f, a=1, b=2, n=8)\n",
    "S_8"
   ]
  },
  {
   "cell_type": "markdown",
   "metadata": {},
   "source": [
    "It looks like Theorem 2.8.7 gives us a more precise result."
   ]
  },
  {
   "cell_type": "markdown",
   "metadata": {},
   "source": [
    "In order to find the number of iteration $n$ needed to perform to guarantee that our Simpson's approximations for $A$ are accurate to within the given degree of accuracy $\\epsilon$ using Theorem 2.8.7, we should solve the following inequality:\n",
    "$$\n",
    "\\dfrac{M(b-a)^5}{180n^4} \\le \\epsilon \\iff n\\ge \\sqrt[4]{\\dfrac{M(b-a)^5}{180\\epsilon}}\n",
    "$$"
   ]
  },
  {
   "cell_type": "markdown",
   "metadata": {},
   "source": [
    "To proceed, we first write a code to compute the fourth derivative. "
   ]
  },
  {
   "cell_type": "code",
   "execution_count": 24,
   "metadata": {},
   "outputs": [],
   "source": [
    "x, t = sp.symbols('x t')\n",
    "\n",
    "def Nth_der(f, variable, N):\n",
    "    f_0 = f\n",
    "    for k in range(N):\n",
    "        f_prime = sp.diff(f_0,variable)\n",
    "        f_0 = f_prime\n",
    "    return f_0"
   ]
  },
  {
   "cell_type": "code",
   "execution_count": 25,
   "metadata": {},
   "outputs": [
    {
     "data": {
      "text/latex": [
       "$\\displaystyle \\frac{24}{x^{5}}$"
      ],
      "text/plain": [
       "24/x**5"
      ]
     },
     "execution_count": 25,
     "metadata": {},
     "output_type": "execute_result"
    }
   ],
   "source": [
    "f = 1/x\n",
    "f_4prime = Nth_der(f, x, 4)\n",
    "f_4prime"
   ]
  },
  {
   "cell_type": "markdown",
   "metadata": {},
   "source": [
    "It's not hard to see that $M = \\max_{x\\in[1,2]}|f^{(4)}(x)| = 24$."
   ]
  },
  {
   "cell_type": "code",
   "execution_count": 26,
   "metadata": {},
   "outputs": [
    {
     "name": "stdout",
     "output_type": "stream",
     "text": [
      "The number of iterations needed to perform to guarantee that the Simpson approximation for the given intergal is accurate to within 0.0001 is 8.\n"
     ]
    }
   ],
   "source": [
    "M = 24\n",
    "a = 1\n",
    "b = 2\n",
    "tol = 0.0001\n",
    "nfrac = (M*(b-a)**5/(180*tol))**(1/4)\n",
    "n_S = int(nfrac)+2\n",
    "print('The number of iterations needed to perform to guarantee that the Simpson approximation \\\n",
    "for the given intergal is accurate to within 0.0001 is %d.' %n_S)"
   ]
  },
  {
   "cell_type": "markdown",
   "metadata": {},
   "source": [
    "## Example 2.8.9: \n",
    "Do by yourself."
   ]
  },
  {
   "cell_type": "markdown",
   "metadata": {},
   "source": [
    "Let's try to examine the behavior of $L_n, R_n, M_n, T_n, S_n$ in the long run."
   ]
  },
  {
   "cell_type": "code",
   "execution_count": 27,
   "metadata": {},
   "outputs": [],
   "source": [
    "# Define R_n, L_n, M_n\n",
    "R = lambda n: Right(f, a, b, n)\n",
    "L = lambda n: Left(f, a, b, n)\n",
    "M = lambda n: Mid(f, a, b, n)\n",
    "T = lambda n: Trap(f, a, b, n)\n",
    "M = lambda n: Simp(f, a, b, n)"
   ]
  },
  {
   "cell_type": "markdown",
   "metadata": {},
   "source": [
    "Let's test with $f(x)=1/x$ and $A=\\displaystyle \\int^2_11/x\\;dx$."
   ]
  },
  {
   "cell_type": "code",
   "execution_count": 28,
   "metadata": {},
   "outputs": [
    {
     "data": {
      "text/html": [
       "<div>\n",
       "<style scoped>\n",
       "    .dataframe tbody tr th:only-of-type {\n",
       "        vertical-align: middle;\n",
       "    }\n",
       "\n",
       "    .dataframe tbody tr th {\n",
       "        vertical-align: top;\n",
       "    }\n",
       "\n",
       "    .dataframe thead th {\n",
       "        text-align: right;\n",
       "    }\n",
       "</style>\n",
       "<table border=\"1\" class=\"dataframe\">\n",
       "  <thead>\n",
       "    <tr style=\"text-align: right;\">\n",
       "      <th></th>\n",
       "      <th>$n $</th>\n",
       "      <th>$R_n$</th>\n",
       "      <th>$L_n$</th>\n",
       "      <th>$M_n$</th>\n",
       "      <th>$T_n$</th>\n",
       "      <th>$S_n$</th>\n",
       "    </tr>\n",
       "  </thead>\n",
       "  <tbody>\n",
       "    <tr>\n",
       "      <th>0</th>\n",
       "      <td>4</td>\n",
       "      <td>0.634524</td>\n",
       "      <td>0.759524</td>\n",
       "      <td>0.693254</td>\n",
       "      <td>0.693254</td>\n",
       "      <td>0.693254</td>\n",
       "    </tr>\n",
       "    <tr>\n",
       "      <th>1</th>\n",
       "      <td>6</td>\n",
       "      <td>0.653211</td>\n",
       "      <td>0.736544</td>\n",
       "      <td>0.693170</td>\n",
       "      <td>0.693170</td>\n",
       "      <td>0.693170</td>\n",
       "    </tr>\n",
       "    <tr>\n",
       "      <th>2</th>\n",
       "      <td>10</td>\n",
       "      <td>0.668771</td>\n",
       "      <td>0.718771</td>\n",
       "      <td>0.693150</td>\n",
       "      <td>0.693150</td>\n",
       "      <td>0.693150</td>\n",
       "    </tr>\n",
       "    <tr>\n",
       "      <th>3</th>\n",
       "      <td>20</td>\n",
       "      <td>0.680803</td>\n",
       "      <td>0.705803</td>\n",
       "      <td>0.693147</td>\n",
       "      <td>0.693147</td>\n",
       "      <td>0.693147</td>\n",
       "    </tr>\n",
       "    <tr>\n",
       "      <th>4</th>\n",
       "      <td>30</td>\n",
       "      <td>0.684883</td>\n",
       "      <td>0.701550</td>\n",
       "      <td>0.693147</td>\n",
       "      <td>0.693147</td>\n",
       "      <td>0.693147</td>\n",
       "    </tr>\n",
       "    <tr>\n",
       "      <th>5</th>\n",
       "      <td>40</td>\n",
       "      <td>0.686936</td>\n",
       "      <td>0.699436</td>\n",
       "      <td>0.693147</td>\n",
       "      <td>0.693147</td>\n",
       "      <td>0.693147</td>\n",
       "    </tr>\n",
       "    <tr>\n",
       "      <th>6</th>\n",
       "      <td>50</td>\n",
       "      <td>0.688172</td>\n",
       "      <td>0.698172</td>\n",
       "      <td>0.693147</td>\n",
       "      <td>0.693147</td>\n",
       "      <td>0.693147</td>\n",
       "    </tr>\n",
       "    <tr>\n",
       "      <th>7</th>\n",
       "      <td>60</td>\n",
       "      <td>0.688998</td>\n",
       "      <td>0.697331</td>\n",
       "      <td>0.693147</td>\n",
       "      <td>0.693147</td>\n",
       "      <td>0.693147</td>\n",
       "    </tr>\n",
       "    <tr>\n",
       "      <th>8</th>\n",
       "      <td>70</td>\n",
       "      <td>0.689589</td>\n",
       "      <td>0.696731</td>\n",
       "      <td>0.693147</td>\n",
       "      <td>0.693147</td>\n",
       "      <td>0.693147</td>\n",
       "    </tr>\n",
       "    <tr>\n",
       "      <th>9</th>\n",
       "      <td>80</td>\n",
       "      <td>0.690032</td>\n",
       "      <td>0.696282</td>\n",
       "      <td>0.693147</td>\n",
       "      <td>0.693147</td>\n",
       "      <td>0.693147</td>\n",
       "    </tr>\n",
       "    <tr>\n",
       "      <th>10</th>\n",
       "      <td>90</td>\n",
       "      <td>0.690377</td>\n",
       "      <td>0.695933</td>\n",
       "      <td>0.693147</td>\n",
       "      <td>0.693147</td>\n",
       "      <td>0.693147</td>\n",
       "    </tr>\n",
       "    <tr>\n",
       "      <th>11</th>\n",
       "      <td>100</td>\n",
       "      <td>0.690653</td>\n",
       "      <td>0.695653</td>\n",
       "      <td>0.693147</td>\n",
       "      <td>0.693147</td>\n",
       "      <td>0.693147</td>\n",
       "    </tr>\n",
       "    <tr>\n",
       "      <th>12</th>\n",
       "      <td>110</td>\n",
       "      <td>0.690880</td>\n",
       "      <td>0.695425</td>\n",
       "      <td>0.693147</td>\n",
       "      <td>0.693147</td>\n",
       "      <td>0.693147</td>\n",
       "    </tr>\n",
       "    <tr>\n",
       "      <th>13</th>\n",
       "      <td>120</td>\n",
       "      <td>0.691068</td>\n",
       "      <td>0.695235</td>\n",
       "      <td>0.693147</td>\n",
       "      <td>0.693147</td>\n",
       "      <td>0.693147</td>\n",
       "    </tr>\n",
       "    <tr>\n",
       "      <th>14</th>\n",
       "      <td>130</td>\n",
       "      <td>0.691228</td>\n",
       "      <td>0.695074</td>\n",
       "      <td>0.693147</td>\n",
       "      <td>0.693147</td>\n",
       "      <td>0.693147</td>\n",
       "    </tr>\n",
       "    <tr>\n",
       "      <th>15</th>\n",
       "      <td>140</td>\n",
       "      <td>0.691365</td>\n",
       "      <td>0.694936</td>\n",
       "      <td>0.693147</td>\n",
       "      <td>0.693147</td>\n",
       "      <td>0.693147</td>\n",
       "    </tr>\n",
       "    <tr>\n",
       "      <th>16</th>\n",
       "      <td>150</td>\n",
       "      <td>0.691483</td>\n",
       "      <td>0.694817</td>\n",
       "      <td>0.693147</td>\n",
       "      <td>0.693147</td>\n",
       "      <td>0.693147</td>\n",
       "    </tr>\n",
       "    <tr>\n",
       "      <th>17</th>\n",
       "      <td>160</td>\n",
       "      <td>0.691587</td>\n",
       "      <td>0.694712</td>\n",
       "      <td>0.693147</td>\n",
       "      <td>0.693147</td>\n",
       "      <td>0.693147</td>\n",
       "    </tr>\n",
       "    <tr>\n",
       "      <th>18</th>\n",
       "      <td>170</td>\n",
       "      <td>0.691679</td>\n",
       "      <td>0.694620</td>\n",
       "      <td>0.693147</td>\n",
       "      <td>0.693147</td>\n",
       "      <td>0.693147</td>\n",
       "    </tr>\n",
       "    <tr>\n",
       "      <th>19</th>\n",
       "      <td>180</td>\n",
       "      <td>0.691760</td>\n",
       "      <td>0.694538</td>\n",
       "      <td>0.693147</td>\n",
       "      <td>0.693147</td>\n",
       "      <td>0.693147</td>\n",
       "    </tr>\n",
       "    <tr>\n",
       "      <th>20</th>\n",
       "      <td>190</td>\n",
       "      <td>0.691833</td>\n",
       "      <td>0.694465</td>\n",
       "      <td>0.693147</td>\n",
       "      <td>0.693147</td>\n",
       "      <td>0.693147</td>\n",
       "    </tr>\n",
       "    <tr>\n",
       "      <th>21</th>\n",
       "      <td>200</td>\n",
       "      <td>0.691899</td>\n",
       "      <td>0.694399</td>\n",
       "      <td>0.693147</td>\n",
       "      <td>0.693147</td>\n",
       "      <td>0.693147</td>\n",
       "    </tr>\n",
       "  </tbody>\n",
       "</table>\n",
       "</div>"
      ],
      "text/plain": [
       "    $n $     $R_n$     $L_n$     $M_n$     $T_n$     $S_n$\n",
       "0      4  0.634524  0.759524  0.693254  0.693254  0.693254\n",
       "1      6  0.653211  0.736544  0.693170  0.693170  0.693170\n",
       "2     10  0.668771  0.718771  0.693150  0.693150  0.693150\n",
       "3     20  0.680803  0.705803  0.693147  0.693147  0.693147\n",
       "4     30  0.684883  0.701550  0.693147  0.693147  0.693147\n",
       "5     40  0.686936  0.699436  0.693147  0.693147  0.693147\n",
       "6     50  0.688172  0.698172  0.693147  0.693147  0.693147\n",
       "7     60  0.688998  0.697331  0.693147  0.693147  0.693147\n",
       "8     70  0.689589  0.696731  0.693147  0.693147  0.693147\n",
       "9     80  0.690032  0.696282  0.693147  0.693147  0.693147\n",
       "10    90  0.690377  0.695933  0.693147  0.693147  0.693147\n",
       "11   100  0.690653  0.695653  0.693147  0.693147  0.693147\n",
       "12   110  0.690880  0.695425  0.693147  0.693147  0.693147\n",
       "13   120  0.691068  0.695235  0.693147  0.693147  0.693147\n",
       "14   130  0.691228  0.695074  0.693147  0.693147  0.693147\n",
       "15   140  0.691365  0.694936  0.693147  0.693147  0.693147\n",
       "16   150  0.691483  0.694817  0.693147  0.693147  0.693147\n",
       "17   160  0.691587  0.694712  0.693147  0.693147  0.693147\n",
       "18   170  0.691679  0.694620  0.693147  0.693147  0.693147\n",
       "19   180  0.691760  0.694538  0.693147  0.693147  0.693147\n",
       "20   190  0.691833  0.694465  0.693147  0.693147  0.693147\n",
       "21   200  0.691899  0.694399  0.693147  0.693147  0.693147"
      ]
     },
     "execution_count": 28,
     "metadata": {},
     "output_type": "execute_result"
    }
   ],
   "source": [
    "f = lambda x: 1/x\n",
    "a = 1\n",
    "b = 2\n",
    "\n",
    "R_n = []\n",
    "L_n = []\n",
    "M_n = []\n",
    "T_n = []\n",
    "S_n = []\n",
    "n = []\n",
    "\n",
    "for index in (4, 6, 10, 20, 30, 40, 50, 60, 70, 80, 90, 100, 110, 120, 130, 140, 150, 160, 170, 180, 190, 200):\n",
    "    n.append(index)\n",
    "    R_n.append(R(index))\n",
    "    L_n.append(L(index))\n",
    "    M_n.append(M(index))\n",
    "    T_n.append(M(index))\n",
    "    S_n.append(M(index))\n",
    "    \n",
    "table2 = {'$n $': n, '$R_n$': R_n, '$L_n$': L_n, '$M_n$': M_n, '$T_n$': T_n, '$S_n$': S_n}\n",
    "DataFrame(table2)"
   ]
  },
  {
   "cell_type": "code",
   "execution_count": 29,
   "metadata": {},
   "outputs": [
    {
     "data": {
      "image/png": "[encoded data removed]",
      "text/plain": [
       "<Figure size 432x288 with 1 Axes>"
      ]
     },
     "metadata": {
      "needs_background": "light"
     },
     "output_type": "display_data"
    }
   ],
   "source": [
    "import matplotlib.pyplot as plt\n",
    "\n",
    "plt.plot(n, R_n, '-o', label = \"Right Endpoint Rule\")\n",
    "plt.plot(n, L_n, '-*',label = \"Left Endpoint Rule\")\n",
    "plt.plot(n, M_n, '-^', label = \"Midpoint Rule\")\n",
    "plt.plot(n, T_n, 's', label = \"Trapezoidal Rule\")\n",
    "plt.plot(n, S_n, 'h', label = \"Simpson's Rule\")\n",
    "\n",
    "plt.xlabel('iteration')\n",
    "plt.ylabel('estimates')\n",
    "plt.grid(True)\n",
    "plt.legend()\n",
    "plt.show()"
   ]
  },
  {
   "cell_type": "markdown",
   "metadata": {},
   "source": [
    "## Your Turn: \n",
    "Do with $f(x)=e^{x^2}$ and $A=\\displaystyle \\int^1_0 e^{x^2}\\;dx$."
   ]
  },
  {
   "cell_type": "code",
   "execution_count": 30,
   "metadata": {},
   "outputs": [],
   "source": [
    "# Enter your code here\n"
   ]
  },
  {
   "cell_type": "code",
   "execution_count": null,
   "metadata": {},
   "outputs": [],
   "source": []
  }
 ],
 "metadata": {
  "kernelspec": {
   "display_name": "Python 3",
   "language": "python",
   "name": "python3"
  },
  "language_info": {
   "codemirror_mode": {
    "name": "ipython",
    "version": 3
   },
   "file_extension": ".py",
   "mimetype": "text/x-python",
   "name": "python",
   "nbconvert_exporter": "python",
   "pygments_lexer": "ipython3",
   "version": "3.8.3"
  }
 },
 "nbformat": 4,
 "nbformat_minor": 2
}
