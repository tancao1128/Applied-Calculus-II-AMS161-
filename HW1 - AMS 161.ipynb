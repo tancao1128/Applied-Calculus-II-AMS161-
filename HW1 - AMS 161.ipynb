{
 "cells": [
  {
   "cell_type": "markdown",
   "metadata": {},
   "source": [
    "# Homework 1\n",
    "\n",
    "Please modify the provided codes in this notebook and submit your file on the blackboard with the name:\n",
    "\n",
    "**Number-FirstName-LastName-HW1-AMS161.ipynb**"
   ]
  },
  {
   "cell_type": "markdown",
   "metadata": {},
   "source": [
    "Question 1: Part (f)\n",
    "* Graph $f(x) = 1+x^2$ from $x=-1$ to $x=2$. \n",
    "* Compute $R_3$ and $R_6$\n",
    "* Compute $L_3$ and $L_6$\n",
    "* Compute $M_3$ and $M_6$"
   ]
  },
  {
   "cell_type": "code",
   "execution_count": 1,
   "metadata": {},
   "outputs": [
    {
     "data": {
      "image/png": "[encoded data removed]",
      "text/plain": [
       "<Figure size 432x288 with 1 Axes>"
      ]
     },
     "metadata": {
      "needs_background": "light"
     },
     "output_type": "display_data"
    }
   ],
   "source": [
    "# Run the following code to get the graph of f\n",
    "import matplotlib.pyplot as plt\n",
    "import numpy as np\n",
    "\n",
    "x = np.linspace(-1, 2, endpoint = True)\n",
    "f = lambda x: 1 + x**2\n",
    "\n",
    "plt.plot(x, f(x), 'b-', label = '$f(x)=1+x^2$')        # Plot with specified line and marker style\n",
    "plt.xlabel('x')                # Add label to x-axis\n",
    "plt.ylabel('y')                # Add label to y-axis\n",
    "plt.grid(True)\n",
    "plt.legend()\n",
    "plt.show()                     # Show plot on screen"
   ]
  },
  {
   "cell_type": "markdown",
   "metadata": {},
   "source": [
    "Our goal here is to approximate the exact area \n",
    "$$\n",
    "A = \\int^b_a f(x)\\;dx = \\lim_{n\\to\\infty}\\sum^{n-1}_{i=0}f(x^*_i)\\Delta x.\n",
    "$$"
   ]
  },
  {
   "cell_type": "code",
   "execution_count": 2,
   "metadata": {},
   "outputs": [
    {
     "data": {
      "text/plain": [
       "(5.999999999999999, 6.661338147750938e-14)"
      ]
     },
     "execution_count": 2,
     "metadata": {},
     "output_type": "execute_result"
    }
   ],
   "source": [
    "# We calculate the exact area using the following code\n",
    "import scipy.integrate as integrate\n",
    "import scipy.special as special\n",
    "\n",
    "A = integrate.quad(f, -1, 2)\n",
    "A"
   ]
  },
  {
   "cell_type": "code",
   "execution_count": 3,
   "metadata": {},
   "outputs": [],
   "source": [
    "# We next write a code to calculate the Riemann sum\n",
    "def Riemann_sum(f, a, b, n, alpha):\n",
    "    x = np.zeros(n+1,float) # Initialize the mesh points\n",
    "    h = (b-a)/n             # Calculate the step size\n",
    "    sum = 0                 # Initialize the Riemann Sum \n",
    "    for i in range(n+1):\n",
    "        x[i] = a + i*h\n",
    "    for i in range(n):\n",
    "        sample = (1-alpha)*x[i] + alpha*x[i+1]\n",
    "        sum += f(sample)\n",
    "    return sum*h"
   ]
  },
  {
   "cell_type": "code",
   "execution_count": 4,
   "metadata": {},
   "outputs": [],
   "source": [
    "# We next compute the estimates of A using R_n, L_n, M_n \n",
    "def Right(f, a, b, n):\n",
    "    return Riemann_sum(f, a, b, n, alpha=1)\n",
    "def Left(f, a, b, n):\n",
    "    return Riemann_sum(f, a, b, n, alpha=0)\n",
    "def Mid(f, a, b, n):\n",
    "    return Riemann_sum(f, a, b, n, alpha=0.5)\n",
    "\n",
    "# Define R_n, L_n, M_n\n",
    "R = lambda n: Right(f, -1, 2, n)\n",
    "L = lambda n: Left(f, -1, 2, n)\n",
    "M = lambda n: Mid(f, -1, 2, n)\n"
   ]
  },
  {
   "cell_type": "code",
   "execution_count": 6,
   "metadata": {},
   "outputs": [
    {
     "name": "stdout",
     "output_type": "stream",
     "text": [
      "The estimate of A using 3 rectangles and right endpoints is 8.00000 .\n",
      "The estimate of A using 3 rectangles and left endpoints is 5.00000 .\n",
      "The estimate of A using 3 rectangles and midpoints is 5.75000 .\n"
     ]
    }
   ],
   "source": [
    "# Run the following code and compare the answers with your answers in parts (b), (c), (d)\n",
    "\n",
    "print('The estimate of A using 3 rectangles and right endpoints is %.5f .' %R(3))\n",
    "print('The estimate of A using 3 rectangles and left endpoints is %.5f .' %L(3))\n",
    "print('The estimate of A using 3 rectangles and midpoints is %.5f .' %M(3))\n"
   ]
  },
  {
   "cell_type": "markdown",
   "metadata": {},
   "source": [
    "Repeat the same previous code while replacing 3 by 6."
   ]
  },
  {
   "cell_type": "code",
   "execution_count": 8,
   "metadata": {},
   "outputs": [],
   "source": [
    "# Enter your code here\n",
    "..."
   ]
  },
  {
   "cell_type": "markdown",
   "metadata": {},
   "source": [
    "Make the table mentioned in question (1g) in HW1."
   ]
  },
  {
   "cell_type": "code",
   "execution_count": 10,
   "metadata": {},
   "outputs": [
    {
     "data": {
      "text/html": [
       "<div>\n",
       "<style scoped>\n",
       "    .dataframe tbody tr th:only-of-type {\n",
       "        vertical-align: middle;\n",
       "    }\n",
       "\n",
       "    .dataframe tbody tr th {\n",
       "        vertical-align: top;\n",
       "    }\n",
       "\n",
       "    .dataframe thead th {\n",
       "        text-align: right;\n",
       "    }\n",
       "</style>\n",
       "<table border=\"1\" class=\"dataframe\">\n",
       "  <thead>\n",
       "    <tr style=\"text-align: right;\">\n",
       "      <th></th>\n",
       "      <th>$n $</th>\n",
       "      <th>$R_n$</th>\n",
       "      <th>$L_n$</th>\n",
       "      <th>$M_n$</th>\n",
       "    </tr>\n",
       "  </thead>\n",
       "  <tbody>\n",
       "    <tr>\n",
       "      <th>0</th>\n",
       "      <td>3</td>\n",
       "      <td>8.000000</td>\n",
       "      <td>5.000000</td>\n",
       "      <td>5.750000</td>\n",
       "    </tr>\n",
       "    <tr>\n",
       "      <th>1</th>\n",
       "      <td>6</td>\n",
       "      <td>6.875000</td>\n",
       "      <td>5.375000</td>\n",
       "      <td>5.937500</td>\n",
       "    </tr>\n",
       "    <tr>\n",
       "      <th>2</th>\n",
       "      <td>10</td>\n",
       "      <td>6.495000</td>\n",
       "      <td>5.595000</td>\n",
       "      <td>5.977500</td>\n",
       "    </tr>\n",
       "    <tr>\n",
       "      <th>3</th>\n",
       "      <td>20</td>\n",
       "      <td>6.236250</td>\n",
       "      <td>5.786250</td>\n",
       "      <td>5.994375</td>\n",
       "    </tr>\n",
       "    <tr>\n",
       "      <th>4</th>\n",
       "      <td>30</td>\n",
       "      <td>6.155000</td>\n",
       "      <td>5.855000</td>\n",
       "      <td>5.997500</td>\n",
       "    </tr>\n",
       "    <tr>\n",
       "      <th>5</th>\n",
       "      <td>50</td>\n",
       "      <td>6.091800</td>\n",
       "      <td>5.911800</td>\n",
       "      <td>5.999100</td>\n",
       "    </tr>\n",
       "    <tr>\n",
       "      <th>6</th>\n",
       "      <td>100</td>\n",
       "      <td>6.045450</td>\n",
       "      <td>5.955450</td>\n",
       "      <td>5.999775</td>\n",
       "    </tr>\n",
       "    <tr>\n",
       "      <th>7</th>\n",
       "      <td>200</td>\n",
       "      <td>6.022612</td>\n",
       "      <td>5.977613</td>\n",
       "      <td>5.999944</td>\n",
       "    </tr>\n",
       "    <tr>\n",
       "      <th>8</th>\n",
       "      <td>300</td>\n",
       "      <td>6.015050</td>\n",
       "      <td>5.985050</td>\n",
       "      <td>5.999975</td>\n",
       "    </tr>\n",
       "    <tr>\n",
       "      <th>9</th>\n",
       "      <td>400</td>\n",
       "      <td>6.011278</td>\n",
       "      <td>5.988778</td>\n",
       "      <td>5.999986</td>\n",
       "    </tr>\n",
       "  </tbody>\n",
       "</table>\n",
       "</div>"
      ],
      "text/plain": [
       "   $n $     $R_n$     $L_n$     $M_n$\n",
       "0     3  8.000000  5.000000  5.750000\n",
       "1     6  6.875000  5.375000  5.937500\n",
       "2    10  6.495000  5.595000  5.977500\n",
       "3    20  6.236250  5.786250  5.994375\n",
       "4    30  6.155000  5.855000  5.997500\n",
       "5    50  6.091800  5.911800  5.999100\n",
       "6   100  6.045450  5.955450  5.999775\n",
       "7   200  6.022612  5.977613  5.999944\n",
       "8   300  6.015050  5.985050  5.999975\n",
       "9   400  6.011278  5.988778  5.999986"
      ]
     },
     "execution_count": 10,
     "metadata": {},
     "output_type": "execute_result"
    }
   ],
   "source": [
    "from pandas import DataFrame\n",
    "from math import *\n",
    "\n",
    "R_n = []\n",
    "L_n = []\n",
    "M_n = []\n",
    "n = []\n",
    "\n",
    "for index in (3, 6, 10, 20, 30, 50, 100, 200, 300, 400):\n",
    "    n.append(index)\n",
    "    R_n.append(R(index))\n",
    "    L_n.append(L(index))\n",
    "    M_n.append(M(index))\n",
    "    \n",
    "table1 = {'$n $': n, '$R_n$': R_n, '$L_n$': L_n, '$M_n$': M_n}\n",
    "DataFrame(table1)"
   ]
  },
  {
   "cell_type": "markdown",
   "metadata": {},
   "source": [
    "## Question (1h)\n",
    "\n",
    "We now plot $R_n, L_n$, and $M_n$ to see their behaviors. "
   ]
  },
  {
   "cell_type": "code",
   "execution_count": 8,
   "metadata": {},
   "outputs": [
    {
     "data": {
      "image/png": "[encoded data removed]",
      "text/plain": [
       "<Figure size 432x288 with 1 Axes>"
      ]
     },
     "metadata": {
      "needs_background": "light"
     },
     "output_type": "display_data"
    }
   ],
   "source": [
    "plt.plot(n, R_n, 'b-o', label = \"right endpoints\")\n",
    "plt.plot(n, L_n, 'r-*', label = \"left endpoints\")\n",
    "plt.plot(n, M_n, 'g-^', label = \"midpoints\")\n",
    "plt.xlabel('iteration')\n",
    "plt.ylabel('estimates')\n",
    "plt.grid(True)\n",
    "plt.legend()\n",
    "plt.savefig('f1.png', format='png') # Save plot in png format for future use\n",
    "plt.show()\n"
   ]
  },
  {
   "cell_type": "markdown",
   "metadata": {},
   "source": [
    "## Question (1i)\n",
    "\n",
    "This question is for 4 extra credits. "
   ]
  },
  {
   "cell_type": "code",
   "execution_count": 11,
   "metadata": {},
   "outputs": [],
   "source": [
    "R_n = []\n",
    "L_n = []\n",
    "M_n = []\n",
    "n = []\n",
    "\n",
    "for index in (3, 6, 10, 20, 30, 50, 100, 200, 300, 400, 500, 600, 700, 800, 900, 1000):\n",
    "    # Enter your code here\n",
    "    ..."
   ]
  },
  {
   "cell_type": "markdown",
   "metadata": {},
   "source": [
    "## Question (2b)\n",
    "\n",
    "You don't need to modify the provided code in this question. Just run it and try to explain it for **4 extra credits**."
   ]
  },
  {
   "cell_type": "code",
   "execution_count": 11,
   "metadata": {},
   "outputs": [
    {
     "name": "stdout",
     "output_type": "stream",
     "text": [
      "[10, 5, 5, 12, 27, 3, 63]\n",
      "[1850, 1595, 2235, 8904, 35775, 4335, 261513]\n",
      "('Launch', 'Begin roll maneuver', 'End roll maneuver', 'Throttle to 89%', 'Throttle to 67%', 'Throttle to 104%', 'Maximum dynamic pressure', 'Solid rocket booster separation')\n"
     ]
    }
   ],
   "source": [
    "import time\n",
    "\n",
    "# Input the necessary data\n",
    "\n",
    "t = (0, 10, 15, 20, 32, 59, 62, 125)\n",
    "v = (0, 185, 319, 447, 742, 1325, 1445, 4151)\n",
    "\n",
    "Delta_t = []\n",
    "Distance = []\n",
    "for i in range(1, len(t)):\n",
    "    Delta_t.append(t[i] - t[i-1])\n",
    "    Distance.append(v[i]*(t[i] - t[i-1]))\n",
    "print(Delta_t)\n",
    "print(Distance)\n",
    "\n",
    "Event = ('Launch', 'Begin roll maneuver', 'End roll maneuver', \n",
    "         'Throttle to 89%', 'Throttle to 67%', 'Throttle to 104%', 'Maximum dynamic pressure', 'Solid rocket booster separation')\n",
    "\n",
    "print(Event)"
   ]
  },
  {
   "cell_type": "code",
   "execution_count": 13,
   "metadata": {},
   "outputs": [
    {
     "name": "stdout",
     "output_type": "stream",
     "text": [
      "Launch at time t = 0 (s), with velocity v = 0 (ft/s); we are 0 (ft) above the earth surface.\n",
      "...................\n",
      "Begin roll maneuver at time t = 10 (s), with velocity v = 185 (ft/s); we are 1850 (ft) above the earth surface.\n",
      "...................\n",
      "End roll maneuver at time t = 15 (s), with velocity v = 319 (ft/s); we are 3445 (ft) above the earth surface.\n",
      "...................\n",
      "Throttle to 89% at time t = 20 (s), with velocity v = 447 (ft/s); we are 5680 (ft) above the earth surface.\n",
      "...................\n",
      "Throttle to 67% at time t = 32 (s), with velocity v = 742 (ft/s); we are 14584 (ft) above the earth surface.\n",
      "...................\n",
      "Throttle to 104% at time t = 59 (s), with velocity v = 1325 (ft/s); we are 50359 (ft) above the earth surface.\n",
      "...................\n",
      "Maximum dynamic pressure at time t = 62 (s), with velocity v = 1445 (ft/s); we are 54694 (ft) above the earth surface.\n",
      "...................\n",
      "Solid rocket booster separation at time t = 125 (s), with velocity v = 4151 (ft/s); we are 316207 (ft) above the earth surface.\n",
      "...................\n"
     ]
    }
   ],
   "source": [
    "# Run the following code\n",
    "\n",
    "n = len(Event)\n",
    "d = np.zeros(n)\n",
    "for i in range(n):\n",
    "    # Calculate the accumulated distance \n",
    "    if i!= 0:\n",
    "        d[i] = sum(Distance[0:i])\n",
    "    # Print the following information\n",
    "    print(Event[i] + ' at time t = %d (s),' %t[i] + ' with velocity v = %d (ft/s);' %v[i] + ' we are %d (ft)' %d[i] + ' above the earth surface.' )\n",
    "    print('...................')\n",
    "    time.sleep(3)\n"
   ]
  },
  {
   "cell_type": "code",
   "execution_count": null,
   "metadata": {},
   "outputs": [],
   "source": []
  },
  {
   "cell_type": "markdown",
   "metadata": {},
   "source": [
    "## Question 5\n",
    "\n",
    "This question involves estimating the integral \n",
    "$$\n",
    "A = \\int^1_0(e^x + 1)\\;dx \n",
    "$$\n",
    "using $A_n = R_n, L_n, M_n$.\n",
    "\n",
    "1. Write a function to compute $R_n$, $L_n$, and $M_n$.\n",
    "2. Write a function to return the index $N$ such that $A_N$ is a good approximation to within the given **degree of accuracy $\\epsilon$**. "
   ]
  },
  {
   "cell_type": "code",
   "execution_count": 19,
   "metadata": {},
   "outputs": [],
   "source": [
    "# Recall the Riemann Sum\n",
    "def Riemann_sum(f, a, b, n, alpha):\n",
    "    x = np.zeros(n+1,float) # Initialize the mesh points\n",
    "    h = (b-a)/n             # Calculate the step size\n",
    "    sum = 0                 # Initialize the Riemann Sum \n",
    "    for i in range(n+1):\n",
    "        x[i] = a + i*h\n",
    "    for i in range(n):\n",
    "        sample = (1-alpha)*x[i] + alpha*x[i+1]\n",
    "        sum += f(sample)\n",
    "    return sum*h"
   ]
  },
  {
   "cell_type": "code",
   "execution_count": 20,
   "metadata": {},
   "outputs": [],
   "source": [
    "# We next compute the estimates of A using R_n, L_n, M_n \n",
    "def Right(f, a, b, n):\n",
    "    return Riemann_sum(f, a, b, n, alpha=1)\n",
    "def Left(f, a, b, n):\n",
    "    return Riemann_sum(f, a, b, n, alpha=0)\n",
    "def Mid(f, a, b, n):\n",
    "    return Riemann_sum(f, a, b, n, alpha=0.5)\n",
    "\n",
    "# Input the function f\n",
    "f = lambda x: np.exp(x) + 1\n",
    "\n",
    "# Define R_n, L_n, M_n\n",
    "R = lambda n: Right(f, 0, 1, n)\n",
    "L = lambda n: Left(f, 0, 1, n)\n",
    "M = lambda n: Mid(f, 0, 1, n)\n"
   ]
  },
  {
   "cell_type": "markdown",
   "metadata": {},
   "source": [
    "We next try to calculuate some values of $R_n, L_n$, and $M_n$."
   ]
  },
  {
   "cell_type": "code",
   "execution_count": 21,
   "metadata": {},
   "outputs": [
    {
     "data": {
      "text/html": [
       "<div>\n",
       "<style scoped>\n",
       "    .dataframe tbody tr th:only-of-type {\n",
       "        vertical-align: middle;\n",
       "    }\n",
       "\n",
       "    .dataframe tbody tr th {\n",
       "        vertical-align: top;\n",
       "    }\n",
       "\n",
       "    .dataframe thead th {\n",
       "        text-align: right;\n",
       "    }\n",
       "</style>\n",
       "<table border=\"1\" class=\"dataframe\">\n",
       "  <thead>\n",
       "    <tr style=\"text-align: right;\">\n",
       "      <th></th>\n",
       "      <th>$n $</th>\n",
       "      <th>$R_n$</th>\n",
       "      <th>$L_n$</th>\n",
       "      <th>$M_n$</th>\n",
       "    </tr>\n",
       "  </thead>\n",
       "  <tbody>\n",
       "    <tr>\n",
       "      <th>0</th>\n",
       "      <td>3</td>\n",
       "      <td>3.020543</td>\n",
       "      <td>2.447782</td>\n",
       "      <td>2.710353</td>\n",
       "    </tr>\n",
       "    <tr>\n",
       "      <th>1</th>\n",
       "      <td>6</td>\n",
       "      <td>2.865448</td>\n",
       "      <td>2.579067</td>\n",
       "      <td>2.716295</td>\n",
       "    </tr>\n",
       "    <tr>\n",
       "      <th>2</th>\n",
       "      <td>10</td>\n",
       "      <td>2.805628</td>\n",
       "      <td>2.633799</td>\n",
       "      <td>2.717566</td>\n",
       "    </tr>\n",
       "    <tr>\n",
       "      <th>3</th>\n",
       "      <td>20</td>\n",
       "      <td>2.761597</td>\n",
       "      <td>2.675683</td>\n",
       "      <td>2.718103</td>\n",
       "    </tr>\n",
       "    <tr>\n",
       "      <th>4</th>\n",
       "      <td>30</td>\n",
       "      <td>2.747079</td>\n",
       "      <td>2.689803</td>\n",
       "      <td>2.718202</td>\n",
       "    </tr>\n",
       "    <tr>\n",
       "      <th>5</th>\n",
       "      <td>50</td>\n",
       "      <td>2.735522</td>\n",
       "      <td>2.701156</td>\n",
       "      <td>2.718253</td>\n",
       "    </tr>\n",
       "    <tr>\n",
       "      <th>6</th>\n",
       "      <td>100</td>\n",
       "      <td>2.726888</td>\n",
       "      <td>2.709705</td>\n",
       "      <td>2.718275</td>\n",
       "    </tr>\n",
       "    <tr>\n",
       "      <th>7</th>\n",
       "      <td>200</td>\n",
       "      <td>2.722581</td>\n",
       "      <td>2.713990</td>\n",
       "      <td>2.718280</td>\n",
       "    </tr>\n",
       "    <tr>\n",
       "      <th>8</th>\n",
       "      <td>300</td>\n",
       "      <td>2.721147</td>\n",
       "      <td>2.715420</td>\n",
       "      <td>2.718281</td>\n",
       "    </tr>\n",
       "    <tr>\n",
       "      <th>9</th>\n",
       "      <td>400</td>\n",
       "      <td>2.720431</td>\n",
       "      <td>2.716135</td>\n",
       "      <td>2.718281</td>\n",
       "    </tr>\n",
       "  </tbody>\n",
       "</table>\n",
       "</div>"
      ],
      "text/plain": [
       "   $n $     $R_n$     $L_n$     $M_n$\n",
       "0     3  3.020543  2.447782  2.710353\n",
       "1     6  2.865448  2.579067  2.716295\n",
       "2    10  2.805628  2.633799  2.717566\n",
       "3    20  2.761597  2.675683  2.718103\n",
       "4    30  2.747079  2.689803  2.718202\n",
       "5    50  2.735522  2.701156  2.718253\n",
       "6   100  2.726888  2.709705  2.718275\n",
       "7   200  2.722581  2.713990  2.718280\n",
       "8   300  2.721147  2.715420  2.718281\n",
       "9   400  2.720431  2.716135  2.718281"
      ]
     },
     "execution_count": 21,
     "metadata": {},
     "output_type": "execute_result"
    }
   ],
   "source": [
    "R_n = []\n",
    "L_n = []\n",
    "M_n = []\n",
    "n = []\n",
    "\n",
    "for index in (3, 6, 10, 20, 30, 50, 100, 200, 300, 400):\n",
    "    n.append(index)\n",
    "    R_n.append(R(index))\n",
    "    L_n.append(L(index))\n",
    "    M_n.append(M(index))\n",
    "    \n",
    "table2 = {'$n $': n, '$R_n$': R_n, '$L_n$': L_n, '$M_n$': M_n}\n",
    "DataFrame(table2)"
   ]
  },
  {
   "cell_type": "markdown",
   "metadata": {},
   "source": [
    "It is a good idea to visualize the behavior of $R_n, L_n$, and $M_n$."
   ]
  },
  {
   "cell_type": "code",
   "execution_count": 22,
   "metadata": {},
   "outputs": [
    {
     "data": {
      "image/png": "[encoded data removed]",
      "text/plain": [
       "<Figure size 432x288 with 1 Axes>"
      ]
     },
     "metadata": {
      "needs_background": "light"
     },
     "output_type": "display_data"
    }
   ],
   "source": [
    "plt.plot(n, R_n, 'b-o', label = \"right endpoints\")\n",
    "plt.plot(n, L_n, 'r-*', label = \"left endpoints\")\n",
    "plt.plot(n, M_n, 'g-^', label = \"midpoints\")\n",
    "plt.xlabel('iteration')\n",
    "plt.ylabel('estimates')\n",
    "plt.grid(True)\n",
    "plt.legend()\n",
    "plt.savefig('f4.png', format='png') # Save plot in png format for future use\n",
    "plt.show()"
   ]
  },
  {
   "cell_type": "markdown",
   "metadata": {},
   "source": [
    "We next write a function to return the index $N$ and $A_N$ such that $A_N$ is a good approximation to within the given **degree of accuracy $\\epsilon$**. "
   ]
  },
  {
   "cell_type": "code",
   "execution_count": 23,
   "metadata": {},
   "outputs": [],
   "source": [
    "from math import *\n",
    "\n",
    "# Write a function to return the index N and R_N such that R_N is a good estimate\n",
    "def good_right_est(epsilon):\n",
    "    N = 1\n",
    "    while (abs(R(N) - R(N+1))) > epsilon: # If R_N is not a good estimate, increase N\n",
    "        N = N + 1\n",
    "    return N, R(N)"
   ]
  },
  {
   "cell_type": "markdown",
   "metadata": {},
   "source": [
    "Running the following code will give us the index $N$ and $R_N$ such that $R_N$ is a good approximation to within $\\epsilon = 0.01$."
   ]
  },
  {
   "cell_type": "code",
   "execution_count": 24,
   "metadata": {},
   "outputs": [
    {
     "name": "stdout",
     "output_type": "stream",
     "text": [
      "(9, 2.8155093460652276)\n"
     ]
    }
   ],
   "source": [
    "GR = good_right_est(epsilon = 0.01)\n",
    "print(GR)"
   ]
  },
  {
   "cell_type": "markdown",
   "metadata": {},
   "source": [
    "It means we need 9 iterations in order to get a good approximation $A_9$ to within $\\epsilon = 0.01$.\n",
    "\n",
    "Repeat the same process with $A_n = L_n$ and $A_n = M_n$."
   ]
  },
  {
   "cell_type": "code",
   "execution_count": 25,
   "metadata": {},
   "outputs": [],
   "source": [
    "# Write a function to return the index N and L_N such that L_N is a good estimate\n",
    "def good_left_est(epsilon):\n",
    "    N = 1\n",
    "    while (abs(L(N) - L(N+1))) > epsilon: # If L_N is not a good estimate, increase N\n",
    "        N = N + 1\n",
    "    return N, L(N)\n",
    "\n",
    "# Write a function to return the index N and M_N such that M_N is a good estimate\n",
    "def good_mid_est(epsilon):\n",
    "    N = 1\n",
    "    while (abs(M(N) - M(N+1))) > epsilon: # If M_N is not a good estimate, increase N\n",
    "        N = N + 1\n",
    "    return N, M(N)"
   ]
  },
  {
   "cell_type": "code",
   "execution_count": 26,
   "metadata": {},
   "outputs": [
    {
     "name": "stdout",
     "output_type": "stream",
     "text": [
      "(9, 2.6245891429031123)\n",
      "(2, 2.7005127166502083)\n"
     ]
    }
   ],
   "source": [
    "GL = good_left_est(epsilon = 0.01)\n",
    "GM = good_mid_est(epsilon = 0.01)\n",
    "print(GL)\n",
    "print(GM)"
   ]
  },
  {
   "cell_type": "markdown",
   "metadata": {},
   "source": [
    "It means that $L_9$ and $M_2$ are good estimates of $A$ to within $\\epsilon =0.01$.\n",
    "\n",
    "For your information, the exact value $A = e = 2.718281828459045\\ldots$.\n",
    "\n"
   ]
  },
  {
   "cell_type": "markdown",
   "metadata": {},
   "source": [
    "## Your turn\n",
    "\n",
    "You may not be happy with your estimates $R_9, L_9$, and $M_2$. To improve them, you decide to set the given **degree of accuracy $\\epsilon$** as follows:\n",
    "* $\\epsilon = 0.001$\n",
    "* $\\epsilon = 0.0001$\n",
    "* $\\epsilon = 0.00001$\n",
    "* $\\epsilon = 0.000001$"
   ]
  },
  {
   "cell_type": "code",
   "execution_count": 27,
   "metadata": {},
   "outputs": [
    {
     "name": "stdout",
     "output_type": "stream",
     "text": [
      "(29, 2.7480776356260033)\n",
      "(29, 2.6888265380929335)\n",
      "(5, 2.715421362995841)\n"
     ]
    }
   ],
   "source": [
    "GR = good_right_est(epsilon = 0.001)\n",
    "GL = good_left_est(epsilon = 0.001)\n",
    "GM = good_mid_est(epsilon = 0.001)\n",
    "\n",
    "print(GR)\n",
    "print(GL)\n",
    "print(GM)"
   ]
  },
  {
   "cell_type": "markdown",
   "metadata": {},
   "source": [
    "**(4 pts)** Repeat the same code with $\\epsilon = 0.0001$."
   ]
  },
  {
   "cell_type": "code",
   "execution_count": 29,
   "metadata": {},
   "outputs": [
    {
     "name": "stdout",
     "output_type": "stream",
     "text": [
      "(927, 2.719208792191959)\n",
      "(927, 2.717355197986502)\n",
      "(52, 2.718255351275638)\n"
     ]
    }
   ],
   "source": [
    "# Enter your code here\n",
    "GR = good_right_est(epsilon = 0.000001)\n",
    "GL = good_left_est(epsilon = 0.000001)\n",
    "GM = good_mid_est(epsilon = 0.000001)\n",
    "\n",
    "print(GR)\n",
    "print(GL)\n",
    "print(GM)"
   ]
  },
  {
   "cell_type": "markdown",
   "metadata": {},
   "source": [
    "**(4 pts)** Repeat the same code with $\\epsilon = 0.00001$."
   ]
  },
  {
   "cell_type": "code",
   "execution_count": 68,
   "metadata": {},
   "outputs": [],
   "source": [
    "# Enter your code here\n",
    "..."
   ]
  },
  {
   "cell_type": "markdown",
   "metadata": {},
   "source": [
    "**(4 pts)** Repeat the same code with $\\epsilon = 0.000001$."
   ]
  },
  {
   "cell_type": "code",
   "execution_count": 69,
   "metadata": {},
   "outputs": [],
   "source": [
    "# Enter your code here\n",
    "..."
   ]
  },
  {
   "cell_type": "code",
   "execution_count": null,
   "metadata": {},
   "outputs": [],
   "source": []
  }
 ],
 "metadata": {
  "kernelspec": {
   "display_name": "Python 3",
   "language": "python",
   "name": "python3"
  },
  "language_info": {
   "codemirror_mode": {
    "name": "ipython",
    "version": 3
   },
   "file_extension": ".py",
   "mimetype": "text/x-python",
   "name": "python",
   "nbconvert_exporter": "python",
   "pygments_lexer": "ipython3",
   "version": "3.8.3"
  }
 },
 "nbformat": 4,
 "nbformat_minor": 2
}
