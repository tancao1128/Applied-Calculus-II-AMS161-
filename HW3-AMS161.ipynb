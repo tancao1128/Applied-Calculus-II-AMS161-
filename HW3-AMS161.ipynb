{
 "cells": [
  {
   "cell_type": "markdown",
   "metadata": {},
   "source": [
    "# Home Work 3\n",
    "\n",
    "In this assginment, you will write a code to solve problem 6 and 7c.\n",
    "\n"
   ]
  },
  {
   "cell_type": "code",
   "execution_count": 5,
   "metadata": {},
   "outputs": [],
   "source": [
    "import sympy as sp\n",
    "\n",
    "x, t, a, b, n, C = sp.symbols('x t a b n C')\n",
    "def eval_int(f, a, b, variable): # input f as an expression with some symbol\n",
    "    F = sp.integrate(f,variable)\n",
    "    ans = F.subs(variable, b) - F.subs(variable,a)\n",
    "    return ans, F"
   ]
  },
  {
   "cell_type": "markdown",
   "metadata": {},
   "source": [
    "You may write your own codes to test your answers solved by hand. Writing a code for question 1 and 4 is not compulsory and does not for any credit. \n",
    "\n",
    "## Question 1"
   ]
  },
  {
   "cell_type": "code",
   "execution_count": 6,
   "metadata": {},
   "outputs": [
    {
     "data": {
      "text/latex": [
       "$\\displaystyle \\frac{x^{24}}{24} + \\frac{x^{20}}{2} + \\frac{5 x^{16}}{2} + \\frac{20 x^{12}}{3} + 10 x^{8} + 8 x^{4}$"
      ],
      "text/plain": [
       "x**24/24 + x**20/2 + 5*x**16/2 + 20*x**12/3 + 10*x**8 + 8*x**4"
      ]
     },
     "execution_count": 6,
     "metadata": {},
     "output_type": "execute_result"
    }
   ],
   "source": [
    "# 1(a)\n",
    "# i \n",
    "f = x**3*(2+x**4)**5\n",
    "F = sp.integrate(f,x)\n",
    "F"
   ]
  },
  {
   "cell_type": "code",
   "execution_count": null,
   "metadata": {},
   "outputs": [],
   "source": [
    "# ii \n",
    "... "
   ]
  },
  {
   "cell_type": "code",
   "execution_count": 7,
   "metadata": {},
   "outputs": [
    {
     "name": "stdout",
     "output_type": "stream",
     "text": [
      "239299329230617529590083*t**51/17 - 239299329230617529590083*t**50 + 1994161076921812746584025*t**49 - 10857099196574313842513025*t**48 + 43428396786297255370052100*t**47 - 136075643263731400159496580*t**46 + 347748866118424689296491260*t**45 - 745176141682338619921052700*t**44 + 1366156259750954136521929950*t**43 - 2175730339603371402608999550*t**42 + 3046022475444719963652599370*t**41 - 3784452166461621773022926490*t**40 + 4204946851624024192247696100*t**39 - 4204946851624024192247696100*t**38 + 3804475722897926650128867900*t**37 - 3128124483271628578994846940*t**36 + 2346093362453721434246135205*t**35 - 27371089228626750066204910725*t**34/17 + 1013744045504694446896478175*t**33 - 586904447397454679782171575*t**32 + 313015705278642495883824840*t**31 - 154023601010125672577755080*t**30 + 70010727731875305717161400*t**29 - 29424798611947592257937400*t**28 + 11442977237979619211420100*t**27 - 4119471805672662916111236*t**26 + 1373157268557554305370412*t**25 - 423813971777022933756300*t**24 + 121089706222006552501800*t**23 - 32012221185128169052200*t**22 + 7825209623031330212760*t**21 - 1766982818103848757720*t**20 + 368121420438301824525*t**19 - 70649565538663986525*t**18 + 211948696615991959575*t**17/17 - 2018559015390399615*t**16 + 299045780057836980*t**15 - 40411591899707700*t**14 + 4962827075402700*t**13 - 551425230600300*t**12 + 55142523060030*t**11 - 4931445151710*t**10 + 391384535850*t**9 - 27305897850*t**8 + 1654902900*t**7 - 85809780*t**6 + 3730860*t**5 - 132300*t**4 + 3675*t**3 - 75*t**2 + t\n",
      "250199979298361/17\n"
     ]
    }
   ],
   "source": [
    "# 1(b)\n",
    "# i\n",
    "f = (3*t-1)**(50)\n",
    "ans, F = eval_int(f, 0, 1, t)\n",
    "print(F)\n",
    "print(ans)"
   ]
  },
  {
   "cell_type": "code",
   "execution_count": null,
   "metadata": {},
   "outputs": [],
   "source": [
    "# ii ...\n",
    "\n",
    "# vii \n",
    "f = sp.asin(x)/(sp.sqrt(1-x**2))\n",
    "ans, F = eval_int(f, 0, 1/2,x)\n",
    "print(F)\n",
    "print(ans)"
   ]
  },
  {
   "cell_type": "markdown",
   "metadata": {},
   "source": [
    "## Question 4"
   ]
  },
  {
   "cell_type": "code",
   "execution_count": null,
   "metadata": {},
   "outputs": [],
   "source": [
    "# i\n",
    "f = x*sp.exp(-x)\n",
    "F = sp.integrate(f,x)\n",
    "F"
   ]
  },
  {
   "cell_type": "code",
   "execution_count": null,
   "metadata": {},
   "outputs": [],
   "source": [
    "# ii\n",
    "f = sp.exp(sp.sqrt(x))\n",
    "F = sp.integrate(f,x)\n",
    "F"
   ]
  },
  {
   "cell_type": "code",
   "execution_count": null,
   "metadata": {},
   "outputs": [],
   "source": [
    "# iii \n",
    "...\n",
    "# iv\n",
    "..."
   ]
  },
  {
   "cell_type": "markdown",
   "metadata": {},
   "source": [
    "## Question 6 \n",
    "\n",
    "### (a) $R(t) = 85 - 0.18\\cos(\\pi t/12)$"
   ]
  },
  {
   "cell_type": "code",
   "execution_count": null,
   "metadata": {},
   "outputs": [],
   "source": [
    "R = 85 - 0.18*sp.cos(sp.pi*t/12)\n",
    "# Modify the following code\n",
    "ans, F = # call the eval_int function \n",
    "print('The total basal metabolism is %.4f.' %ans)"
   ]
  },
  {
   "cell_type": "markdown",
   "metadata": {},
   "source": [
    "### (b) $\\dfrac{dx}{dt} = 5000\\left(1-\\dfrac{100}{(t+10)^2} \\right)$"
   ]
  },
  {
   "cell_type": "code",
   "execution_count": null,
   "metadata": {},
   "outputs": [],
   "source": [
    "x = 5000*(1-100/(t+10)**2)\n",
    "# Modify the following code\n",
    "ans, F = # call the eval_int function \n",
    "print('The number of calculators produced \\\n",
    "from the beginning of the third week to the end of the fourth week is %.4f.' %ans)\n",
    "x"
   ]
  },
  {
   "cell_type": "markdown",
   "metadata": {},
   "source": [
    "### (c) $v(t) = t^2e^{-t}$"
   ]
  },
  {
   "cell_type": "code",
   "execution_count": null,
   "metadata": {},
   "outputs": [],
   "source": [
    "v = t**2*sp.exp(-t)\n",
    "# Modify the following code\n",
    "ans, F = # call the eval_int function \n",
    "print('The distance that the particle has traveled in the first 2 seconds is %.4f.' %ans)\n"
   ]
  },
  {
   "cell_type": "markdown",
   "metadata": {},
   "source": [
    "### (d) $v(t) = -gt-v_e\\ln\\dfrac{m-rt}{m}$"
   ]
  },
  {
   "cell_type": "code",
   "execution_count": 8,
   "metadata": {},
   "outputs": [
    {
     "data": {
      "text/latex": [
       "$\\displaystyle - 9.8 t - 3000 \\log{\\left(1 - \\frac{2 t}{375} \\right)}$"
      ],
      "text/plain": [
       "-9.8*t - 3000*log(1 - 2*t/375)"
      ]
     },
     "execution_count": 8,
     "metadata": {},
     "output_type": "execute_result"
    }
   ],
   "source": [
    "# Input the data \n",
    "g = 9.8\n",
    "m = 30000\n",
    "r = 160\n",
    "v_e = 3000\n",
    "v = -g*t - v_e*sp.log((m-r*t)/m)\n",
    "\n",
    "# Check how v looks like\n",
    "v"
   ]
  },
  {
   "cell_type": "code",
   "execution_count": null,
   "metadata": {},
   "outputs": [],
   "source": [
    "# Modify the following code\n",
    "ans, F = # call the eval_int function \n",
    "print('The height of the rocket one minute after liftoff is %.4f.' %ans)"
   ]
  },
  {
   "cell_type": "markdown",
   "metadata": {},
   "source": [
    "## Question 7c: \n",
    "\n",
    "This question is for 4 extra credits. Write a code to compute $F_n = \\displaystyle\\int(\\ln x)^n\\; dx$. You may use the recursive formula in part (a): $$F_n = x(\\ln x)^n-nF_{n-1}.$$"
   ]
  },
  {
   "cell_type": "code",
   "execution_count": null,
   "metadata": {},
   "outputs": [],
   "source": [
    "def ln_int(k):\n",
    "    F = sp.zeros(1, k+1)\n",
    "    for n in range(k+1):\n",
    "        if n>=1:\n",
    "            # ENTER YOUR CODE HERE\n",
    "        else:\n",
    "            F[n] = sp.integrate(sp.log(x)**n,x)\n",
    "    return F[k] + C"
   ]
  },
  {
   "cell_type": "code",
   "execution_count": null,
   "metadata": {},
   "outputs": [],
   "source": [
    "F = ln_int(50)\n",
    "F"
   ]
  }
 ],
 "metadata": {
  "kernelspec": {
   "display_name": "Python 3",
   "language": "python",
   "name": "python3"
  },
  "language_info": {
   "codemirror_mode": {
    "name": "ipython",
    "version": 3
   },
   "file_extension": ".py",
   "mimetype": "text/x-python",
   "name": "python",
   "nbconvert_exporter": "python",
   "pygments_lexer": "ipython3",
   "version": "3.8.3"
  }
 },
 "nbformat": 4,
 "nbformat_minor": 4
}
