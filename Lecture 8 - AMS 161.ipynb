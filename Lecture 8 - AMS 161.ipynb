{
 "cells": [
  {
   "cell_type": "markdown",
   "metadata": {},
   "source": [
    "# Lecture 8: Additional Techniques of Integration\n",
    "\n",
    "## Example 2.7.1: \n",
    "Integrate $\\displaystyle\\int\\dfrac{1}{(x-2)(x-5)}\\;dx$."
   ]
  },
  {
   "cell_type": "code",
   "execution_count": 1,
   "metadata": {},
   "outputs": [
    {
     "data": {
      "text/latex": [
       "$\\displaystyle \\frac{1}{\\left(x - 5\\right) \\left(x - 2\\right)}$"
      ],
      "text/plain": [
       "1/((x - 5)*(x - 2))"
      ]
     },
     "execution_count": 1,
     "metadata": {},
     "output_type": "execute_result"
    }
   ],
   "source": [
    "import sympy as sp\n",
    "\n",
    "x = sp.Symbol('x')\n",
    "integrand = 1/((x-2)*(x-5))\n",
    "integrand"
   ]
  },
  {
   "cell_type": "code",
   "execution_count": 2,
   "metadata": {},
   "outputs": [
    {
     "data": {
      "text/latex": [
       "$\\displaystyle \\frac{\\log{\\left(x - 5 \\right)}}{3} - \\frac{\\log{\\left(x - 2 \\right)}}{3}$"
      ],
      "text/plain": [
       "log(x - 5)/3 - log(x - 2)/3"
      ]
     },
     "execution_count": 2,
     "metadata": {},
     "output_type": "execute_result"
    }
   ],
   "source": [
    "F = sp.integrate(integrand,x)\n",
    "F"
   ]
  },
  {
   "cell_type": "markdown",
   "metadata": {},
   "source": [
    "## Example 2.7.2: \n",
    "Integrate $\\displaystyle\\int\\dfrac{x+2}{x^2+x}\\;dx$."
   ]
  },
  {
   "cell_type": "code",
   "execution_count": 3,
   "metadata": {},
   "outputs": [
    {
     "data": {
      "text/latex": [
       "$\\displaystyle \\frac{x + 2}{x^{2} + x}$"
      ],
      "text/plain": [
       "(x + 2)/(x**2 + x)"
      ]
     },
     "execution_count": 3,
     "metadata": {},
     "output_type": "execute_result"
    }
   ],
   "source": [
    "integrand = (x+2)/(x**2+x)\n",
    "integrand"
   ]
  },
  {
   "cell_type": "code",
   "execution_count": 4,
   "metadata": {},
   "outputs": [
    {
     "data": {
      "text/latex": [
       "$\\displaystyle 2 \\log{\\left(x \\right)} - \\log{\\left(x + 1 \\right)}$"
      ],
      "text/plain": [
       "2*log(x) - log(x + 1)"
      ]
     },
     "execution_count": 4,
     "metadata": {},
     "output_type": "execute_result"
    }
   ],
   "source": [
    "F = sp.integrate(integrand, x)\n",
    "F"
   ]
  },
  {
   "cell_type": "markdown",
   "metadata": {},
   "source": [
    "## Example 2.7.3: \n",
    "Integrate $\\displaystyle\\int\\dfrac{10x-2x^2}{(x-1)^2(x+3)}\\;dx$."
   ]
  },
  {
   "cell_type": "code",
   "execution_count": 5,
   "metadata": {},
   "outputs": [],
   "source": [
    "# Enter your code here\n",
    "...\n"
   ]
  },
  {
   "cell_type": "markdown",
   "metadata": {},
   "source": [
    "## Example 2.7.4:\n",
    "\n",
    "Find $\\displaystyle\\int\\dfrac{2x^2-x-1}{(x^2+1)(x-2)}\\;dx$"
   ]
  },
  {
   "cell_type": "code",
   "execution_count": 6,
   "metadata": {},
   "outputs": [],
   "source": [
    "# Enter your code here\n",
    "...\n"
   ]
  },
  {
   "cell_type": "markdown",
   "metadata": {},
   "source": [
    "## Example 2.7.5:\n",
    "Find $\\displaystyle\\int\\dfrac{x^3-7x^2+10x+1}{x^2-7x+10}\\;dx$\n"
   ]
  },
  {
   "cell_type": "code",
   "execution_count": 7,
   "metadata": {},
   "outputs": [],
   "source": [
    "# Enter your code here\n",
    "..."
   ]
  },
  {
   "cell_type": "code",
   "execution_count": null,
   "metadata": {},
   "outputs": [],
   "source": []
  }
 ],
 "metadata": {
  "kernelspec": {
   "display_name": "Python 3",
   "language": "python",
   "name": "python3"
  },
  "language_info": {
   "codemirror_mode": {
    "name": "ipython",
    "version": 3
   },
   "file_extension": ".py",
   "mimetype": "text/x-python",
   "name": "python",
   "nbconvert_exporter": "python",
   "pygments_lexer": "ipython3",
   "version": "3.7.3"
  }
 },
 "nbformat": 4,
 "nbformat_minor": 2
}
