{
 "cells": [
  {
   "cell_type": "markdown",
   "metadata": {},
   "source": [
    "# Lecture 12: Volumes\n",
    "\n",
    "### Example 3.2.2: \n",
    "Compute the volume of a sphere of radius 1 numerically.\n"
   ]
  },
  {
   "cell_type": "code",
   "execution_count": 1,
   "metadata": {},
   "outputs": [],
   "source": [
    "import numpy as np\n",
    "\n",
    "def Riemann_sum(f, a, b, n, alpha):\n",
    "    x = np.zeros(n+1,float) # Initialize the mesh points\n",
    "    h = (b-a)/n             # Calculate the step size\n",
    "    sum = 0                 # Initialize the Riemann Sum \n",
    "    for i in range(n+1):\n",
    "        x[i] = a + i*h\n",
    "    for i in range(n):\n",
    "        sample = (1-alpha)*x[i] + alpha*x[i+1]\n",
    "        sum += f(sample)\n",
    "    return sum*h"
   ]
  },
  {
   "cell_type": "code",
   "execution_count": 2,
   "metadata": {},
   "outputs": [],
   "source": [
    "def Right(f, a, b, n):\n",
    "    return Riemann_sum(f, a, b, n, alpha=1)\n",
    "def Left(f, a, b, n):\n",
    "    return Riemann_sum(f, a, b, n, alpha=0)\n",
    "def Mid(f, a, b, n):\n",
    "    return Riemann_sum(f, a, b, n, alpha=0.5)"
   ]
  },
  {
   "cell_type": "code",
   "execution_count": 3,
   "metadata": {},
   "outputs": [
    {
     "data": {
      "text/plain": [
       "4.209734155810323"
      ]
     },
     "execution_count": 3,
     "metadata": {},
     "output_type": "execute_result"
    }
   ],
   "source": [
    "r = 1\n",
    "A = lambda x: np.pi*(r**2 - x**2) # The cross-sectional area\n",
    "V = Mid(A, a=-r, b=r, n=10)\n",
    "V"
   ]
  },
  {
   "cell_type": "code",
   "execution_count": 4,
   "metadata": {},
   "outputs": [
    {
     "data": {
      "text/html": [
       "<div>\n",
       "<style scoped>\n",
       "    .dataframe tbody tr th:only-of-type {\n",
       "        vertical-align: middle;\n",
       "    }\n",
       "\n",
       "    .dataframe tbody tr th {\n",
       "        vertical-align: top;\n",
       "    }\n",
       "\n",
       "    .dataframe thead th {\n",
       "        text-align: right;\n",
       "    }\n",
       "</style>\n",
       "<table border=\"1\" class=\"dataframe\">\n",
       "  <thead>\n",
       "    <tr style=\"text-align: right;\">\n",
       "      <th></th>\n",
       "      <th>$n $</th>\n",
       "      <th>$R_n$</th>\n",
       "      <th>$L_n$</th>\n",
       "      <th>$M_n$</th>\n",
       "    </tr>\n",
       "  </thead>\n",
       "  <tbody>\n",
       "    <tr>\n",
       "      <th>0</th>\n",
       "      <td>5</td>\n",
       "      <td>4.021239</td>\n",
       "      <td>4.021239</td>\n",
       "      <td>4.272566</td>\n",
       "    </tr>\n",
       "    <tr>\n",
       "      <th>1</th>\n",
       "      <td>10</td>\n",
       "      <td>4.146902</td>\n",
       "      <td>4.146902</td>\n",
       "      <td>4.209734</td>\n",
       "    </tr>\n",
       "    <tr>\n",
       "      <th>2</th>\n",
       "      <td>20</td>\n",
       "      <td>4.178318</td>\n",
       "      <td>4.178318</td>\n",
       "      <td>4.194026</td>\n",
       "    </tr>\n",
       "    <tr>\n",
       "      <th>3</th>\n",
       "      <td>40</td>\n",
       "      <td>4.186172</td>\n",
       "      <td>4.186172</td>\n",
       "      <td>4.190099</td>\n",
       "    </tr>\n",
       "    <tr>\n",
       "      <th>4</th>\n",
       "      <td>80</td>\n",
       "      <td>4.188136</td>\n",
       "      <td>4.188136</td>\n",
       "      <td>4.189117</td>\n",
       "    </tr>\n",
       "    <tr>\n",
       "      <th>5</th>\n",
       "      <td>100</td>\n",
       "      <td>4.188371</td>\n",
       "      <td>4.188371</td>\n",
       "      <td>4.189000</td>\n",
       "    </tr>\n",
       "  </tbody>\n",
       "</table>\n",
       "</div>"
      ],
      "text/plain": [
       "   $n $     $R_n$     $L_n$     $M_n$\n",
       "0     5  4.021239  4.021239  4.272566\n",
       "1    10  4.146902  4.146902  4.209734\n",
       "2    20  4.178318  4.178318  4.194026\n",
       "3    40  4.186172  4.186172  4.190099\n",
       "4    80  4.188136  4.188136  4.189117\n",
       "5   100  4.188371  4.188371  4.189000"
      ]
     },
     "execution_count": 4,
     "metadata": {},
     "output_type": "execute_result"
    }
   ],
   "source": [
    "from pandas import DataFrame\n",
    "from math import *\n",
    "\n",
    "R = []\n",
    "L = []\n",
    "M = []\n",
    "n = []\n",
    "for index in (5, 10, 20, 40, 80, 100):\n",
    "    n.append(index)\n",
    "    R.append(Right(A, -r, r, index))\n",
    "    L.append(Left(A, -r, r, index))\n",
    "    M.append(Mid(A, -r, r, index))\n",
    "\n",
    "# Convert to Arrays\n",
    "R = np.asarray(R)\n",
    "L = np.asarray(L)\n",
    "M = np.asarray(M)\n",
    "\n",
    "\n",
    "\n",
    "table = {'$n $': n, '$R_n$': R, '$L_n$': L, '$M_n$': M}\n",
    "DataFrame(table)"
   ]
  },
  {
   "cell_type": "code",
   "execution_count": null,
   "metadata": {},
   "outputs": [],
   "source": []
  }
 ],
 "metadata": {
  "kernelspec": {
   "display_name": "Python 3",
   "language": "python",
   "name": "python3"
  },
  "language_info": {
   "codemirror_mode": {
    "name": "ipython",
    "version": 3
   },
   "file_extension": ".py",
   "mimetype": "text/x-python",
   "name": "python",
   "nbconvert_exporter": "python",
   "pygments_lexer": "ipython3",
   "version": "3.8.3"
  }
 },
 "nbformat": 4,
 "nbformat_minor": 2
}
