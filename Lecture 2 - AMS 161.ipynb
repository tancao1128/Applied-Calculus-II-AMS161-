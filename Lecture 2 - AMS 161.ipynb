{
 "cells": [
  {
   "cell_type": "markdown",
   "metadata": {},
   "source": [
    "# Area and Distance Problems \n",
    "\n",
    "In this section, we will learn how to solve area and distance problems by Python. "
   ]
  },
  {
   "cell_type": "markdown",
   "metadata": {},
   "source": [
    "## Area of a Region under a Curve\n",
    "\n",
    "We will run the following code to sketch a region bounded by two vertical lines, the $x$-axis and the curve $y=f(x)$."
   ]
  },
  {
   "cell_type": "code",
   "execution_count": 1,
   "metadata": {},
   "outputs": [
    {
     "data": {
      "image/png": "[encoded data removed]",
      "text/plain": [
       "<Figure size 432x288 with 1 Axes>"
      ]
     },
     "metadata": {
      "needs_background": "light"
     },
     "output_type": "display_data"
    }
   ],
   "source": [
    "import matplotlib.pyplot as plt\n",
    "import numpy as np\n",
    "from matplotlib.patches import Polygon\n",
    "\n",
    "\n",
    "def func(x):\n",
    "    return (x - 3) * (x - 5) * (x - 7) + 85\n",
    "\n",
    "\n",
    "a, b = 2, 9  # integral limits\n",
    "x = np.linspace(0, 10)\n",
    "y = func(x)\n",
    "n = 7\n",
    "h = (b-a)/n\n",
    "\n",
    "\n",
    "fig, ax = plt.subplots()\n",
    "ax.plot(x, y, 'r', linewidth=2)\n",
    "ax.set_ylim(bottom=0)\n",
    "\n",
    "# Make the shaded region\n",
    "index = a\n",
    "for i in range(7):\n",
    "    \n",
    "    ix = np.linspace(index + i*h, index + (i+1)*h)\n",
    "    iy = func(ix)\n",
    "    verts = [(index + i*h, 0), *zip(ix, iy), (index + (i+1)*h, 0)]\n",
    "    poly = Polygon(verts, facecolor='0.9', edgecolor='0.5')\n",
    "    ax.add_patch(poly)\n",
    "\n",
    "ax.text(0.5 * (a + b), 30, r\"$S$\",\n",
    "        horizontalalignment='center', fontsize=20)\n",
    "\n",
    "fig.text(0.9, 0.05, '$x$')\n",
    "fig.text(0.1, 0.9, '$y$')\n",
    "\n",
    "ax.spines['right'].set_visible(False)\n",
    "ax.spines['top'].set_visible(False)\n",
    "ax.xaxis.set_ticks_position('bottom')\n",
    "ax.set_xticks((a, b, 3, 4, 5, 6, 7, 8))\n",
    "ax.set_xticklabels(('$a$', '$b$', '$x_1$', '$x_2$', '$x_3$', '$\\ldots$', '$\\ldots$', '$x_n$'))\n",
    "ax.set_yticks([])\n",
    "plt.savefig('f5.png', format='png') # Save plot in png format for future use\n",
    "plt.show()"
   ]
  },
  {
   "cell_type": "markdown",
   "metadata": {},
   "source": [
    "### Example 2.1.2\n",
    "In this example, we do the following:\n",
    "* Graph $f(x) = \\cos x$ from $x=0$ to $x=\\pi/2$. \n",
    "* Estimate the area under the curve $f(x) = \\cos x$ from $x=0$ to $x=\\pi/2$ using four approximating rectangles and right enpoints. \n",
    "* Repeat the previous step using left endpoint. "
   ]
  },
  {
   "cell_type": "code",
   "execution_count": 1,
   "metadata": {},
   "outputs": [
    {
     "data": {
      "image/png": "[encoded data removed]",
      "text/plain": [
       "<Figure size 432x288 with 1 Axes>"
      ]
     },
     "metadata": {
      "needs_background": "light"
     },
     "output_type": "display_data"
    }
   ],
   "source": [
    "import matplotlib.pyplot as plt\n",
    "import numpy as np\n",
    "\n",
    "x = np.linspace(0, np.pi/2, endpoint = True)\n",
    "f = lambda x: np.cos(x)\n",
    "\n",
    "plt.plot(x, f(x), 'b-', label = '$f(x)=\\cos (x)$')        # Plot with specified line and marker style\n",
    "plt.xlabel('x')                # Add label to x-axis\n",
    "plt.ylabel('y')                # Add label to y-axis\n",
    "plt.grid(False)\n",
    "plt.legend()\n",
    "plt.show()                     # Show plot on screen"
   ]
  },
  {
   "cell_type": "markdown",
   "metadata": {},
   "source": [
    "The line and marker styles are specified by the string characters shown in the\n",
    "following table (only some of the available characters are shown).\n",
    "\n",
    "| String      | Line/marker styles   |\n",
    "| :----- | :----------:|\n",
    "| '-' | Solid Line|\n",
    "| '--'| Dashed Line|\n",
    "| '-.'| Dash-dot line|\n",
    "| ':'| Dotted line|\n",
    "| 'o'| Circle marker|\n",
    "| '^'| Triangle marker|\n",
    "| 's'| Square marker |\n",
    "| 'h'| Hexagon marker|\n",
    "| 'x'| x marker|\n",
    "\n",
    "Some of the location (loc) codes for placement of the legend are\n",
    "Running the program produces the following screen:\n",
    "\n",
    "|Number| location|\n",
    "| :----- | :----------:|\n",
    "|0| ”Best” location|\n",
    "|1| Upper right|\n",
    "|2| Upper left|\n",
    "|3| Lower left|\n",
    "|4| Lower right|"
   ]
  },
  {
   "cell_type": "code",
   "execution_count": 5,
   "metadata": {},
   "outputs": [
    {
     "data": {
      "text/plain": [
       "-1.0"
      ]
     },
     "execution_count": 5,
     "metadata": {},
     "output_type": "execute_result"
    }
   ],
   "source": [
    "def f(x):\n",
    "    return np.cos(x)\n",
    "f(np.pi)"
   ]
  },
  {
   "cell_type": "code",
   "execution_count": 3,
   "metadata": {},
   "outputs": [],
   "source": [
    "def Riemann_sum(f, a, b, n, alpha):\n",
    "    x = np.zeros(n+1,float) # Initialize the mesh points\n",
    "    h = (b-a)/n             # Calculate the step size\n",
    "    sum = 0                 # Initialize the Riemann Sum \n",
    "    for i in range(n+1):\n",
    "        x[i] = a + i*h\n",
    "    for i in range(n):\n",
    "        sample = (1-alpha)*x[i] + alpha*x[i+1]\n",
    "        sum += f(sample)\n",
    "    return sum*h"
   ]
  },
  {
   "cell_type": "markdown",
   "metadata": {},
   "source": [
    "We next write a function to return an approximate area using the right endpoints."
   ]
  },
  {
   "cell_type": "code",
   "execution_count": 4,
   "metadata": {},
   "outputs": [],
   "source": [
    "def Right(f, a, b, n):\n",
    "    return Riemann_sum(f, a, b, n, alpha=1)"
   ]
  },
  {
   "cell_type": "code",
   "execution_count": 5,
   "metadata": {},
   "outputs": [
    {
     "name": "stdout",
     "output_type": "stream",
     "text": [
      "The estimate area using four approximating rectangles and right enpoints is 0.790766.\n"
     ]
    }
   ],
   "source": [
    "est_right = Right(f, a=0, b=np.pi/2, n=4)\n",
    "print('The estimate area using four approximating rectangles and right enpoints is %f.' %est_right)"
   ]
  },
  {
   "cell_type": "markdown",
   "metadata": {},
   "source": [
    "We next write a function to return an approximate area using the left endpoints."
   ]
  },
  {
   "cell_type": "code",
   "execution_count": 6,
   "metadata": {},
   "outputs": [],
   "source": [
    "def Left(f, a, b, n):\n",
    "    return Riemann_sum(f, a, b, n, alpha=0)"
   ]
  },
  {
   "cell_type": "code",
   "execution_count": 7,
   "metadata": {},
   "outputs": [
    {
     "name": "stdout",
     "output_type": "stream",
     "text": [
      "The estimate area using four approximating rectangles and left enpoints is 1.183465.\n"
     ]
    }
   ],
   "source": [
    "est_left = Left(f, a=0, b=np.pi/2, n=4)\n",
    "print('The estimate area using four approximating rectangles and left enpoints is %f.' %est_left)"
   ]
  },
  {
   "cell_type": "markdown",
   "metadata": {},
   "source": [
    "Your turn: Change the number of n and guess the exact area. "
   ]
  },
  {
   "cell_type": "code",
   "execution_count": 8,
   "metadata": {},
   "outputs": [],
   "source": [
    "# Enter your code here\n",
    "..."
   ]
  },
  {
   "cell_type": "markdown",
   "metadata": {},
   "source": [
    "### Example 2.1.3 "
   ]
  },
  {
   "cell_type": "code",
   "execution_count": 9,
   "metadata": {},
   "outputs": [
    {
     "data": {
      "text/plain": [
       "array([0. , 0.5, 1. , 1.5, 2. , 2.5, 3. ])"
      ]
     },
     "execution_count": 9,
     "metadata": {},
     "output_type": "execute_result"
    }
   ],
   "source": [
    "import numpy as np\n",
    "\n",
    "# Enter the time data\n",
    "t = np.array([0, 0.5, 1.0, 1.5, 2.0, 2.5, 3.0])\n",
    "t"
   ]
  },
  {
   "cell_type": "code",
   "execution_count": 10,
   "metadata": {},
   "outputs": [
    {
     "data": {
      "text/plain": [
       "array([ 0. ,  6.2, 10.8, 14.9, 18.1, 19.4, 20.2])"
      ]
     },
     "execution_count": 10,
     "metadata": {},
     "output_type": "execute_result"
    }
   ],
   "source": [
    "# Enter the speed data \n",
    "s = np.array([0, 6.2, 10.8, 14.9, 18.1, 19.4, 20.2])\n",
    "s"
   ]
  },
  {
   "cell_type": "code",
   "execution_count": 11,
   "metadata": {},
   "outputs": [
    {
     "name": "stdout",
     "output_type": "stream",
     "text": [
      "The lower estimate for the distance that the runner traveled during three seconds is 34.700000.\n"
     ]
    }
   ],
   "source": [
    "n = len(t)\n",
    "lower = 0 \n",
    "for i in range(n-1):\n",
    "    lower += s[i]*0.5\n",
    "print('The lower estimate for the distance that the runner traveled during three seconds is %f.' %lower)"
   ]
  },
  {
   "cell_type": "code",
   "execution_count": 12,
   "metadata": {},
   "outputs": [
    {
     "name": "stdout",
     "output_type": "stream",
     "text": [
      "The upper estimate for the distance that the runner traveled during three seconds is 44.800000.\n"
     ]
    }
   ],
   "source": [
    "upper = 0 \n",
    "for i in range(1,n):\n",
    "    upper += s[i]*0.5\n",
    "print('The upper estimate for the distance that the runner traveled during three seconds is %f.' %upper)"
   ]
  },
  {
   "cell_type": "markdown",
   "metadata": {},
   "source": [
    "### Example 2.1.4"
   ]
  },
  {
   "cell_type": "code",
   "execution_count": 2,
   "metadata": {},
   "outputs": [
    {
     "data": {
      "image/png": "[encoded data removed]",
      "text/plain": [
       "<Figure size 432x288 with 1 Axes>"
      ]
     },
     "metadata": {
      "needs_background": "light"
     },
     "output_type": "display_data"
    }
   ],
   "source": [
    "f = lambda x: x - 2*np.log(x)\n",
    "\n",
    "x = np.linspace(1, 5, endpoint = True)\n",
    "\n",
    "plt.plot(x, f(x), 'g-', label = '$f(x)= x -2\\ln(x)$')        # Plot with specified line and marker style\n",
    "plt.xlabel('x')                # Add label to x-axis\n",
    "plt.ylabel('y')                # Add label to y-axis\n",
    "plt.grid(False)\n",
    "plt.legend()\n",
    "plt.show()                     # Show plot on screen\n"
   ]
  },
  {
   "cell_type": "code",
   "execution_count": 6,
   "metadata": {},
   "outputs": [
    {
     "name": "stdout",
     "output_type": "stream",
     "text": [
      "4.425016514435908\n",
      "3.8428075894920766\n",
      "3.643892339304109\n"
     ]
    }
   ],
   "source": [
    "def Right(f, a, b, n):\n",
    "    return Riemann_sum(f, a, b, n, alpha=1)\n",
    "def Left(f, a, b, n):\n",
    "    return Riemann_sum(f, a, b, n, alpha=0)\n",
    "def Mid(f, a, b, n):\n",
    "    return Riemann_sum(f, a, b, n, alpha=0.5)\n",
    "\n",
    "A_R = Right(f, 1, 5, n=4)\n",
    "A_M = Mid(f, 1, 5, n=4)\n",
    "A_L = Left(f, 1, 5, n=4)\n",
    "print(A_R)\n",
    "print(A_M)\n",
    "print(A_L)"
   ]
  },
  {
   "cell_type": "markdown",
   "metadata": {},
   "source": [
    "We can improve our estimates by using 8 rectangles. "
   ]
  },
  {
   "cell_type": "code",
   "execution_count": 7,
   "metadata": {},
   "outputs": [
    {
     "name": "stdout",
     "output_type": "stream",
     "text": [
      "4.133912051963993\n",
      "3.889235095548718\n",
      "3.7433499643980928\n"
     ]
    }
   ],
   "source": [
    "A_R = Right(f, 1, 5, n=8)\n",
    "A_M = Mid(f, 1, 5, n=8)\n",
    "A_L = Left(f, 1, 5, n=8)\n",
    "print(A_R)\n",
    "print(A_M)\n",
    "print(A_L)"
   ]
  },
  {
   "cell_type": "markdown",
   "metadata": {},
   "source": [
    "You may try using more rectangles."
   ]
  },
  {
   "cell_type": "code",
   "execution_count": 8,
   "metadata": {},
   "outputs": [],
   "source": [
    "# Enter your code here\n",
    "..."
   ]
  }
 ],
 "metadata": {
  "kernelspec": {
   "display_name": "Python 3",
   "language": "python",
   "name": "python3"
  },
  "language_info": {
   "codemirror_mode": {
    "name": "ipython",
    "version": 3
   },
   "file_extension": ".py",
   "mimetype": "text/x-python",
   "name": "python",
   "nbconvert_exporter": "python",
   "pygments_lexer": "ipython3",
   "version": "3.7.3"
  }
 },
 "nbformat": 4,
 "nbformat_minor": 4
}
