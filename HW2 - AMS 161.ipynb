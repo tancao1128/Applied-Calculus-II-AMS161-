{
 "cells": [
  {
   "cell_type": "markdown",
   "metadata": {},
   "source": [
    "# Homework 2\n",
    "\n",
    "Please modify the provided codes in this notebook and submit your file on the blackboard with the name:\n",
    "\n",
    "**Number-FirstName-LastName-HW2-AMS161.ipynb**"
   ]
  },
  {
   "cell_type": "markdown",
   "metadata": {},
   "source": [
    "## Question 1(b) \n",
    "The code in this question is used to test your answered calculated by hand.  "
   ]
  },
  {
   "cell_type": "code",
   "execution_count": null,
   "metadata": {
    "scrolled": true
   },
   "outputs": [],
   "source": [
    "import scipy.integrate as integrate\n",
    "import numpy as np\n",
    "# i \n",
    "f = lambda x: x**4 - 3/4*x**2 + 2/3*x-1\n",
    "Ans_i = integrate.quad(f, 0, 2)\n",
    "print(Ans_i)"
   ]
  },
  {
   "cell_type": "code",
   "execution_count": null,
   "metadata": {
    "scrolled": true
   },
   "outputs": [],
   "source": [
    "# ii\n",
    "f = lambda x: x*(x**(1/3) + x**(1/4))\n",
    "Ans_ii = integrate.quad(f, 0, 1)\n",
    "print(Ans_ii)"
   ]
  },
  {
   "cell_type": "code",
   "execution_count": null,
   "metadata": {
    "scrolled": true
   },
   "outputs": [],
   "source": [
    "# iii\n",
    "f = lambda x: (np.sin(x)+np.sin(x)*np.tan(x)**2)*np.cos(x)**2\n",
    "Ans_iii = integrate.quad(f, 0, np.pi/3)\n",
    "print(Ans_iii)"
   ]
  },
  {
   "cell_type": "code",
   "execution_count": null,
   "metadata": {
    "scrolled": true
   },
   "outputs": [],
   "source": [
    "# iv\n",
    "f = lambda x: abs(2*x-1)\n",
    "Ans_iv = integrate.quad(f, 0, 2)\n",
    "print(Ans_iv)"
   ]
  },
  {
   "cell_type": "code",
   "execution_count": null,
   "metadata": {
    "scrolled": true
   },
   "outputs": [],
   "source": [
    "# v\n",
    "f = lambda x: abs(np.sin(x))\n",
    "Ans_v = integrate.quad(f, 0, 3*np.pi/2)\n",
    "print(Ans_v)"
   ]
  },
  {
   "cell_type": "markdown",
   "metadata": {},
   "source": [
    "## Question 2a\n",
    "\n",
    "Calculate the indefinite integrals in the assignment. Run the following code to test your answer solved by hand."
   ]
  },
  {
   "cell_type": "code",
   "execution_count": 2,
   "metadata": {
    "scrolled": true
   },
   "outputs": [
    {
     "data": {
      "text/latex": [
       "$\\displaystyle C - \\frac{\\sin^{3}{\\left(x \\right)}}{3} + \\sin{\\left(x \\right)}$"
      ],
      "text/plain": [
       "C - sin(x)**3/3 + sin(x)"
      ]
     },
     "execution_count": 2,
     "metadata": {},
     "output_type": "execute_result"
    }
   ],
   "source": [
    "import sympy as sp\n",
    "# i\n",
    "# Introduce the symbols x and C\n",
    "x, C = sp.symbols('x C')\n",
    "\n",
    "# Enter the integrand \n",
    "f = sp.cos(x)**3\n",
    "\n",
    "# Inetgrate the integrand f\n",
    "F = sp.integrate(f,x) + C\n",
    "F"
   ]
  },
  {
   "cell_type": "markdown",
   "metadata": {},
   "source": [
    "Modify and run the following code to find $\\displaystyle\\int x\\cos x\\;dx$."
   ]
  },
  {
   "cell_type": "code",
   "execution_count": null,
   "metadata": {},
   "outputs": [],
   "source": [
    "# ii \n",
    "# Enter the integrand \n",
    "f = x*sp.cos(x)\n",
    "\n",
    "# Inetgrate the integrand f\n",
    "# Enter your code here\n",
    "..."
   ]
  },
  {
   "cell_type": "markdown",
   "metadata": {},
   "source": [
    "## Question 2b\n",
    "\n",
    "Calculate the indefinite integrals in the assignment. Modify and run the following code to test your answer solved by hand."
   ]
  },
  {
   "cell_type": "code",
   "execution_count": 12,
   "metadata": {},
   "outputs": [
    {
     "data": {
      "text/plain": [
       "Ellipsis"
      ]
     },
     "execution_count": 12,
     "metadata": {},
     "output_type": "execute_result"
    }
   ],
   "source": [
    "# i \n",
    "# Introduce the symbols x and C\n",
    "x, v, C = sp.symbols('x v C')\n",
    "\n",
    "# Enter the integrand \n",
    "# Keep in mind that your integrand in this case is a function of v\n",
    "f = v*(v**2+2)\n",
    "\n",
    "# Inetgrate the integrand f\n",
    "# Enter your code here\n",
    "...\n"
   ]
  },
  {
   "cell_type": "code",
   "execution_count": 7,
   "metadata": {},
   "outputs": [
    {
     "data": {
      "text/latex": [
       "$\\displaystyle \\frac{1}{\\cos{\\left(x \\right)}}$"
      ],
      "text/plain": [
       "1/cos(x)"
      ]
     },
     "execution_count": 7,
     "metadata": {},
     "output_type": "execute_result"
    }
   ],
   "source": [
    "# ii \n",
    "# Enter the integrand \n",
    "f = (sp.sin(x))/(sp.cos(x))**2\n",
    "\n",
    "# Inetgrate the integrand f\n",
    "# Enter your code here\n",
    "F = sp.integrate(f,x)\n",
    "F"
   ]
  },
  {
   "cell_type": "markdown",
   "metadata": {},
   "source": [
    "## Question 2c\n",
    "\n",
    "I first present an example with the full code, then you can write your own code to solve two problems in this question.  \n",
    "\n",
    "**Example:** Find $\\displaystyle\\int \\cos x+x\\;dx$. Illustrate by graphing several members of the family on the same screen. \n",
    "\n",
    "**Solution** It is not hard to see that \n",
    "$$\n",
    "\\int\\cos x+x\\;dx = \\sin x+ x^2/2 + C = F(x).\n",
    "$$\n",
    "We need to graph this general antiderivative $F$ with several values of $C$; for instance, $C=-2, -1, 0, 1, 2$."
   ]
  },
  {
   "cell_type": "code",
   "execution_count": null,
   "metadata": {},
   "outputs": [],
   "source": [
    "# Define the function F depending on x and the constant C\n",
    "import numpy as np\n",
    "\n",
    "# When using the trigonometric functions, be sure to type np. (numpy) in front of the function.\n",
    "F = lambda x, C: np.sin(x) + x**2/2 + C \n",
    "\n",
    "# Specify the domain of x before plotting\n",
    "x = np.linspace(-4, 4, endpoint = True)\n",
    "\n",
    "# Plot the function with different values of C\n",
    "import matplotlib.pyplot as plt\n",
    "\n",
    "plt.plot(x, F(x, C=-2) , label = '$C=-2$') # Plot the first curve corresponding to C=-2\n",
    "plt.plot(x, F(x, C=-1) , label = '$C=-1$') # Plot the first curve corresponding to C=-1\n",
    "plt.plot(x, F(x, C=0) , label = '$C=0$') # Plot the first curve corresponding to C=0\n",
    "plt.plot(x, F(x, C=1) , label = '$C=1$') # Plot the first curve corresponding to C=1\n",
    "plt.plot(x, F(x, C=2) , label = '$C=2$') # Plot the first curve corresponding to C=2\n",
    "plt.xlabel('x')\n",
    "plt.ylabel('y')\n",
    "plt.grid(True)\n",
    "plt.legend()\n",
    "plt.show()"
   ]
  },
  {
   "cell_type": "markdown",
   "metadata": {},
   "source": [
    "**Your turn:** \n",
    "1. First calculate two integrals in the assignment.\n",
    "2. Graph several members of the family of the antiderivatives. "
   ]
  },
  {
   "cell_type": "markdown",
   "metadata": {},
   "source": [
    "i. $\\displaystyle\\int\\left(\\cos x+\\frac{1}{2}x \\right)\\; dx$"
   ]
  },
  {
   "cell_type": "code",
   "execution_count": null,
   "metadata": {},
   "outputs": [],
   "source": [
    "# Enter your code here\n",
    "...\n"
   ]
  },
  {
   "cell_type": "markdown",
   "metadata": {},
   "source": [
    "ii. $\\displaystyle\\int\\left(e^x-2x^2\\right)\\; dx$\n",
    "\n",
    "Note that to use the exponential function $e^x$, use the following syntax: **np.exp(x)**"
   ]
  },
  {
   "cell_type": "code",
   "execution_count": null,
   "metadata": {},
   "outputs": [],
   "source": [
    "# Enter your code here\n",
    "...\n"
   ]
  },
  {
   "cell_type": "markdown",
   "metadata": {},
   "source": [
    "## Question 6\n",
    "\n",
    "6) This question involves the **sine integral function**: \n",
    "$$\n",
    "\\mbox{Si}(x) = \\int^x_0\\dfrac{\\sin t}{t}\\; dt.\n",
    "$$\n",
    "In this question, you will do the following tasks.\n",
    "* (a) Draw the graph of Si.\n",
    "* (b) At what values of $x$ does this function have local maximum values?\n",
    "* (c) Find the coordinates of the first inflection point to the right of the origin. \n",
    "* (d) Does this function have horizontal asymptotes?\n",
    "* (e) Solve the following equation correct to one decimal place:\n",
    "\t$$\n",
    "\t\\int^x_0\\dfrac{\\sin t}{t}=1.\n",
    "\t$$\t\n"
   ]
  },
  {
   "cell_type": "code",
   "execution_count": 2,
   "metadata": {},
   "outputs": [],
   "source": [
    "import scipy.integrate as integrate\n",
    "import numpy as np\n",
    "\n",
    "# (a) Graph \n",
    "f = lambda t: np.sin(t)/t\n",
    "Si = lambda x: integrate.quad(f, 0, x)[0]"
   ]
  },
  {
   "cell_type": "markdown",
   "metadata": {},
   "source": [
    "You may try to calculate several values of Si$(x)$"
   ]
  },
  {
   "cell_type": "code",
   "execution_count": 3,
   "metadata": {},
   "outputs": [
    {
     "name": "stdout",
     "output_type": "stream",
     "text": [
      "0.9460830703671831\n",
      "1.6054129768026946\n"
     ]
    }
   ],
   "source": [
    "print(Si(1))\n",
    "print(Si(2))"
   ]
  },
  {
   "cell_type": "markdown",
   "metadata": {},
   "source": [
    "### (a) Run the following code to get the graph of Si **(2pts)**."
   ]
  },
  {
   "cell_type": "code",
   "execution_count": 4,
   "metadata": {},
   "outputs": [
    {
     "data": {
      "image/png": "[encoded data removed]",
      "text/plain": [
       "<Figure size 432x288 with 1 Axes>"
      ]
     },
     "metadata": {
      "needs_background": "light"
     },
     "output_type": "display_data"
    }
   ],
   "source": [
    "import numpy as np\n",
    "import matplotlib.pyplot as plt\n",
    "\n",
    "# (a) Graph Si\n",
    "x = np.linspace(0.001, 6, endpoint = True)\n",
    "\n",
    "z = []\n",
    "for index in x:\n",
    "    z.append(Si(index))\n",
    "z = np.array(z)\n",
    "\n",
    "plt.plot(x, z, label = '$y=Si(x)$')\n",
    "plt.xlabel('x')\n",
    "plt.ylabel('y')\n",
    "plt.grid(True)\n",
    "plt.legend()\n",
    "plt.show()"
   ]
  },
  {
   "cell_type": "markdown",
   "metadata": {},
   "source": [
    "### (b) Based on the graph of Si$(x)$, find $x$ such that $A= \\mbox{Si}(x)$ is a local maximum value (2pts).\n",
    "\n",
    "Write $x$ and $A=\\mbox{Si}(x)$ in your HW paper. The value of $A$ can be found by running the following code. "
   ]
  },
  {
   "cell_type": "code",
   "execution_count": 5,
   "metadata": {},
   "outputs": [
    {
     "name": "stdout",
     "output_type": "stream",
     "text": [
      "A local maximum of Si is 1.85.\n"
     ]
    }
   ],
   "source": [
    "A = max(z)\n",
    "print('A local maximum of Si is %.2f.' %A)"
   ]
  },
  {
   "cell_type": "markdown",
   "metadata": {},
   "source": [
    "### (e) Based on the graph of Si$(x)$, try to guess a solution of the equation (2pts).\n",
    "$$\n",
    "\\int^x_0\\dfrac{\\sin t}{t}=1.\n",
    "$$\n",
    "Write your guess in the HW paper. Then confirm your guess by running the following code."
   ]
  },
  {
   "cell_type": "code",
   "execution_count": 6,
   "metadata": {
    "scrolled": true
   },
   "outputs": [
    {
     "name": "stdout",
     "output_type": "stream",
     "text": [
      "[1.06483973]\n"
     ]
    }
   ],
   "source": [
    "from scipy.optimize import fsolve\n",
    "\n",
    "e = lambda x: Si(x) - 1\n",
    "e(1)\n",
    "print(fsolve(e, 0.1))"
   ]
  },
  {
   "cell_type": "markdown",
   "metadata": {},
   "source": [
    "## Question 7 \n",
    "\n",
    "This question involves the function \n",
    "$$\n",
    "f(x) = \\left\\{\n",
    "\\begin{array}{llll}\n",
    "0 & \\mbox{if} &\tx<0\\\\\n",
    "x & \\mbox{if} & 0\\le x\\le 1\\\\\n",
    "2-x &\\mbox{if} & 1<x\\le 2\\\\\n",
    "0 & \\mbox{if} & x>2\n",
    "\\end{array}\n",
    "\\right.\n",
    "$$ \t\n",
    "and \n",
    "$$\n",
    "g(x) = \\int^x_0f(t)\\; dt.\n",
    "$$\n",
    "\n",
    "* (a) Find an expression for $g(x)$ similar to the one for $f(x)$. Please write your answer showing all supporting workn in your HW papers. \n",
    "* (b) Sketch the graphs of $f$ and $g$.\n",
    "* (c) Where is $f$ differentiable? Where is $g$ differentiable?"
   ]
  },
  {
   "cell_type": "code",
   "execution_count": 1,
   "metadata": {},
   "outputs": [],
   "source": [
    "# We first define f in Python\n",
    "def f(x):\n",
    "    if (x < 0):\n",
    "        y = 0\n",
    "    elif (0 <= x <=1):\n",
    "        y = x\n",
    "    elif (1<x <=2):\n",
    "        y = 2-x\n",
    "    else:\n",
    "        y = 0\n",
    "    return y"
   ]
  },
  {
   "cell_type": "code",
   "execution_count": 5,
   "metadata": {},
   "outputs": [
    {
     "data": {
      "text/plain": [
       "0.1"
      ]
     },
     "execution_count": 5,
     "metadata": {},
     "output_type": "execute_result"
    }
   ],
   "source": [
    "# Try to evaluate several values of f\n",
    "f(0.1)"
   ]
  },
  {
   "cell_type": "markdown",
   "metadata": {},
   "source": [
    "We try to graph the function $f$. "
   ]
  },
  {
   "cell_type": "code",
   "execution_count": 10,
   "metadata": {},
   "outputs": [
    {
     "data": {
      "image/png": "[encoded data removed]",
      "text/plain": [
       "<Figure size 432x288 with 1 Axes>"
      ]
     },
     "metadata": {},
     "output_type": "display_data"
    }
   ],
   "source": [
    "import matplotlib.pyplot as plt\n",
    "import numpy as np\n",
    "\n",
    "# Specify the domain of x \n",
    "x = np.linspace(0, 4, 1000)\n",
    "\n",
    "# Vectorize the piecewise function f\n",
    "vf = np.vectorize(f)\n",
    "\n",
    "plt.plot(x, vf(x))\n",
    "plt.xlabel('x')\n",
    "plt.ylabel('y')\n",
    "plt.grid(True)\n",
    "plt.show()"
   ]
  },
  {
   "cell_type": "markdown",
   "metadata": {},
   "source": [
    "### (b)  Make the function $g$ in Python by modifying the following code (2 pts)."
   ]
  },
  {
   "cell_type": "code",
   "execution_count": null,
   "metadata": {},
   "outputs": [],
   "source": [
    "def g(x):\n",
    "    if (x < 0):\n",
    "        y = ... # Modify your code here\n",
    "    elif (0 <= x <=1):\n",
    "        y = x**2/2\n",
    "    elif (1<x <=2):\n",
    "        y = ... # Modify your code here\n",
    "    else:\n",
    "        y = ... # Modify your code here\n",
    "    return y"
   ]
  },
  {
   "cell_type": "markdown",
   "metadata": {},
   "source": [
    "### Graph the funcriob f and g (2 pts)."
   ]
  },
  {
   "cell_type": "code",
   "execution_count": null,
   "metadata": {},
   "outputs": [],
   "source": [
    "import matplotlib.pyplot as plt\n",
    "import numpy as np\n",
    "\n",
    "# Specify the domain of x \n",
    "x = np.linspace(0, 4, 1000)\n",
    "\n",
    "# Vectorize the piecewise function f \n",
    "vf = np.vectorize(f)\n",
    "\n",
    "# Vectorize the piecewise function g\n",
    "...\n",
    "\n",
    "# Plot function f\n",
    "plt.plot(x, vf(x), label = '$y=f(x)$')\n",
    "# Plot funttion g\n",
    "... # Modify your code here\n",
    "\n",
    "# plot the rest\n",
    "plt.xlabel('x')\n",
    "plt.ylabel('y')\n",
    "plt.grid(True)\n",
    "plt.legend()\n",
    "plt.savefig('f4.png', format='png') # Save plot in png format for future use\n",
    "plt.show()"
   ]
  },
  {
   "cell_type": "code",
   "execution_count": null,
   "metadata": {},
   "outputs": [],
   "source": []
  }
 ],
 "metadata": {
  "kernelspec": {
   "display_name": "Python 3",
   "language": "python",
   "name": "python3"
  },
  "language_info": {
   "codemirror_mode": {
    "name": "ipython",
    "version": 3
   },
   "file_extension": ".py",
   "mimetype": "text/x-python",
   "name": "python",
   "nbconvert_exporter": "python",
   "pygments_lexer": "ipython3",
   "version": "3.8.3"
  }
 },
 "nbformat": 4,
 "nbformat_minor": 2
}
