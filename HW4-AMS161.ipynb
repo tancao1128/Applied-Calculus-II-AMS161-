{
 "cells": [
  {
   "cell_type": "markdown",
   "metadata": {},
   "source": [
    "# Home work 4\n",
    "\n",
    "In this assignment you will modify the provided code from questions 2 to 8.\n",
    "Throughout the assignment, you need the following necessary code.\n"
   ]
  },
  {
   "cell_type": "code",
   "execution_count": null,
   "metadata": {},
   "outputs": [],
   "source": [
    "import numpy as np\n",
    "\n",
    "def Riemann_sum(f, a, b, n, alpha):\n",
    "    x = np.zeros(n+1,float) # Initialize the mesh points\n",
    "    h = (b-a)/n             # Calculate the step size\n",
    "    sum = 0                 # Initialize the Riemann Sum \n",
    "    for i in range(n+1):\n",
    "        x[i] = a + i*h\n",
    "    for i in range(n):\n",
    "        sample = (1-alpha)*x[i] + alpha*x[i+1]\n",
    "        sum += f(sample)\n",
    "    return sum*h\n",
    "\n",
    "# Some numerical methods to approxmiate integrals\n",
    "def Right(f, a, b, n):\n",
    "    return Riemann_sum(f, a, b, n, alpha=1)\n",
    "def Left(f, a, b, n):\n",
    "    return Riemann_sum(f, a, b, n, alpha=0)\n",
    "def Mid(f, a, b, n):\n",
    "    return Riemann_sum(f, a, b, n, alpha=0.5)\n",
    "def Trap(f, a, b, n):\n",
    "    return 0.5*Left(f, a, b, n) + 0.5*Right(f, a, b, n)\n",
    "\n",
    "# Simpson's Rule \n",
    "def Simp(f, a, b, n):\n",
    "    h = (b-a)/n\n",
    "    S = f(a) + f(b)\n",
    "    S_1 = 0\n",
    "    S_2 = 0\n",
    "    for i in range(1,n):\n",
    "        x = a + i*h\n",
    "        if i%2 == 0:\n",
    "            S_2 += f(x)\n",
    "        else:\n",
    "            S_1 += f(x)\n",
    "    return h*(S + 2*S_2 + 4*S_1)/3\n",
    "\n",
    "# The graph of numerical rules\n",
    "import matplotlib.pyplot as plt\n",
    "\n",
    "def graph_LRMT(f, a, b, N, rule):\n",
    "    # x and y values for the rule\n",
    "    x = np.linspace(a,b,N+1)\n",
    "    y = f(x)\n",
    "\n",
    "    # X and Y values for plotting y=f(x)\n",
    "    X = np.linspace(a,b,100)\n",
    "    Y = f(X)\n",
    "    plt.plot(X,Y)\n",
    "    \n",
    "    for i in range(N):\n",
    "        xs = [x[i],x[i],x[i+1],x[i+1]]\n",
    "        if rule == 'L':\n",
    "            ys = [0, f(x[i]), f(x[i]), 0]\n",
    "            plt.title('Left Endpoint Rule, N = {}'.format(N))\n",
    "        elif rule == 'R':\n",
    "            ys = [0, f(x[i+1]), f(x[i+1]), 0]\n",
    "            plt.title('Right Endpoint Rule, N = {}'.format(N))\n",
    "        elif rule == 'M':\n",
    "            ys = [0, f(0.5*x[i]+0.5*x[i+1]),f(0.5*x[i]+0.5*x[i+1]),0]\n",
    "            plt.title('Midpoint Rule, N = {}'.format(N))\n",
    "        elif rule == 'T':\n",
    "            ys = [0,f(x[i]),f(x[i+1]),0]\n",
    "            plt.title('Trapezoidal Rule, N = {}'.format(N))\n",
    "        plt.fill(xs,ys,'b',edgecolor='b',alpha=0.2)\n",
    "    plt.show()    "
   ]
  },
  {
   "cell_type": "markdown",
   "metadata": {},
   "source": [
    "## Question 2\n",
    "\n",
    "We first plot the graph of the function $f(x) = \\sin\\left(\\frac{1}{2}x^2\\right)$."
   ]
  },
  {
   "cell_type": "code",
   "execution_count": null,
   "metadata": {},
   "outputs": [],
   "source": [
    "f = lambda x: np.sin(x**2/2)\n",
    "\n",
    "x = np.linspace(0, 1, endpoint = True)\n",
    "plt.ylim(0, 0.5) # Set the range of y-values displayed \n",
    "plt.plot(x, f(x))\n",
    "plt.xlabel(\"x-axis\")\n",
    "plt.ylabel(\"y-axis\")\n",
    "plt.grid(True)\n",
    "plt.show()"
   ]
  },
  {
   "cell_type": "markdown",
   "metadata": {},
   "source": [
    "### Q2a:\n",
    "Run the following code to get the graph of $L_2, R_2, M_2,$ and $T_2$."
   ]
  },
  {
   "cell_type": "code",
   "execution_count": null,
   "metadata": {},
   "outputs": [],
   "source": [
    "L2 = graph_LRMT(f, a=0, b=1, N=2, rule='L')"
   ]
  },
  {
   "cell_type": "code",
   "execution_count": null,
   "metadata": {},
   "outputs": [],
   "source": [
    "R2 = graph_LRMT(f, a=0, b=1, N=2, rule='R')"
   ]
  },
  {
   "cell_type": "code",
   "execution_count": null,
   "metadata": {},
   "outputs": [],
   "source": [
    "M2 = graph_LRMT(f, a=0, b=1, N=2, rule='M')"
   ]
  },
  {
   "cell_type": "code",
   "execution_count": null,
   "metadata": {},
   "outputs": [],
   "source": [
    "T2 = graph_LRMT(f, a=0, b=1, N=2, rule='T')"
   ]
  },
  {
   "cell_type": "markdown",
   "metadata": {},
   "source": [
    "### Q2b: \n",
    "Solve by hand."
   ]
  },
  {
   "cell_type": "markdown",
   "metadata": {},
   "source": [
    "### Q2c:\n",
    "Modify the following code to get the answers."
   ]
  },
  {
   "cell_type": "code",
   "execution_count": null,
   "metadata": {},
   "outputs": [],
   "source": [
    "L5 = Left(f, a=0, b=1, n=5)\n",
    "R5 = Right(f, a=0, b=1, n=5)\n",
    "M5 = Mid(f, a=0, b=1, n=5)  \n",
    "T5 = Trap(f, a=0, b=1, n=5)"
   ]
  },
  {
   "cell_type": "code",
   "execution_count": null,
   "metadata": {},
   "outputs": [],
   "source": [
    "print('L5 = {} \\nR5 = {} \\nM5 = {} \\nT5 = {}'.format(L5, R5, M5, T5))"
   ]
  },
  {
   "cell_type": "markdown",
   "metadata": {},
   "source": [
    "Let us plot the graph of $L_5, R_5, M_5,$ and $T_5$."
   ]
  },
  {
   "cell_type": "code",
   "execution_count": null,
   "metadata": {},
   "outputs": [],
   "source": [
    "L5 = graph_LRMT(f, a=0, b=1, N=5, rule='L')"
   ]
  },
  {
   "cell_type": "code",
   "execution_count": null,
   "metadata": {},
   "outputs": [],
   "source": [
    "R5 = graph_LRMT(f, a=0, b=1, N=5, rule='R')"
   ]
  },
  {
   "cell_type": "code",
   "execution_count": null,
   "metadata": {},
   "outputs": [],
   "source": [
    "M5 = graph_LRMT(f, a=0, b=1, N=5, rule='M')"
   ]
  },
  {
   "cell_type": "code",
   "execution_count": null,
   "metadata": {},
   "outputs": [],
   "source": [
    "T5 = graph_LRMT(f, a=0, b=1, N=5, rule='T')"
   ]
  },
  {
   "cell_type": "markdown",
   "metadata": {},
   "source": [
    "## Question 3\n",
    "\n",
    "### Q3a:\n",
    "Run the following code to get the answers."
   ]
  },
  {
   "cell_type": "code",
   "execution_count": null,
   "metadata": {},
   "outputs": [],
   "source": [
    "f = lambda x: np.sin(x**2) \n",
    "T4 = Trap(f, a=0, b=1/2, n=4)\n",
    "M4 = ... # Enter your code here\n",
    "S4 = ... # Enter your code here\n",
    "print('T4 = {} \\nM4 = {} \\nS4 = {}'.format(T4, M4, S4))"
   ]
  },
  {
   "cell_type": "markdown",
   "metadata": {},
   "source": [
    "### Q3b:\n",
    "Modify the following code to get the answers. "
   ]
  },
  {
   "cell_type": "code",
   "execution_count": null,
   "metadata": {},
   "outputs": [],
   "source": [
    "f = lambda t: 1/(1+t**2+t**4) \n",
    "T6 = ... # Enter your code here\n",
    "M6 = ... # Enter your code here\n",
    "S6 = ... # Enter your code here\n",
    "print('T6 = {} \\nM6 = {} \\nS6 = {}'.format(T6, M6, S6))"
   ]
  },
  {
   "cell_type": "markdown",
   "metadata": {},
   "source": [
    "### Q3c:\n",
    "Modify the following code to get the answers. "
   ]
  },
  {
   "cell_type": "code",
   "execution_count": null,
   "metadata": {},
   "outputs": [],
   "source": [
    "f = lambda x: np.sqrt(1+np.sqrt(x)) \n",
    "T8 = ... # Enter your code here\n",
    "M8 = ... # Enter your code here\n",
    "S8 = ... # Enter your code here\n",
    "print('T8 = {} \\nM8 = {} \\nS8 = {}'.format(T8, M8, S8))"
   ]
  },
  {
   "cell_type": "markdown",
   "metadata": {},
   "source": [
    "### Q3d:\n",
    "Modify the following code to get the answers. "
   ]
  },
  {
   "cell_type": "code",
   "execution_count": null,
   "metadata": {},
   "outputs": [],
   "source": [
    "f = lambda x: np.cos(np.sqrt(x))\n",
    "T10 = ... # Enter your code here\n",
    "M10 = ... # Enter your code here\n",
    "S10 = ... # Enter your code here\n",
    "print('T10 = {} \\nM10 = {} \\nS10 = {}'.format(T10, M10, S10))"
   ]
  },
  {
   "cell_type": "markdown",
   "metadata": {},
   "source": [
    "### Q3e:\n",
    "Modify the following code to get the answers. "
   ]
  },
  {
   "cell_type": "code",
   "execution_count": null,
   "metadata": {},
   "outputs": [],
   "source": [
    "f = lambda x: np.log(x**3+2)\n",
    "T10 = ... # Enter your code here\n",
    "M10 = ... # Enter your code here\n",
    "S10 = ... # Enter your code here\n",
    "print('T10 = {} \\nM10 = {} \\nS10 = {}'.format(T10, M10, S10))"
   ]
  },
  {
   "cell_type": "markdown",
   "metadata": {},
   "source": [
    "## Question 4\n",
    "### Q4a\n",
    "\n",
    "Write your own code to get the answer."
   ]
  },
  {
   "cell_type": "code",
   "execution_count": null,
   "metadata": {},
   "outputs": [],
   "source": [
    "# Enter your code here\n",
    "f = lambda x: np.cos(x**2)\n",
    "T8 = ... # Enter your code here\n",
    "M8 = ... # Enter your code here\n",
    "print('T8 = {} \\nM8 = {}'.format(T8, M8))"
   ]
  },
  {
   "cell_type": "markdown",
   "metadata": {},
   "source": [
    "### Q4b \n",
    "\n",
    "Use Theorem 2.8.3 to estimate the errors in the Trapeoidal and Midpoint rules. "
   ]
  },
  {
   "cell_type": "code",
   "execution_count": null,
   "metadata": {},
   "outputs": [],
   "source": [
    "import sympy as sp\n",
    "\n",
    "x, t = sp.symbols('x t')\n",
    "def Nth_der(f, variable, N):\n",
    "    f_0 = f\n",
    "    for k in range(N):\n",
    "        f_prime = sp.diff(f_0,variable)\n",
    "        f_0 = f_prime\n",
    "    return f_0\n"
   ]
  },
  {
   "cell_type": "code",
   "execution_count": null,
   "metadata": {},
   "outputs": [],
   "source": [
    "f = sp.cos(x**2)\n",
    "f_2prime = Nth_der(f, x, 2)\n",
    "f_2prime"
   ]
  },
  {
   "cell_type": "markdown",
   "metadata": {},
   "source": [
    "We can estimate that $|f''(x)| = |4x^2\\cos(x^2)-2\\sin(x^2)| \\le 6$ for all $x\\in [0,1]$. So we may take $K=6$.\n",
    "Then the upper bounds for $E_T$ and $E_M$ are given by \n",
    "$$\n",
    "\\dfrac{K(b-a)^3}{12n^2}\\;\\;\\mbox{and}\\;\\; \\dfrac{K(b-a)^3}{24n^2}.\n",
    "$$"
   ]
  },
  {
   "cell_type": "code",
   "execution_count": null,
   "metadata": {},
   "outputs": [],
   "source": [
    "K = 6\n",
    "a = 0\n",
    "b = 1\n",
    "n = 8\n",
    "E_T_hat = K*(b-a)**3/(12*n**2)\n",
    "E_M_hat = K*(b-a)**3/(24*n**2)\n",
    "print('The upper bound for $E_T$ is {}. \\nThe upper bound for $E_M$ is {}.'.format(E_T_hat, E_M_hat))"
   ]
  },
  {
   "cell_type": "markdown",
   "metadata": {},
   "source": [
    "### Q4c:\n",
    "In order to find the number of iteration $n$ needed to perform to guarantee that our approximations for $A$ are accurate to within the given degree of accuracy $\\epsilon$ using Theorem 2.8.3, we should solve the following inequality:\n",
    "\n",
    "1. For Trapezoidal Rule $\\dfrac{K(b-a)^3}{12n^2} \\le \\epsilon \\iff n\\ge \\sqrt{\\dfrac{K(b-a)^3}{12\\epsilon}}$\n",
    "2. For Midpoint Rule $\\dfrac{K(b-a)^3}{24n^2} \\le \\epsilon \\iff n\\ge\\sqrt{\\dfrac{K(b-a)^3}{24\\epsilon}}$\n",
    "\n",
    "where $K$ is a number such that $|f''(x)|\\le K$ for all $x\\in [a,b]$.\n"
   ]
  },
  {
   "cell_type": "markdown",
   "metadata": {},
   "source": [
    "####  Q4c(i) $\\epsilon = 0.01$"
   ]
  },
  {
   "cell_type": "code",
   "execution_count": null,
   "metadata": {},
   "outputs": [],
   "source": [
    "tol = 0.01\n",
    "nfrac_T = np.sqrt(K*(b-a)**3/(12*tol))\n",
    "nfrac_M = np.sqrt(K*(b-a)**3/(24*tol))\n",
    "n_T = int(nfrac_T)+1\n",
    "n_M = int(nfrac_M)+1\n",
    "print('For the Trapezoidal Rule, we need n_T = {} so that the approximation \\\n",
    "to our integral is accurate to within {}. \\\n",
    "\\nFor the Midpoint Rule, we need n_M = {} so that the approximation \\\n",
    "to our integral is accurate to within {}.'.format(n_T, tol, n_M, tol))"
   ]
  },
  {
   "cell_type": "markdown",
   "metadata": {},
   "source": [
    "####  Q4c(ii) $\\epsilon = 0.001$"
   ]
  },
  {
   "cell_type": "code",
   "execution_count": null,
   "metadata": {},
   "outputs": [],
   "source": [
    "tol = 0.001\n",
    "... # Enter your code here"
   ]
  },
  {
   "cell_type": "markdown",
   "metadata": {},
   "source": [
    "####  Q4c(ii) $\\epsilon = 0.0001$"
   ]
  },
  {
   "cell_type": "code",
   "execution_count": null,
   "metadata": {},
   "outputs": [],
   "source": [
    "tol = 0.0001\n",
    "... # Enter your code here"
   ]
  },
  {
   "cell_type": "markdown",
   "metadata": {},
   "source": [
    "## Question 5\n",
    "The exact value for the intergal $\\int^\\pi_0\\sin x\\;dx $ is 2.   \n",
    "\n",
    "### Q5a"
   ]
  },
  {
   "cell_type": "code",
   "execution_count": null,
   "metadata": {},
   "outputs": [],
   "source": [
    "import scipy.integrate as integrate\n",
    "import scipy.special as special\n",
    "\n",
    "f =  lambda x: np.sin(x)\n",
    "A = integrate.quad(f, 0, np.pi)[0]\n",
    "A"
   ]
  },
  {
   "cell_type": "code",
   "execution_count": null,
   "metadata": {},
   "outputs": [],
   "source": [
    "a = 0\n",
    "b = np.pi\n",
    "n = 10\n",
    "T10 = Trap(f, a, b, n)\n",
    "M10 = ... # Enter your code here\n",
    "S10 = ... # Enter your code here\n",
    "E_T = A - T10\n",
    "E_M = A - M10\n",
    "E_S = A - S10\n",
    "print('T10 = {}, M10 = {}, S10 = {} \\\n",
    "\\nE_T = {}, E_M = {}, E_S = {}'.format(T10, M10, S10, E_T, E_M, E_S))"
   ]
  },
  {
   "cell_type": "markdown",
   "metadata": {},
   "source": [
    "### Q5b \n",
    "To get the error estimates given by Theorem 2.8.3 and Theorem 2.8.7, we need to compute the second and fourth order derivatives of $f(x) = \\sin (x)$."
   ]
  },
  {
   "cell_type": "code",
   "execution_count": null,
   "metadata": {},
   "outputs": [],
   "source": [
    "f = sp.sin(x)\n",
    "f_2prime = Nth_der(f, x, 2)\n",
    "f_2prime "
   ]
  },
  {
   "cell_type": "code",
   "execution_count": null,
   "metadata": {},
   "outputs": [],
   "source": [
    "f_4prime = Nth_der(f, x, 4)\n",
    "f_4prime"
   ]
  },
  {
   "cell_type": "markdown",
   "metadata": {},
   "source": [
    "It is easy to see that $K=1$ since $|f''(x)| = |f^{(4)}(x)| \\le 1$ for all $x\\in [0,\\pi]$."
   ]
  },
  {
   "cell_type": "code",
   "execution_count": null,
   "metadata": {},
   "outputs": [],
   "source": [
    "K = 1\n",
    "a = 0\n",
    "b = np.pi\n",
    "n = 10\n",
    "E_T_hat = K*(b-a)**3/(12*n**2)\n",
    "E_M_hat = K*(b-a)**3/(24*n**2)\n",
    "E_S_hat = K*(b-a)**5/(180*n**4)\n",
    "print('The upper bound for E_T is {}. \\\n",
    "\\nThe upper bound for E_M is {} \\\n",
    "\\nThe upper boound for E_S is {}.'.format(E_T_hat, E_M_hat , E_S_hat))"
   ]
  },
  {
   "cell_type": "code",
   "execution_count": null,
   "metadata": {},
   "outputs": [],
   "source": [
    "from pandas import DataFrame\n",
    "\n",
    "table = {'The actual error': [abs(E_T), abs(E_M), abs(E_S)], \n",
    "        'The error estimate': [E_T_hat, E_M_hat , E_S_hat] }\n",
    "DataFrame(table)"
   ]
  },
  {
   "cell_type": "markdown",
   "metadata": {},
   "source": [
    "### Q5c\n"
   ]
  },
  {
   "cell_type": "code",
   "execution_count": null,
   "metadata": {},
   "outputs": [],
   "source": [
    "K = 1\n",
    "a = 0\n",
    "b = np.pi"
   ]
  },
  {
   "cell_type": "markdown",
   "metadata": {},
   "source": [
    "#### Q5c(i): $\\epsilon = 0.001$"
   ]
  },
  {
   "cell_type": "code",
   "execution_count": null,
   "metadata": {},
   "outputs": [],
   "source": [
    "tol = 0.001\n",
    "nfrac_T = np.sqrt(K*(b-a)**3/(12*tol))\n",
    "nfrac_M = np.sqrt(K*(b-a)**3/(24*tol))\n",
    "nfrac_S = (K*(b-a)**5/(180*tol))**(1/4)\n",
    "n_T = int(nfrac_T)+1\n",
    "n_M = int(nfrac_M)+1\n",
    "n_S = int(nfrac_S)+2\n",
    "print('For the Trapezoidal Rule, we need n_T = {} so that the approximation \\\n",
    "to our integral is accurate to within {}. \\\n",
    "\\nFor the Midpoint Rule, we need n_T = {} so that the approximation \\\n",
    "to our integral is accurate to within {}.\\\n",
    "\\nFor the Simpson\\'s Rule, we need n_S = {} so that the approximation \\\n",
    "to our integral is accurate to within {}'.format(n_T, tol, n_M, tol, n_S, tol))"
   ]
  },
  {
   "cell_type": "markdown",
   "metadata": {},
   "source": [
    "#### Q5c(ii): $\\epsilon = 0.0001$"
   ]
  },
  {
   "cell_type": "code",
   "execution_count": null,
   "metadata": {},
   "outputs": [],
   "source": [
    "tol = 0.0001\n",
    "... # Enter your code here"
   ]
  },
  {
   "cell_type": "markdown",
   "metadata": {},
   "source": [
    "#### Q5c(iii): $\\epsilon = 0.00001$"
   ]
  },
  {
   "cell_type": "code",
   "execution_count": null,
   "metadata": {},
   "outputs": [],
   "source": [
    "tol = 0.00001\n",
    "... # Enter your code here"
   ]
  },
  {
   "cell_type": "markdown",
   "metadata": {},
   "source": [
    "## Question 6\n",
    "Given $f(x) = e^{\\cos x}$, we want to approximate $I = \\int^{2\\pi}_0f(x)\\; dx$. \n",
    "\n",
    "We first compute $f''(x)$."
   ]
  },
  {
   "cell_type": "code",
   "execution_count": null,
   "metadata": {},
   "outputs": [],
   "source": [
    "f = sp.exp(sp.cos(x))\n",
    "f"
   ]
  },
  {
   "cell_type": "code",
   "execution_count": null,
   "metadata": {},
   "outputs": [],
   "source": [
    "f_2prime = Nth_der(f, x, 2)\n",
    "f_2prime "
   ]
  },
  {
   "cell_type": "code",
   "execution_count": null,
   "metadata": {},
   "outputs": [],
   "source": [
    "from numpy import sin, cos, exp\n",
    "f_2prime_func = lambda x: exp(cos(x))*(sin(x))**2 - exp(cos(x))*cos(x)\n"
   ]
  },
  {
   "cell_type": "markdown",
   "metadata": {},
   "source": [
    "### Q6a\n",
    "Graph $f''(x)$ to get a good upper bound for $|f''(x)|$."
   ]
  },
  {
   "cell_type": "code",
   "execution_count": null,
   "metadata": {},
   "outputs": [],
   "source": [
    "x = np.linspace(0, 2*np.pi, 100)\n",
    "plt.plot(x,f_2prime_func (x))\n",
    "plt.plot(x,0*x)\n",
    "plt.xlabel(\"x-axis\")\n",
    "plt.ylabel(\"y-axis\")\n",
    "plt.grid(True)\n",
    "plt.show()"
   ]
  },
  {
   "cell_type": "markdown",
   "metadata": {},
   "source": [
    "It follows from the graph that \n",
    "$$\n",
    "K_1 = \\max_{x\\in[0,2\\pi]}|f''(x)| = -\\min_{x\\in [0,2\\pi]}f''(x)\n",
    "$$"
   ]
  },
  {
   "cell_type": "code",
   "execution_count": null,
   "metadata": {},
   "outputs": [],
   "source": [
    "K1 = -min(f_2prime_func(x))\n",
    "K1"
   ]
  },
  {
   "cell_type": "markdown",
   "metadata": {},
   "source": [
    "### Q6b"
   ]
  },
  {
   "cell_type": "code",
   "execution_count": null,
   "metadata": {},
   "outputs": [],
   "source": [
    "f = lambda x: exp(cos(x))\n",
    "a = 0 \n",
    "b = 2*np.pi\n",
    "M10 = ... # Enter your code here\n",
    "print('An approximation of I is {}.'.format(M10))"
   ]
  },
  {
   "cell_type": "markdown",
   "metadata": {},
   "source": [
    "### Q6c"
   ]
  },
  {
   "cell_type": "code",
   "execution_count": null,
   "metadata": {},
   "outputs": [],
   "source": [
    "n = 10\n",
    "E_M_hat = K1*(b-a)**3/(24*n**2)\n",
    "print('The upper bound for E_M is {}.'.format(E_M_hat))"
   ]
  },
  {
   "cell_type": "markdown",
   "metadata": {},
   "source": [
    "### Q6d"
   ]
  },
  {
   "cell_type": "code",
   "execution_count": null,
   "metadata": {},
   "outputs": [],
   "source": [
    "I = integrate.quad(f, a, b)[0]\n",
    "I"
   ]
  },
  {
   "cell_type": "markdown",
   "metadata": {},
   "source": [
    "### Q6e"
   ]
  },
  {
   "cell_type": "code",
   "execution_count": null,
   "metadata": {},
   "outputs": [],
   "source": [
    "E_M = I - M10\n",
    "E_M"
   ]
  },
  {
   "cell_type": "markdown",
   "metadata": {},
   "source": [
    "### Q6f"
   ]
  },
  {
   "cell_type": "code",
   "execution_count": null,
   "metadata": {},
   "outputs": [],
   "source": [
    "f = sp.exp(sp.cos(x))\n",
    "f_4prime = Nth_der(f, x, 4)\n",
    "f_4prime"
   ]
  },
  {
   "cell_type": "code",
   "execution_count": null,
   "metadata": {},
   "outputs": [],
   "source": [
    "f_4prime_func = lambda x: exp(cos(x))*((sin(x))**4 - 6*(sin(x))**2*cos(x) - 4*(sin(x))**2 + 3*(cos(x))**2 + cos(x) )"
   ]
  },
  {
   "cell_type": "code",
   "execution_count": null,
   "metadata": {},
   "outputs": [],
   "source": [
    "# Graph the function f_4prime_func\n",
    "\n",
    "# Enter your code here"
   ]
  },
  {
   "cell_type": "markdown",
   "metadata": {},
   "source": [
    "It follows from the graph that \n",
    "$$\n",
    "K_2 = \\max_{x\\in[0,2\\pi]}|f^{(4)}(x)| = \\max_{x\\in [0,2\\pi]}f^{(4)}(x)\n",
    "$$"
   ]
  },
  {
   "cell_type": "code",
   "execution_count": null,
   "metadata": {},
   "outputs": [],
   "source": [
    "K2 = max(f_4prime_func(x))\n",
    "K2"
   ]
  },
  {
   "cell_type": "markdown",
   "metadata": {},
   "source": [
    "### Q6g"
   ]
  },
  {
   "cell_type": "code",
   "execution_count": null,
   "metadata": {},
   "outputs": [],
   "source": [
    "f = lambda x: exp(cos(x))\n",
    "a = 0 \n",
    "b = 2*np.pi\n",
    "S10 = ... # Enter your code here\n",
    "print('An approximation of I is {}.'.format(S10))\n"
   ]
  },
  {
   "cell_type": "markdown",
   "metadata": {},
   "source": [
    "### Q6h"
   ]
  },
  {
   "cell_type": "code",
   "execution_count": null,
   "metadata": {},
   "outputs": [],
   "source": [
    "n = 10\n",
    "E_S_hat = K2*(b-a)**5/(180*n**4)\n",
    "print('The upper bound for E_S is {}.'.format(E_S_hat))"
   ]
  },
  {
   "cell_type": "markdown",
   "metadata": {},
   "source": [
    "### Q6i"
   ]
  },
  {
   "cell_type": "code",
   "execution_count": null,
   "metadata": {},
   "outputs": [],
   "source": [
    "E_S = I - S10\n",
    "E_S"
   ]
  },
  {
   "cell_type": "markdown",
   "metadata": {},
   "source": [
    "### Q6j"
   ]
  },
  {
   "cell_type": "code",
   "execution_count": null,
   "metadata": {},
   "outputs": [],
   "source": [
    "tol = 0.0001\n",
    "nfrac_S = (K2*(b-a)**5/(180*tol))**(1/4)\n",
    "n_S = int(nfrac_S)\n",
    "print('For the Simpson\\'s Rule, we need n_S = {} so that the approximation \\\n",
    "to our integral is accurate to within {}'.format(n_S+1, tol))"
   ]
  },
  {
   "cell_type": "markdown",
   "metadata": {},
   "source": [
    "## Question 7"
   ]
  },
  {
   "cell_type": "code",
   "execution_count": null,
   "metadata": {},
   "outputs": [],
   "source": [
    "# Enter the time data\n",
    "t = np.arange(0,6.5, 0.5)\n",
    "t"
   ]
  },
  {
   "cell_type": "code",
   "execution_count": null,
   "metadata": {},
   "outputs": [],
   "source": [
    "# Enter the power consumption \n",
    "P = np.array([1814, 1735, 1686, 1646, 1637, 1609, 1604, 1611, 1621, 1666, 1745, 1886, 2052])\n",
    "P"
   ]
  },
  {
   "cell_type": "code",
   "execution_count": null,
   "metadata": {},
   "outputs": [],
   "source": [
    "# To use the Simpson's rule we should define the integrand\n",
    "def f(x):\n",
    "    for i in range(len(t)-1):\n",
    "        if (t[i] <= x < t[i+1]):\n",
    "            y = P[i]\n",
    "    if x == 6:\n",
    "        y = P[len(t)-1]\n",
    "    return y"
   ]
  },
  {
   "cell_type": "code",
   "execution_count": null,
   "metadata": {},
   "outputs": [],
   "source": [
    "# It's your turn to use Simpson's rule to compute the energy.\n",
    "# Enter your code here\n"
   ]
  }
 ],
 "metadata": {
  "kernelspec": {
   "display_name": "Python 3",
   "language": "python",
   "name": "python3"
  },
  "language_info": {
   "codemirror_mode": {
    "name": "ipython",
    "version": 3
   },
   "file_extension": ".py",
   "mimetype": "text/x-python",
   "name": "python",
   "nbconvert_exporter": "python",
   "pygments_lexer": "ipython3",
   "version": "3.8.3"
  }
 },
 "nbformat": 4,
 "nbformat_minor": 4
}
