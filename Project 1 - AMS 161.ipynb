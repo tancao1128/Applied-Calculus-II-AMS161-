{
 "cells": [
  {
   "cell_type": "markdown",
   "metadata": {},
   "source": [
    "# Project 1: Area Functions\n",
    "\n",
    "There are 4 questions in this project. \n",
    "\n",
    "## Question1: \n",
    "This question has three parts: 1a, 1b, and 1c.\n",
    "\n",
    "### Q1a: \n",
    "Draw the line $y=2t+1$ and use geometry to find the area under this line, above the $t$-axis, and between the vertical lines $t=1$ and $t=3$. \n",
    "\n",
    "**Run the following code to get the shaded region $S$.**"
   ]
  },
  {
   "cell_type": "code",
   "execution_count": null,
   "metadata": {},
   "outputs": [],
   "source": [
    "import matplotlib.pyplot as plt\n",
    "import numpy as np\n",
    "\n",
    "# Define the line y = 2t+1\n",
    "y = lambda t: 2*t+1\n",
    "\n",
    "# Define the domain of t\n",
    "t = np.linspace(1, 3, endpoint=True)\n",
    "\n",
    "plt.plot(t, y(t), label = \"$y=2t+1$\")\n",
    "plt.plot(t, 0*t)\n",
    "plt.fill_between(t, y(t), edgecolor='b',alpha=0.2)\n",
    "plt.text(2, 0.5*y(2)  , \"$S$\",horizontalalignment='center', fontsize=20)\n",
    "plt.xlabel('t')               \n",
    "plt.ylabel('y')  \n",
    "plt.legend()\n",
    "plt.show()"
   ]
  },
  {
   "cell_type": "markdown",
   "metadata": {},
   "source": [
    "### Q1b:\n",
    "If $x>1$, let $A(x)$ be the area of the region that lies under the line $y=2t+1$ between $t=1$ and $t=x$. Sketch this region and use geometry to find an expression for $A(x)$. \n",
    "\n",
    "**Run the following code to get the shaded region $A(x)$.**"
   ]
  },
  {
   "cell_type": "code",
   "execution_count": null,
   "metadata": {},
   "outputs": [],
   "source": [
    "# You may change the value of x\n",
    "x = 2.8\n",
    "\n",
    "a = 1\n",
    "b = 3\n",
    "\n",
    "# Define the domain of t\n",
    "t = np.linspace(a, b, endpoint=True)\n",
    "\n",
    "T = np.linspace(a, x, endpoint=True)\n",
    "\n",
    "\n",
    "plt.plot(t, y(t), label = \"$y=2t+1$\")\n",
    "plt.plot(t, 0*t)\n",
    "plt.fill_between(T, y(T), edgecolor='b',alpha=0.2)\n",
    "plt.text((a+x)*0.5,  y((a+x)*0.5)*0.5 , \"$A(x)$\", horizontalalignment='center', fontsize=20)\n",
    "plt.xlabel('t')               \n",
    "plt.ylabel('y')  \n",
    "plt.legend()\n",
    "plt.xticks((a, b, x))\n",
    "plt.text(x, 0.1, \"$t=x$\", horizontalalignment='center',  fontsize=15)\n",
    "plt.show()"
   ]
  },
  {
   "cell_type": "markdown",
   "metadata": {},
   "source": [
    "### Q1c: \n",
    "Differentiate the area function $A(x)$. What do you notice? **Solve this question by hand and write your arguments in your own papers.**"
   ]
  },
  {
   "cell_type": "markdown",
   "metadata": {},
   "source": [
    "## Question 2:\n",
    "This question has 5 parts: 2a, 2b, 2c, 2d, 2e, and 2f. \n",
    "\n",
    "### Q2a:\n",
    "If $0\\le x\\le \\pi$, let $A(x)=\\int^x_0\\sin t\\;dt$, $A(x)$ represents the area of a region. Sketch that region. \n",
    "\n",
    "**Modify the code in question 1b to get the desired region in this question.**"
   ]
  },
  {
   "cell_type": "code",
   "execution_count": null,
   "metadata": {},
   "outputs": [],
   "source": [
    "# You may change the value of x\n",
    "x = 2.8\n",
    "y = lambda t: np.sin(t)\n",
    "a = 0\n",
    "b = np.pi\n",
    "\n",
    "# Define the domain of t\n",
    "# Enter your code here\n",
    "\n"
   ]
  },
  {
   "cell_type": "markdown",
   "metadata": {},
   "source": [
    "### Q2b: \n",
    "Use the Evaluation Theorem to find an expression for $A(x)$.\n",
    "\n",
    "**Run the following codes to get the expression of $A(x)$.**"
   ]
  },
  {
   "cell_type": "code",
   "execution_count": null,
   "metadata": {},
   "outputs": [],
   "source": [
    "import sympy as sp\n",
    "\n",
    "x, t, a, b = sp.symbols('x t a b')\n",
    "def eval_int(f, a, b): # input f as an expression with some symbol\n",
    "    F = sp.integrate(f,t)\n",
    "    ans = F.subs(t, b) - F.subs(t,a)\n",
    "    return ans"
   ]
  },
  {
   "cell_type": "code",
   "execution_count": null,
   "metadata": {},
   "outputs": [],
   "source": [
    "f = sp.sin(t)\n",
    "A = eval_int(f, 0, x)\n",
    "A"
   ]
  },
  {
   "cell_type": "markdown",
   "metadata": {},
   "source": [
    "### Q2c:\n",
    "Find $A'(x)$. What do you notice?\n",
    "\n",
    "**Run the following code to get $A'(x)$.**"
   ]
  },
  {
   "cell_type": "code",
   "execution_count": null,
   "metadata": {},
   "outputs": [],
   "source": [
    "A_prime = sp.diff(A,x)\n",
    "A_prime"
   ]
  },
  {
   "cell_type": "markdown",
   "metadata": {},
   "source": [
    "### Q2d: \n",
    "If $x$ is any number between $0$ and $\\pi$, and $h$ is a small positive number, then $A(x+h)-A(x)$ represents the area of a region. Describe and sketch the region.\n",
    "\n",
    "**Run the following code to get the desired region in this question.**"
   ]
  },
  {
   "cell_type": "code",
   "execution_count": null,
   "metadata": {},
   "outputs": [],
   "source": [
    "# You may change the value of x and h\n",
    "x = 2.5\n",
    "y = lambda t: np.sin(t)\n",
    "a = 0\n",
    "b = np.pi\n",
    "\n",
    "\n",
    "# Input the value of h\n",
    "h = 0.2\n",
    "\n",
    "# Define the domain of t\n",
    "t = np.linspace(a, b, endpoint=True)\n",
    "\n",
    "T = np.linspace(a, x + h, endpoint=True)\n",
    "\n",
    "plt.plot(t, y(t), label = \"$y= sin(x)$\")\n",
    "plt.plot(t, 0*t)\n",
    "xs = [x, x, x+h, x+h]\n",
    "ys = [0, y(x), y(x+h), 0]\n",
    "plt.fill(xs,ys,'b',edgecolor='b',alpha=0.2)\n",
    "\n",
    "plt.text((2*x+h)*0.5,  y((2*x+h)*0.5)+0.1 , \"$A(x+h)-A(x)$\",\n",
    "         horizontalalignment='center', fontsize=15)\n",
    "plt.text((2*x+h)*0.5, 0.1 , \"$h$\", horizontalalignment='center', fontsize=10)\n",
    "plt.xlabel('t')               \n",
    "plt.ylabel('y')  \n",
    "plt.legend()\n",
    "plt.xticks((a, b))\n",
    "plt.show()"
   ]
  },
  {
   "cell_type": "markdown",
   "metadata": {},
   "source": [
    "### Q2e & 2f:\n",
    "Solve by hand and write your answers in your own papers. "
   ]
  },
  {
   "cell_type": "markdown",
   "metadata": {},
   "source": [
    "## Question 3:\n",
    "This question has 4 parts: Q3a, 3b, 3c, and 3d.\n",
    "\n",
    "### Q3a:\n",
    "Draw the graph of the function $f(x) = \\cos(x^2)$ in the viewing rectangle $[0,2]$ by $[-1.25, 1.25]$. "
   ]
  },
  {
   "cell_type": "code",
   "execution_count": null,
   "metadata": {},
   "outputs": [],
   "source": [
    "x = np.linspace(0,2) # Range for x-coordinates\n",
    "f = lambda x: np.cos(x**2)\n",
    "plt.plot(x, f(x))\n",
    "plt.ylim(-1.25, 1.25) # Set the range of y-values displayed \n",
    "plt.title(\"The graph of function $f(x) = cos (x^2)$\")\n",
    "plt.xlabel(\"x-axis\")\n",
    "plt.ylabel(\"y-axis\")\n",
    "plt.show()\n"
   ]
  },
  {
   "cell_type": "markdown",
   "metadata": {},
   "source": [
    "### Q3b: \n",
    "If we define a new function $g$ by \n",
    "\t$$\n",
    "\tg(x) = \\int^x_0 \\cos(t^2)\\; dt\n",
    "\t$$\n",
    "\tthen $g(x)$ is the area under the graph of $f$ from 0 to $x$ [until $f(x)$ becomes negative, at which point $g(x)$ becomes a difference of areas.] Use part (a) to determine the value of $x$ at which $g(x)$ starts to decrease. [Unlike the integral in Problem 2, it is impossible to evaluate the integral defining $g$ to obtain an explicit expression for $g(x)$.]\n",
    "    \n",
    "**Run the following code to get the desired region in this question.**"
   ]
  },
  {
   "cell_type": "code",
   "execution_count": null,
   "metadata": {},
   "outputs": [],
   "source": [
    "# You may change the value of x\n",
    "x = 1.8\n",
    "f = lambda t: np.cos(t**2)\n",
    "a = 0\n",
    "b = 2\n",
    "\n",
    "# Define the domain of t\n",
    "t = np.linspace(a, b, endpoint=True)\n",
    "\n",
    "T = np.linspace(a, x, endpoint=True)\n",
    "\n",
    "\n",
    "plt.plot(t, f(t), label = \"$f(x)= cos(x^2)$\")\n",
    "plt.plot(t, 0*t)\n",
    "plt.fill_between(T, f(T), edgecolor='b',alpha=0.2)\n",
    "plt.text((a+x)*0.5,  f((a+x)*0.5)*0.5 , \"$g(x) = \\int^x_0 \\cos(t^2)dt$\",\n",
    "         horizontalalignment='center', fontsize=12)\n",
    "plt.xlabel('t')               \n",
    "plt.ylabel('y')  \n",
    "plt.legend()\n",
    "plt.xticks((a, b, x))\n",
    "plt.text(x, 0.1, \"$t=x$\", horizontalalignment='center',  fontsize=15)\n",
    "plt.show()"
   ]
  },
  {
   "cell_type": "markdown",
   "metadata": {},
   "source": [
    "### Q3c:\n",
    "Use the integration command in Python to estimate $g(0.2), g(0.4), g(0.6),$ $\\ldots, g(1.8), g(2)$. Then use these values to sketch a graph of $g$. "
   ]
  },
  {
   "cell_type": "code",
   "execution_count": null,
   "metadata": {},
   "outputs": [],
   "source": [
    "import scipy.integrate as integrate\n",
    "\n",
    "g = lambda x: integrate.quad(f, 0, x)[0] # Define the function g"
   ]
  },
  {
   "cell_type": "code",
   "execution_count": null,
   "metadata": {},
   "outputs": [],
   "source": [
    "# We first make an array listing all elements: 0.2, 0.4, ..., 2.\n",
    "t = np.arange(0, 2.2, 0.2) \n",
    "t"
   ]
  },
  {
   "cell_type": "code",
   "execution_count": null,
   "metadata": {},
   "outputs": [],
   "source": [
    "# Vectorize the function g\n",
    "vg = np.vectorize(g) \n",
    "# Compute the values g(t)\n",
    "vg(t)"
   ]
  },
  {
   "cell_type": "code",
   "execution_count": null,
   "metadata": {},
   "outputs": [],
   "source": [
    "# Sketch the graph of g\n",
    "plt.plot(t, vg(t), '-', t, vg(t), 'o')\n",
    "plt.xlabel('x')\n",
    "plt.ylabel('y')\n",
    "#plt.xticks(t)\n",
    "plt.show()"
   ]
  },
  {
   "cell_type": "markdown",
   "metadata": {},
   "source": [
    "### Q3d:\n",
    "\n",
    "Use your graph of $g$ from part (c) to sketch the graph of $g'$ using the interpretation of $g'(x)$ as the slope of a tangent line. How does the graph of $g'$ compare with the graph of $f$?"
   ]
  },
  {
   "cell_type": "code",
   "execution_count": null,
   "metadata": {},
   "outputs": [],
   "source": [
    "# Compute the values of g'(x) on each subinterval. \n",
    "g_prime = np.zeros(len(t)-1)\n",
    "\n",
    "for i in range(len(t)-1):\n",
    "    g_prime[i] = (vg(t[i+1]) - vg(t[i]))/(t[i+1]-t[i])\n",
    "\n",
    "g_prime\n",
    "    "
   ]
  },
  {
   "cell_type": "code",
   "execution_count": null,
   "metadata": {},
   "outputs": [],
   "source": [
    "# Graph g' as a piecewise constant function on [0,2]\n",
    "\n",
    "def g_prime_func(x):\n",
    "    for i in range(len(t)-1):\n",
    "        if (t[i] <= x < t[i+1]):\n",
    "            y = g_prime[i]\n",
    "    if x == 2:\n",
    "        y = g_prime[len(t)-2]\n",
    "    return y\n",
    "    "
   ]
  },
  {
   "cell_type": "code",
   "execution_count": null,
   "metadata": {},
   "outputs": [],
   "source": [
    "# You may try to compute several values of g_prime_func.\n",
    "g_prime_func(0)\n"
   ]
  },
  {
   "cell_type": "code",
   "execution_count": null,
   "metadata": {
    "scrolled": true
   },
   "outputs": [],
   "source": [
    "# Vectorize the function g'\n",
    "vg_prime = np.vectorize(g_prime_func) \n",
    "T = np.arange(0, 2.2, 0.2) \n",
    "\n",
    "# Sketch the graph of g'\n",
    "plt.plot(T, vg_prime(T), '-')\n",
    "plt.plot(T, vg_prime(T), 'o')\n",
    "plt.xlabel('x')\n",
    "plt.ylabel('y')\n",
    "plt.grid(True)\n",
    "\n",
    "plt.show()"
   ]
  },
  {
   "cell_type": "code",
   "execution_count": null,
   "metadata": {},
   "outputs": [],
   "source": [
    "# You may compare with the graph of f now.\n",
    "# Sketch the graph of g' and f\n",
    "T = np.arange(0, 2.2, 0.2) \n",
    "x = np.linspace(0,2)\n",
    "plt.plot(T, vg_prime(T), '-', label = \"graph of g'\")\n",
    "plt.plot(T, vg_prime(T), 'o')\n",
    "plt.plot(T, f(T), label = \"graph of f\")\n",
    "plt.xlabel('x')\n",
    "plt.ylabel('y')\n",
    "plt.legend()\n",
    "plt.show()"
   ]
  },
  {
   "cell_type": "markdown",
   "metadata": {},
   "source": [
    "### Q3e plus: This part is optional and is for 8 extra credits.\n",
    "Repeat parts (c) and (d) with evaluating \n",
    "$$\n",
    "g(0), g(0.05), g(0.1), g(0.15), \\ldots, g(1.95), g(2.00)\n",
    "$$"
   ]
  },
  {
   "cell_type": "code",
   "execution_count": null,
   "metadata": {},
   "outputs": [],
   "source": [
    "t = np.arange(0, 2.05, 0.05) \n",
    "\n",
    "# Compute the values of g'(x) on each subinterval. \n",
    "g_prime = np.zeros(len(t)-1)\n",
    "\n",
    "for i in range(len(t)-1):\n",
    "    g_prime[i] = (vg(t[i+1]) - vg(t[i]))/(t[i+1]-t[i])\n",
    "\n",
    "g_prime"
   ]
  },
  {
   "cell_type": "code",
   "execution_count": null,
   "metadata": {},
   "outputs": [],
   "source": [
    "# There is no need to define the function g_prim_func() again.\n",
    "g_prime_func(0) # Try to test several values of this function. "
   ]
  },
  {
   "cell_type": "code",
   "execution_count": null,
   "metadata": {},
   "outputs": [],
   "source": [
    "T = np.arange(0, 2.05, 0.05) \n",
    "\n",
    "# Sketch the graph of g'\n",
    "# Enter your code here "
   ]
  },
  {
   "cell_type": "code",
   "execution_count": null,
   "metadata": {},
   "outputs": [],
   "source": [
    "# You may compare with the graph of f now.\n",
    "# Sketch the graph of g' and f\n",
    "T = np.arange(0, 2.05, 0.05) \n",
    "# Enter your code here"
   ]
  },
  {
   "cell_type": "markdown",
   "metadata": {},
   "source": [
    "## Question 4:\n",
    "\n",
    "Show all your work in your own paper. \n",
    "\n",
    "If you can give a mathematical proof for this question, you will get 4 extra credits.\n"
   ]
  },
  {
   "cell_type": "code",
   "execution_count": null,
   "metadata": {},
   "outputs": [],
   "source": []
  }
 ],
 "metadata": {
  "kernelspec": {
   "display_name": "Python 3",
   "language": "python",
   "name": "python3"
  },
  "language_info": {
   "codemirror_mode": {
    "name": "ipython",
    "version": 3
   },
   "file_extension": ".py",
   "mimetype": "text/x-python",
   "name": "python",
   "nbconvert_exporter": "python",
   "pygments_lexer": "ipython3",
   "version": "3.8.3"
  }
 },
 "nbformat": 4,
 "nbformat_minor": 2
}
