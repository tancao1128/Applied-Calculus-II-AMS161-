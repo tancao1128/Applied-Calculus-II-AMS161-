{
 "cells": [
  {
   "cell_type": "markdown",
   "metadata": {},
   "source": [
    "# Lecture 7: Integration by Parts"
   ]
  },
  {
   "cell_type": "markdown",
   "metadata": {},
   "source": [
    "Our goal is to calculate the integral $S_n = \\displaystyle\\int^{\\pi/2}_0\\sin^nx\\;dx$ for $n\\ge2$."
   ]
  },
  {
   "cell_type": "code",
   "execution_count": 3,
   "metadata": {},
   "outputs": [
    {
     "name": "stdout",
     "output_type": "stream",
     "text": [
      "(0.9999999999999999, 1.1102230246251564e-14)\n",
      "(0.7853981633974483, 8.71967124502158e-15)\n"
     ]
    }
   ],
   "source": [
    "import scipy.integrate as integrate\n",
    "import scipy.special as special\n",
    "import numpy as np\n",
    "\n",
    "\n",
    "S_1 = integrate.quad(lambda x: np.sin(x), 0, np.pi/2)\n",
    "S_2 = integrate.quad(lambda x: np.sin(x)**2, 0, np.pi/2)\n",
    "print(S_1)\n",
    "print(S_2)"
   ]
  },
  {
   "cell_type": "markdown",
   "metadata": {},
   "source": [
    "We can evaluate $S_1$ and $S_2$ by the **Evaluation Theorem**."
   ]
  },
  {
   "cell_type": "code",
   "execution_count": 4,
   "metadata": {},
   "outputs": [],
   "source": [
    "import sympy as sp\n",
    "\n",
    "x, a, b, n = sp.symbols('x a b n')\n",
    "def eval_int(f, a, b): # input f as an expression with some symbol\n",
    "    F = sp.integrate(f,x)\n",
    "    ans = F.subs(x, b) - F.subs(x,a)\n",
    "    return ans, F"
   ]
  },
  {
   "cell_type": "code",
   "execution_count": 5,
   "metadata": {},
   "outputs": [
    {
     "name": "stdout",
     "output_type": "stream",
     "text": [
      "(1.00000000000000, -cos(x))\n",
      "(0.785398163397448, x/2 - sin(x)*cos(x)/2)\n"
     ]
    }
   ],
   "source": [
    "f_1 = sp.sin(x)\n",
    "f_2 = sp.sin(x)**2\n",
    "S_1 = eval_int(f_1, 0, np.pi/2)\n",
    "S_2 = eval_int(f_2, 0, np.pi/2)\n",
    "print(S_1)\n",
    "print(S_2)"
   ]
  },
  {
   "cell_type": "markdown",
   "metadata": {},
   "source": [
    "Write a function to return $$F_n = \\displaystyle\\int\\sin^nx\\;dx$$\n",
    "and \n",
    "$$ S_n = \\displaystyle\\int^{\\pi/2}_0\\sin^nx\\;dx.$$"
   ]
  },
  {
   "cell_type": "code",
   "execution_count": 6,
   "metadata": {},
   "outputs": [],
   "source": [
    "def sin_int(k):\n",
    "    f = sp.zeros(1, k+1)\n",
    "    F = sp.zeros(1, k+1)\n",
    "    S = np.zeros(k+1)\n",
    "    for n in range(k+1):\n",
    "        f[n] = sp.sin(x)**n\n",
    "        if n>2:\n",
    "            F[n] = -1/n*sp.cos(x)*sp.sin(x)**(n-1) + ((n-1)/n)*F[n-2]\n",
    "            S[n] = ((n-1)/n)*S[n-2]\n",
    "        else:\n",
    "            F[n] = sp.integrate(f[n],x)\n",
    "            S[n] = eval_int(f[n], 0, np.pi/2)[0]\n",
    "    return F[k], S[k]"
   ]
  },
  {
   "cell_type": "code",
   "execution_count": 7,
   "metadata": {},
   "outputs": [
    {
     "name": "stdout",
     "output_type": "stream",
     "text": [
      "0.08851198384821932\n"
     ]
    }
   ],
   "source": [
    "F, S = sin_int(200)\n",
    "print(S)"
   ]
  },
  {
   "cell_type": "code",
   "execution_count": 8,
   "metadata": {},
   "outputs": [
    {
     "data": {
      "text/latex": [
       "$\\displaystyle 0.0563484790092564 x - 0.005 \\sin^{199}{\\left(x \\right)} \\cos{\\left(x \\right)} - 0.00502525252525253 \\sin^{197}{\\left(x \\right)} \\cos{\\left(x \\right)} - 0.00505089156874871 \\sin^{195}{\\left(x \\right)} \\cos{\\left(x \\right)} - 0.00507692709229896 \\sin^{193}{\\left(x \\right)} \\cos{\\left(x \\right)} - 0.00510336942090469 \\sin^{191}{\\left(x \\right)} \\cos{\\left(x \\right)} - 0.00513022925996208 \\sin^{189}{\\left(x \\right)} \\cos{\\left(x \\right)} - 0.00515751771347252 \\sin^{187}{\\left(x \\right)} \\cos{\\left(x \\right)} - 0.0051852463033299 \\sin^{185}{\\left(x \\right)} \\cos{\\left(x \\right)} - 0.00521342698976104 \\sin^{183}{\\left(x \\right)} \\cos{\\left(x \\right)} - 0.00524207219300148 \\sin^{181}{\\left(x \\right)} \\cos{\\left(x \\right)} - 0.00527119481629593 \\sin^{179}{\\left(x \\right)} \\cos{\\left(x \\right)} - 0.00530080827032007 \\sin^{177}{\\left(x \\right)} \\cos{\\left(x \\right)} - 0.0053309264991287 \\sin^{175}{\\left(x \\right)} \\cos{\\left(x \\right)} - 0.00536156400774439 \\sin^{173}{\\left(x \\right)} \\cos{\\left(x \\right)} - 0.00539273589151034 \\sin^{171}{\\left(x \\right)} \\cos{\\left(x \\right)} - 0.00542445786734276 \\sin^{169}{\\left(x \\right)} \\cos{\\left(x \\right)} - 0.00545674630702932 \\sin^{167}{\\left(x \\right)} \\cos{\\left(x \\right)} - 0.00548961827273432 \\sin^{165}{\\left(x \\right)} \\cos{\\left(x \\right)} - 0.00552309155488514 \\sin^{163}{\\left(x \\right)} \\cos{\\left(x \\right)} - 0.00555718471263134 \\sin^{161}{\\left(x \\right)} \\cos{\\left(x \\right)} - 0.00559191711708529 \\sin^{159}{\\left(x \\right)} \\cos{\\left(x \\right)} - 0.00562730899757317 \\sin^{157}{\\left(x \\right)} \\cos{\\left(x \\right)} - 0.00566338149114735 \\sin^{155}{\\left(x \\right)} \\cos{\\left(x \\right)} - 0.00570015669563533 \\sin^{153}{\\left(x \\right)} \\cos{\\left(x \\right)} - 0.00573765772652766 \\sin^{151}{\\left(x \\right)} \\cos{\\left(x \\right)} - 0.00577590877803785 \\sin^{149}{\\left(x \\right)} \\cos{\\left(x \\right)} - 0.00581493518870026 \\sin^{147}{\\left(x \\right)} \\cos{\\left(x \\right)} - 0.00585476351191054 \\sin^{145}{\\left(x \\right)} \\cos{\\left(x \\right)} - 0.00589542159185436 \\sin^{143}{\\left(x \\right)} \\cos{\\left(x \\right)} - 0.00593693864531813 \\sin^{141}{\\left(x \\right)} \\cos{\\left(x \\right)} - 0.00597934534992754 \\sin^{139}{\\left(x \\right)} \\cos{\\left(x \\right)} - 0.00602267393941977 \\sin^{137}{\\left(x \\right)} \\cos{\\left(x \\right)} - 0.00606695830662139 \\sin^{135}{\\left(x \\right)} \\cos{\\left(x \\right)} - 0.00611223411487975 \\sin^{133}{\\left(x \\right)} \\cos{\\left(x \\right)} - 0.00615853891878036 \\sin^{131}{\\left(x \\right)} \\cos{\\left(x \\right)} - 0.00620591229507867 \\sin^{129}{\\left(x \\right)} \\cos{\\left(x \\right)} - 0.00625439598488397 \\sin^{127}{\\left(x \\right)} \\cos{\\left(x \\right)} - 0.00630403404825607 \\sin^{125}{\\left(x \\right)} \\cos{\\left(x \\right)} - 0.0063548730325162 \\sin^{123}{\\left(x \\right)} \\cos{\\left(x \\right)} - 0.00640696215573354 \\sin^{121}{\\left(x \\right)} \\cos{\\left(x \\right)} - 0.00646035350703132 \\sin^{119}{\\left(x \\right)} \\cos{\\left(x \\right)} - 0.00651510226556549 \\sin^{117}{\\left(x \\right)} \\cos{\\left(x \\right)} - 0.00657126694026864 \\sin^{115}{\\left(x \\right)} \\cos{\\left(x \\right)} - 0.00662890963272713 \\sin^{113}{\\left(x \\right)} \\cos{\\left(x \\right)} - 0.00668809632587649 \\sin^{111}{\\left(x \\right)} \\cos{\\left(x \\right)} - 0.00674889720156627 \\sin^{109}{\\left(x \\right)} \\cos{\\left(x \\right)} - 0.00681138699046966 \\sin^{107}{\\left(x \\right)} \\cos{\\left(x \\right)} - 0.00687564535830428 \\sin^{105}{\\left(x \\right)} \\cos{\\left(x \\right)} - 0.00694175733290336 \\sin^{103}{\\left(x \\right)} \\cos{\\left(x \\right)} - 0.00700981377734359 \\sin^{101}{\\left(x \\right)} \\cos{\\left(x \\right)} - 0.00707991191511703 \\sin^{99}{\\left(x \\right)} \\cos{\\left(x \\right)} - 0.00715215591425087 \\sin^{97}{\\left(x \\right)} \\cos{\\left(x \\right)} - 0.00722665753835765 \\sin^{95}{\\left(x \\right)} \\cos{\\left(x \\right)} - 0.0073035368738721 \\sin^{93}{\\left(x \\right)} \\cos{\\left(x \\right)} - 0.00738292314424027 \\sin^{91}{\\left(x \\right)} \\cos{\\left(x \\right)} - 0.00746495562362072 \\sin^{89}{\\left(x \\right)} \\cos{\\left(x \\right)} - 0.00754978466479823 \\sin^{87}{\\left(x \\right)} \\cos{\\left(x \\right)} - 0.00763757285857495 \\sin^{85}{\\left(x \\right)} \\cos{\\left(x \\right)} - 0.00772849634498656 \\sin^{83}{\\left(x \\right)} \\cos{\\left(x \\right)} - 0.00782274630041322 \\sin^{81}{\\left(x \\right)} \\cos{\\left(x \\right)} - 0.00792053062916839 \\sin^{79}{\\left(x \\right)} \\cos{\\left(x \\right)} - 0.0080220758936449 \\sin^{77}{\\left(x \\right)} \\cos{\\left(x \\right)} - 0.00812762952382445 \\sin^{75}{\\left(x \\right)} \\cos{\\left(x \\right)} - 0.00823746235522748 \\sin^{73}{\\left(x \\right)} \\cos{\\left(x \\right)} - 0.00835187155460564 \\sin^{71}{\\left(x \\right)} \\cos{\\left(x \\right)} - 0.00847118400538572 \\sin^{69}{\\left(x \\right)} \\cos{\\left(x \\right)} - 0.00859576024075903 \\sin^{67}{\\left(x \\right)} \\cos{\\left(x \\right)} - 0.00872599903228569 \\sin^{65}{\\left(x \\right)} \\cos{\\left(x \\right)} - 0.00886234276716515 \\sin^{63}{\\left(x \\right)} \\cos{\\left(x \\right)} - 0.00900528377953879 \\sin^{61}{\\left(x \\right)} \\cos{\\left(x \\right)} - 0.0091553718425311 \\sin^{59}{\\left(x \\right)} \\cos{\\left(x \\right)} - 0.00931322308119542 \\sin^{57}{\\left(x \\right)} \\cos{\\left(x \\right)} - 0.00947953063621677 \\sin^{55}{\\left(x \\right)} \\cos{\\left(x \\right)} - 0.00965507749985042 \\sin^{53}{\\left(x \\right)} \\cos{\\left(x \\right)} - 0.00984075206715524 \\sin^{51}{\\left(x \\right)} \\cos{\\left(x \\right)} - 0.0100375671084983 \\sin^{49}{\\left(x \\right)} \\cos{\\left(x \\right)} - 0.0102466830899254 \\sin^{47}{\\left(x \\right)} \\cos{\\left(x \\right)} - 0.0104694370701412 \\sin^{45}{\\left(x \\right)} \\cos{\\left(x \\right)} - 0.0107073788217353 \\sin^{43}{\\left(x \\right)} \\cos{\\left(x \\right)} - 0.010962316412729 \\sin^{41}{\\left(x \\right)} \\cos{\\left(x \\right)} - 0.0112363743230472 \\sin^{39}{\\left(x \\right)} \\cos{\\left(x \\right)} - 0.01153206838418 \\sin^{37}{\\left(x \\right)} \\cos{\\left(x \\right)} - 0.0118524036170739 \\sin^{35}{\\left(x \\right)} \\cos{\\left(x \\right)} - 0.0122010037234584 \\sin^{33}{\\left(x \\right)} \\cos{\\left(x \\right)} - 0.0125822850898165 \\sin^{31}{\\left(x \\right)} \\cos{\\left(x \\right)} - 0.0130016945928104 \\sin^{29}{\\left(x \\right)} \\cos{\\left(x \\right)} - 0.0134660408282679 \\sin^{27}{\\left(x \\right)} \\cos{\\left(x \\right)} - 0.013983965475509 \\sin^{25}{\\left(x \\right)} \\cos{\\left(x \\right)} - 0.0145666307036552 \\sin^{23}{\\left(x \\right)} \\cos{\\left(x \\right)} - 0.0152287502810941 \\sin^{21}{\\left(x \\right)} \\cos{\\left(x \\right)} - 0.0159901877951488 \\sin^{19}{\\left(x \\right)} \\cos{\\left(x \\right)} - 0.0168785315615459 \\sin^{17}{\\left(x \\right)} \\cos{\\left(x \\right)} - 0.0179334397841425 \\sin^{15}{\\left(x \\right)} \\cos{\\left(x \\right)} - 0.0192143997687241 \\sin^{13}{\\left(x \\right)} \\cos{\\left(x \\right)} - 0.0208155997494512 \\sin^{11}{\\left(x \\right)} \\cos{\\left(x \\right)} - 0.0228971597243963 \\sin^{9}{\\left(x \\right)} \\cos{\\left(x \\right)} - 0.0257593046899458 \\sin^{7}{\\left(x \\right)} \\cos{\\left(x \\right)} - 0.0300525221382701 \\sin^{5}{\\left(x \\right)} \\cos{\\left(x \\right)} - 0.0375656526728377 \\sin^{3}{\\left(x \\right)} \\cos{\\left(x \\right)} - 0.0563484790092564 \\sin{\\left(x \\right)} \\cos{\\left(x \\right)}$"
      ],
      "text/plain": [
       "0.0563484790092564*x - 0.005*sin(x)**199*cos(x) - 0.00502525252525253*sin(x)**197*cos(x) - 0.00505089156874871*sin(x)**195*cos(x) - 0.00507692709229896*sin(x)**193*cos(x) - 0.00510336942090469*sin(x)**191*cos(x) - 0.00513022925996208*sin(x)**189*cos(x) - 0.00515751771347252*sin(x)**187*cos(x) - 0.0051852463033299*sin(x)**185*cos(x) - 0.00521342698976104*sin(x)**183*cos(x) - 0.00524207219300148*sin(x)**181*cos(x) - 0.00527119481629593*sin(x)**179*cos(x) - 0.00530080827032007*sin(x)**177*cos(x) - 0.0053309264991287*sin(x)**175*cos(x) - 0.00536156400774439*sin(x)**173*cos(x) - 0.00539273589151034*sin(x)**171*cos(x) - 0.00542445786734276*sin(x)**169*cos(x) - 0.00545674630702932*sin(x)**167*cos(x) - 0.00548961827273432*sin(x)**165*cos(x) - 0.00552309155488514*sin(x)**163*cos(x) - 0.00555718471263134*sin(x)**161*cos(x) - 0.00559191711708529*sin(x)**159*cos(x) - 0.00562730899757317*sin(x)**157*cos(x) - 0.00566338149114735*sin(x)**155*cos(x) - 0.00570015669563533*sin(x)**153*cos(x) - 0.00573765772652766*sin(x)**151*cos(x) - 0.00577590877803785*sin(x)**149*cos(x) - 0.00581493518870026*sin(x)**147*cos(x) - 0.00585476351191054*sin(x)**145*cos(x) - 0.00589542159185436*sin(x)**143*cos(x) - 0.00593693864531813*sin(x)**141*cos(x) - 0.00597934534992754*sin(x)**139*cos(x) - 0.00602267393941977*sin(x)**137*cos(x) - 0.00606695830662139*sin(x)**135*cos(x) - 0.00611223411487975*sin(x)**133*cos(x) - 0.00615853891878036*sin(x)**131*cos(x) - 0.00620591229507867*sin(x)**129*cos(x) - 0.00625439598488397*sin(x)**127*cos(x) - 0.00630403404825607*sin(x)**125*cos(x) - 0.0063548730325162*sin(x)**123*cos(x) - 0.00640696215573354*sin(x)**121*cos(x) - 0.00646035350703132*sin(x)**119*cos(x) - 0.00651510226556549*sin(x)**117*cos(x) - 0.00657126694026864*sin(x)**115*cos(x) - 0.00662890963272713*sin(x)**113*cos(x) - 0.00668809632587649*sin(x)**111*cos(x) - 0.00674889720156627*sin(x)**109*cos(x) - 0.00681138699046966*sin(x)**107*cos(x) - 0.00687564535830428*sin(x)**105*cos(x) - 0.00694175733290336*sin(x)**103*cos(x) - 0.00700981377734359*sin(x)**101*cos(x) - 0.00707991191511703*sin(x)**99*cos(x) - 0.00715215591425087*sin(x)**97*cos(x) - 0.00722665753835765*sin(x)**95*cos(x) - 0.0073035368738721*sin(x)**93*cos(x) - 0.00738292314424027*sin(x)**91*cos(x) - 0.00746495562362072*sin(x)**89*cos(x) - 0.00754978466479823*sin(x)**87*cos(x) - 0.00763757285857495*sin(x)**85*cos(x) - 0.00772849634498656*sin(x)**83*cos(x) - 0.00782274630041322*sin(x)**81*cos(x) - 0.00792053062916839*sin(x)**79*cos(x) - 0.0080220758936449*sin(x)**77*cos(x) - 0.00812762952382445*sin(x)**75*cos(x) - 0.00823746235522748*sin(x)**73*cos(x) - 0.00835187155460564*sin(x)**71*cos(x) - 0.00847118400538572*sin(x)**69*cos(x) - 0.00859576024075903*sin(x)**67*cos(x) - 0.00872599903228569*sin(x)**65*cos(x) - 0.00886234276716515*sin(x)**63*cos(x) - 0.00900528377953879*sin(x)**61*cos(x) - 0.0091553718425311*sin(x)**59*cos(x) - 0.00931322308119542*sin(x)**57*cos(x) - 0.00947953063621677*sin(x)**55*cos(x) - 0.00965507749985042*sin(x)**53*cos(x) - 0.00984075206715524*sin(x)**51*cos(x) - 0.0100375671084983*sin(x)**49*cos(x) - 0.0102466830899254*sin(x)**47*cos(x) - 0.0104694370701412*sin(x)**45*cos(x) - 0.0107073788217353*sin(x)**43*cos(x) - 0.010962316412729*sin(x)**41*cos(x) - 0.0112363743230472*sin(x)**39*cos(x) - 0.01153206838418*sin(x)**37*cos(x) - 0.0118524036170739*sin(x)**35*cos(x) - 0.0122010037234584*sin(x)**33*cos(x) - 0.0125822850898165*sin(x)**31*cos(x) - 0.0130016945928104*sin(x)**29*cos(x) - 0.0134660408282679*sin(x)**27*cos(x) - 0.013983965475509*sin(x)**25*cos(x) - 0.0145666307036552*sin(x)**23*cos(x) - 0.0152287502810941*sin(x)**21*cos(x) - 0.0159901877951488*sin(x)**19*cos(x) - 0.0168785315615459*sin(x)**17*cos(x) - 0.0179334397841425*sin(x)**15*cos(x) - 0.0192143997687241*sin(x)**13*cos(x) - 0.0208155997494512*sin(x)**11*cos(x) - 0.0228971597243963*sin(x)**9*cos(x) - 0.0257593046899458*sin(x)**7*cos(x) - 0.0300525221382701*sin(x)**5*cos(x) - 0.0375656526728377*sin(x)**3*cos(x) - 0.0563484790092564*sin(x)*cos(x)"
      ]
     },
     "execution_count": 8,
     "metadata": {},
     "output_type": "execute_result"
    }
   ],
   "source": [
    "F"
   ]
  },
  {
   "cell_type": "code",
   "execution_count": null,
   "metadata": {},
   "outputs": [],
   "source": []
  },
  {
   "cell_type": "code",
   "execution_count": null,
   "metadata": {},
   "outputs": [],
   "source": []
  }
 ],
 "metadata": {
  "kernelspec": {
   "display_name": "Python 3",
   "language": "python",
   "name": "python3"
  },
  "language_info": {
   "codemirror_mode": {
    "name": "ipython",
    "version": 3
   },
   "file_extension": ".py",
   "mimetype": "text/x-python",
   "name": "python",
   "nbconvert_exporter": "python",
   "pygments_lexer": "ipython3",
   "version": "3.8.3"
  }
 },
 "nbformat": 4,
 "nbformat_minor": 2
}
